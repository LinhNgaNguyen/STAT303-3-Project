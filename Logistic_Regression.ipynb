{
  "nbformat": 4,
  "nbformat_minor": 0,
  "metadata": {
    "colab": {
      "provenance": []
    },
    "kernelspec": {
      "name": "python3",
      "display_name": "Python 3"
    },
    "language_info": {
      "name": "python"
    }
  },
  "cells": [
    {
      "cell_type": "code",
      "execution_count": 49,
      "metadata": {
        "id": "TB994mN2tsij"
      },
      "outputs": [],
      "source": [
        "import pandas as pd\n",
        "import numpy as np\n",
        "import seaborn as sns\n",
        "import matplotlib.pyplot as plt\n",
        "import xgboost as xgb\n",
        "import itertools as it\n",
        "\n",
        "from sklearn.model_selection import train_test_split, cross_val_predict, cross_val_score, cross_validate\n",
        "from sklearn.linear_model import LogisticRegression, LinearRegression\n",
        "from sklearn.metrics import classification_report, confusion_matrix, roc_curve, auc, precision_recall_curve\n",
        "from sklearn.linear_model import Ridge, RidgeCV, Lasso, LassoCV\n",
        "from sklearn.preprocessing import StandardScaler \n",
        "from sklearn.metrics import r2_score\n",
        "from sklearn.metrics import mean_squared_error\n",
        "from sklearn.metrics import accuracy_score, roc_curve, auc, precision_score, recall_score, confusion_matrix\n",
        "from sklearn.model_selection import StratifiedKFold, KFold\n",
        "from sklearn.metrics import mean_absolute_error\n",
        "from sklearn.model_selection import GridSearchCV, cross_val_predict, RandomizedSearchCV\n",
        "from sklearn.ensemble import BaggingRegressor,BaggingClassifier,RandomForestRegressor,RandomForestClassifier, AdaBoostRegressor, AdaBoostClassifier, GradientBoostingRegressor, GradientBoostingClassifier\n",
        "from sklearn.neighbors import KNeighborsClassifier, KNeighborsRegressor\n",
        "from sklearn.tree import DecisionTreeClassifier, DecisionTreeRegressor\n",
        "from sklearn.impute import KNNImputer\n",
        "from sklearn import preprocessing\n",
        "from sklearn import metrics\n",
        "from sklearn.feature_selection import SequentialFeatureSelector, SelectKBest, f_regression\n",
        "import warnings\n",
        "np.warnings.filterwarnings('ignore')"
      ]
    },
    {
      "cell_type": "code",
      "source": [
        "# Loading test and train data\n",
        "train = pd.read_csv('train_clean.csv')\n",
        "test = pd.read_csv('test_clean.csv')"
      ],
      "metadata": {
        "id": "mSnSSQg_tv0m"
      },
      "execution_count": 50,
      "outputs": []
    },
    {
      "cell_type": "code",
      "source": [
        "train = train.drop(['Unnamed: 0'],axis=1)\n",
        "test = test.drop(['Unnamed: 0'],axis=1)"
      ],
      "metadata": {
        "id": "JYIp7VQxYI09"
      },
      "execution_count": 51,
      "outputs": []
    },
    {
      "cell_type": "code",
      "source": [
        "# Separate into test and train\n",
        "y_train = train.target\n",
        "X_train = train.drop(\"target\", axis = 1)\n",
        "\n",
        "y_test = test.target\n",
        "X_test = test.drop('target', axis = 1)\n",
        "\n",
        "X_train_columns = X_train.columns\n",
        "X_test_columns = X_test.columns"
      ],
      "metadata": {
        "id": "fOKEGOr7MOzT"
      },
      "execution_count": 52,
      "outputs": []
    },
    {
      "cell_type": "code",
      "source": [
        "# Scale the data\n",
        "scaler = StandardScaler().fit(X_train)\n",
        "X_train = pd.DataFrame(scaler.transform(X_train), columns = X_train_columns)\n",
        "X_test = pd.DataFrame(scaler.transform(X_test), columns = X_train_columns)"
      ],
      "metadata": {
        "id": "hzecsW5lMSfJ"
      },
      "execution_count": 53,
      "outputs": []
    },
    {
      "cell_type": "code",
      "source": [
        "# Create a model object - not trained yet\n",
        "logreg = LogisticRegression()\n",
        "\n",
        "# Train the model\n",
        "logreg.fit(X_train, y_train)"
      ],
      "metadata": {
        "colab": {
          "base_uri": "https://localhost:8080/",
          "height": 75
        },
        "id": "tn-QHyO7t2hj",
        "outputId": "7eb235d5-646d-42d7-8fc7-02fe3478e0f0"
      },
      "execution_count": 54,
      "outputs": [
        {
          "output_type": "execute_result",
          "data": {
            "text/plain": [
              "LogisticRegression()"
            ],
            "text/html": [
              "<style>#sk-container-id-3 {color: black;background-color: white;}#sk-container-id-3 pre{padding: 0;}#sk-container-id-3 div.sk-toggleable {background-color: white;}#sk-container-id-3 label.sk-toggleable__label {cursor: pointer;display: block;width: 100%;margin-bottom: 0;padding: 0.3em;box-sizing: border-box;text-align: center;}#sk-container-id-3 label.sk-toggleable__label-arrow:before {content: \"▸\";float: left;margin-right: 0.25em;color: #696969;}#sk-container-id-3 label.sk-toggleable__label-arrow:hover:before {color: black;}#sk-container-id-3 div.sk-estimator:hover label.sk-toggleable__label-arrow:before {color: black;}#sk-container-id-3 div.sk-toggleable__content {max-height: 0;max-width: 0;overflow: hidden;text-align: left;background-color: #f0f8ff;}#sk-container-id-3 div.sk-toggleable__content pre {margin: 0.2em;color: black;border-radius: 0.25em;background-color: #f0f8ff;}#sk-container-id-3 input.sk-toggleable__control:checked~div.sk-toggleable__content {max-height: 200px;max-width: 100%;overflow: auto;}#sk-container-id-3 input.sk-toggleable__control:checked~label.sk-toggleable__label-arrow:before {content: \"▾\";}#sk-container-id-3 div.sk-estimator input.sk-toggleable__control:checked~label.sk-toggleable__label {background-color: #d4ebff;}#sk-container-id-3 div.sk-label input.sk-toggleable__control:checked~label.sk-toggleable__label {background-color: #d4ebff;}#sk-container-id-3 input.sk-hidden--visually {border: 0;clip: rect(1px 1px 1px 1px);clip: rect(1px, 1px, 1px, 1px);height: 1px;margin: -1px;overflow: hidden;padding: 0;position: absolute;width: 1px;}#sk-container-id-3 div.sk-estimator {font-family: monospace;background-color: #f0f8ff;border: 1px dotted black;border-radius: 0.25em;box-sizing: border-box;margin-bottom: 0.5em;}#sk-container-id-3 div.sk-estimator:hover {background-color: #d4ebff;}#sk-container-id-3 div.sk-parallel-item::after {content: \"\";width: 100%;border-bottom: 1px solid gray;flex-grow: 1;}#sk-container-id-3 div.sk-label:hover label.sk-toggleable__label {background-color: #d4ebff;}#sk-container-id-3 div.sk-serial::before {content: \"\";position: absolute;border-left: 1px solid gray;box-sizing: border-box;top: 0;bottom: 0;left: 50%;z-index: 0;}#sk-container-id-3 div.sk-serial {display: flex;flex-direction: column;align-items: center;background-color: white;padding-right: 0.2em;padding-left: 0.2em;position: relative;}#sk-container-id-3 div.sk-item {position: relative;z-index: 1;}#sk-container-id-3 div.sk-parallel {display: flex;align-items: stretch;justify-content: center;background-color: white;position: relative;}#sk-container-id-3 div.sk-item::before, #sk-container-id-3 div.sk-parallel-item::before {content: \"\";position: absolute;border-left: 1px solid gray;box-sizing: border-box;top: 0;bottom: 0;left: 50%;z-index: -1;}#sk-container-id-3 div.sk-parallel-item {display: flex;flex-direction: column;z-index: 1;position: relative;background-color: white;}#sk-container-id-3 div.sk-parallel-item:first-child::after {align-self: flex-end;width: 50%;}#sk-container-id-3 div.sk-parallel-item:last-child::after {align-self: flex-start;width: 50%;}#sk-container-id-3 div.sk-parallel-item:only-child::after {width: 0;}#sk-container-id-3 div.sk-dashed-wrapped {border: 1px dashed gray;margin: 0 0.4em 0.5em 0.4em;box-sizing: border-box;padding-bottom: 0.4em;background-color: white;}#sk-container-id-3 div.sk-label label {font-family: monospace;font-weight: bold;display: inline-block;line-height: 1.2em;}#sk-container-id-3 div.sk-label-container {text-align: center;}#sk-container-id-3 div.sk-container {/* jupyter's `normalize.less` sets `[hidden] { display: none; }` but bootstrap.min.css set `[hidden] { display: none !important; }` so we also need the `!important` here to be able to override the default hidden behavior on the sphinx rendered scikit-learn.org. See: https://github.com/scikit-learn/scikit-learn/issues/21755 */display: inline-block !important;position: relative;}#sk-container-id-3 div.sk-text-repr-fallback {display: none;}</style><div id=\"sk-container-id-3\" class=\"sk-top-container\"><div class=\"sk-text-repr-fallback\"><pre>LogisticRegression()</pre><b>In a Jupyter environment, please rerun this cell to show the HTML representation or trust the notebook. <br />On GitHub, the HTML representation is unable to render, please try loading this page with nbviewer.org.</b></div><div class=\"sk-container\" hidden><div class=\"sk-item\"><div class=\"sk-estimator sk-toggleable\"><input class=\"sk-toggleable__control sk-hidden--visually\" id=\"sk-estimator-id-3\" type=\"checkbox\" checked><label for=\"sk-estimator-id-3\" class=\"sk-toggleable__label sk-toggleable__label-arrow\">LogisticRegression</label><div class=\"sk-toggleable__content\"><pre>LogisticRegression()</pre></div></div></div></div></div>"
            ]
          },
          "metadata": {},
          "execution_count": 54
        }
      ]
    },
    {
      "cell_type": "code",
      "source": [
        "# Use coef_ to return the coefficients - only log reg inference you can do with sklearn\n",
        "print(logreg.coef_) "
      ],
      "metadata": {
        "colab": {
          "base_uri": "https://localhost:8080/"
        },
        "id": "1-_TqMPqt_9L",
        "outputId": "4895ee0a-1cc9-45e9-d63c-2501ac2d5922"
      },
      "execution_count": 55,
      "outputs": [
        {
          "output_type": "stream",
          "name": "stdout",
          "text": [
            "[[-1.08118757e+00  1.08929963e-01  4.88798339e-01 -2.50027234e-01\n",
            "   1.42340805e-01 -1.50062497e-01  5.58427565e-01  3.96802992e-01\n",
            "   3.55824641e-01  1.73667311e-01  3.05392090e-01 -5.22995299e-01\n",
            "  -3.62124152e-01  1.25913420e-01  1.53894906e-01 -4.45887034e-02\n",
            "   2.87604505e-01 -3.39592174e-01 -2.71641218e-01 -1.08553818e-01\n",
            "  -2.04737702e+00  1.24208102e-01  6.24605824e-02  4.27120871e-01\n",
            "  -1.94921024e-01  3.90959261e-02 -2.51780239e-01  4.43498248e-01\n",
            "   7.78110937e-02  3.11713362e-01  2.43759640e-01 -1.43542826e-01\n",
            "  -1.04390746e-01  2.45761067e-01 -2.62347815e-02  2.26329740e-01\n",
            "   1.23958245e-02 -4.16046333e-01  9.46671015e-02 -1.88455224e-02\n",
            "   1.29591824e-03  1.48976817e-01  6.18653391e-02 -3.23987032e-01\n",
            "   2.55334219e-01  1.48249426e-01  1.88828201e-01 -2.41778012e-01\n",
            "   1.55425179e-01 -1.82218923e-02 -1.04288885e-01 -1.26653376e-01\n",
            "  -2.28742108e-01 -1.90587680e-01 -1.91746291e-01 -9.78851298e-02\n",
            "   2.57798534e-02  5.87336018e-02 -5.92511224e-02  8.01468364e-01\n",
            "  -3.01955262e-01  5.80964477e-02  1.76294408e-02 -4.31985596e-02\n",
            "  -2.21160855e-01  1.64651536e-01  4.36322595e-01  5.97125583e-02\n",
            "   1.43016048e-01 -9.05923504e-04  1.93667435e-01  2.95765065e-03\n",
            "  -6.12697518e-01 -9.74661031e-02  2.36350517e-02 -9.21634414e-02\n",
            "   7.51149677e-02 -1.20649229e-02 -9.98979177e-01  1.71559642e-01\n",
            "  -6.25456872e-02  4.08282157e-02  5.68124501e-02  5.00209485e-03\n",
            "   3.69226577e-01  5.04073631e-02 -4.77821883e-01 -5.05673376e-01\n",
            "  -7.00802925e-02  5.36964675e-02  1.15657946e+00 -5.97599947e-02\n",
            "   6.33604559e-02 -1.41099504e-01 -1.01228717e-01  8.79875838e-02\n",
            "   1.58029668e-01 -6.79905014e-02  2.35408007e-02  1.07391129e-01\n",
            "  -3.96183342e-02 -2.62942197e-02 -5.77969813e-02 -2.70288834e-01\n",
            "  -2.69759235e-01  3.21849662e-01  1.16240228e-01 -7.08416590e-02\n",
            "   9.36799348e-02 -8.45786910e-02 -8.21085297e-02  1.86884028e-01\n",
            "  -7.23248904e-01  7.53092676e-02 -7.62001602e-02 -3.58778603e-02\n",
            "   7.98162967e-02 -2.80930060e-01  9.60828784e-03  2.16053648e-01\n",
            "  -3.13465473e-02 -2.57149355e-01  7.79960600e-02  2.47681929e-02\n",
            "  -1.86406374e-02  8.51188746e-02 -4.31419902e-02  3.35106246e-01\n",
            "  -4.28263959e-01 -2.58895740e-01 -1.02841622e-01  8.69449163e-02\n",
            "   6.05176772e-03 -5.24215826e-02 -6.48394764e-02  1.40457305e-01\n",
            "   4.39023212e-02  7.51966461e-02  2.41913257e-01 -2.33069588e-01\n",
            "  -2.87103081e-01  3.57991907e-01 -2.06738422e-01  3.25369916e-01\n",
            "  -1.31512392e-01  4.35400240e-02  1.60018222e-01 -1.31009739e-01\n",
            "   9.73334214e-02 -5.44885979e-01  4.87903011e-02 -3.44651319e-01\n",
            "  -8.66887519e-02 -1.34766332e-01  8.15751405e-02 -7.35445747e-03\n",
            "   9.08678338e-02 -6.21931419e-01  9.33376285e-02  7.17559137e-01\n",
            "  -3.12093137e-01  7.73411105e-02  7.52773200e-02]]\n"
          ]
        }
      ]
    },
    {
      "cell_type": "code",
      "source": [
        "# Get the predicted classes first\n",
        "y_pred = logreg.predict(X_test)\n",
        "\n",
        "# Use the predicted and true classes for accuracy\n",
        "print(accuracy_score(y_pred, y_test)*100) "
      ],
      "metadata": {
        "colab": {
          "base_uri": "https://localhost:8080/"
        },
        "id": "hsuUIK2GuDVF",
        "outputId": "7bc88646-7c0b-47c1-9253-307afbaffdd5"
      },
      "execution_count": 56,
      "outputs": [
        {
          "output_type": "stream",
          "name": "stdout",
          "text": [
            "86.14\n"
          ]
        }
      ]
    },
    {
      "cell_type": "code",
      "source": [
        "# Use .score with test predictors and response to get the accuracy\n",
        "# Implements the same thing under the hood\n",
        "print(logreg.score(X_test, y_test)*100)  "
      ],
      "metadata": {
        "colab": {
          "base_uri": "https://localhost:8080/"
        },
        "id": "CJ08kaFKuGrY",
        "outputId": "73f40cd6-9838-4eb8-9d85-74dad1b91020"
      },
      "execution_count": 57,
      "outputs": [
        {
          "output_type": "stream",
          "name": "stdout",
          "text": [
            "86.14\n"
          ]
        }
      ]
    },
    {
      "cell_type": "code",
      "source": [
        "#Computing the predicted probability for the observation to belong to the positive class (y=1);\n",
        "#The 2nd column in the output of predict_proba() consists of the probability of the observation to \n",
        "#belong to the positive class (y=1)\n",
        "y_pred_prob = logreg.predict_proba(X_test)[:,1] \n",
        "\n",
        "#Using the predicted probability computed above to find ROC-AUC\n",
        "fpr, tpr, auc_thresholds = roc_curve(y_test, y_pred_prob)\n",
        "print(auc(fpr, tpr))# AUC of ROC"
      ],
      "metadata": {
        "colab": {
          "base_uri": "https://localhost:8080/"
        },
        "id": "4kMP6QLkuNSk",
        "outputId": "c7d72b86-9e2a-46b2-e434-819e9301b908"
      },
      "execution_count": 58,
      "outputs": [
        {
          "output_type": "stream",
          "name": "stdout",
          "text": [
            "0.9129735600920138\n"
          ]
        }
      ]
    },
    {
      "cell_type": "code",
      "source": [
        "#Confusion matrix\n",
        "cm = pd.DataFrame(confusion_matrix(y_test, y_pred), columns=['Predicted 0', 'Predicted 1'], \n",
        "            index = ['Actual 0', 'Actual 1'])\n",
        "sns.heatmap(cm, annot=True, cmap='Blues', fmt='g');\n",
        "\n",
        "print(\"Precision: \", precision_score(y_test, y_pred))\n",
        "print(\"Recall: \", recall_score(y_test, y_pred))\n",
        "print(\"Accuracy: \", accuracy_score(y_test, y_pred))"
      ],
      "metadata": {
        "colab": {
          "base_uri": "https://localhost:8080/",
          "height": 484
        },
        "id": "Wz-GsX-ouQ-1",
        "outputId": "34b33e85-4b1c-4851-9f87-ba8133f4ad33"
      },
      "execution_count": 59,
      "outputs": [
        {
          "output_type": "stream",
          "name": "stdout",
          "text": [
            "Precision:  0.7782874617737003\n",
            "Recall:  0.7163969035890219\n",
            "Accuracy:  0.8614\n"
          ]
        },
        {
          "output_type": "display_data",
          "data": {
            "text/plain": [
              "<Figure size 640x480 with 2 Axes>"
            ],
            "image/png": "[encoded data removed]"
          },
          "metadata": {}
        }
      ]
    },
    {
      "cell_type": "code",
      "source": [
        "# Finding cross-validation error for trees\n",
        "param_grid = {    \n",
        "    'C': 10**np.linspace(-10, 10),\n",
        "}\n",
        "\n",
        "cv = StratifiedKFold(n_splits=5)\n",
        "\n",
        "grid_search_model = GridSearchCV(LogisticRegression(random_state = 1), param_grid = param_grid, \n",
        "                                       scoring = ['accuracy', 'recall'], refit = 'recall', n_jobs=-1, verbose=True,\n",
        "                                       cv=cv)\n",
        "\n",
        "grid_search_model.fit(X_train, y_train)\n",
        "\n",
        "# make the predictions\n",
        "y_pred = grid_search_model.predict(X_test)\n",
        "\n",
        "print('Train accuracy : %.3f'%grid_search_model.best_estimator_.score(X_train, y_train))\n",
        "print('Test accuracy : %.3f'%grid_search_model.best_estimator_.score(X_test, y_test))\n",
        "print('Best accuracy Through Grid Search : %.3f'%grid_search_model.best_score_)\n",
        "\n",
        "print('Best params for recall')\n",
        "print(grid_search_model.best_params_)"
      ],
      "metadata": {
        "colab": {
          "base_uri": "https://localhost:8080/"
        },
        "id": "uDIELiLjuhGs",
        "outputId": "00e4ac07-f7ce-41b0-be80-0676f8eee3b2"
      },
      "execution_count": 60,
      "outputs": [
        {
          "output_type": "stream",
          "name": "stdout",
          "text": [
            "Fitting 5 folds for each of 50 candidates, totalling 250 fits\n",
            "Train accuracy : 0.910\n",
            "Test accuracy : 0.865\n",
            "Best accuracy Through Grid Search : 0.725\n",
            "Best params for recall\n",
            "{'C': 0.014563484775012445}\n"
          ]
        }
      ]
    },
    {
      "cell_type": "code",
      "source": [
        "tree = LogisticRegression(random_state=1, C = 0.014563484775012445).fit(X_train, y_train)\n",
        "\n",
        "cross_val_ypred = cross_val_predict(LogisticRegression(random_state=1, C = 0.014563484775012445), X_train, \n",
        "                                              y_train, cv = 5, method = 'predict_proba')\n",
        "\n",
        "metrics = pd.DataFrame()\n",
        "i = 0\n",
        "threshold_hyperparam = np.arange(0, 1.01, 0.001)\n",
        "\n",
        "for threshold in threshold_hyperparam:\n",
        "  predicted = cross_val_ypred[:, 1] > threshold\n",
        "  predicted = predicted.astype(int)\n",
        "\n",
        "  accuracy = accuracy_score(predicted, y_train)*100\n",
        "  metrics.loc[i, 'threshold'] = threshold\n",
        "  metrics.loc[i, 'accuracy'] = accuracy\n",
        "  metrics.loc[i, 'recall'] = recall_score(y_train, predicted)*100\n",
        "  \n",
        "  i = i + 1"
      ],
      "metadata": {
        "id": "E_LJGV3svXGD"
      },
      "execution_count": 61,
      "outputs": []
    },
    {
      "cell_type": "code",
      "source": [
        "metrics.loc[(metrics.accuracy>=85) & (metrics.recall>85), :].sort_values(by = 'recall', ascending = False).iloc[0,:]"
      ],
      "metadata": {
        "colab": {
          "base_uri": "https://localhost:8080/"
        },
        "id": "nCbtSOiQvpBb",
        "outputId": "7cf41579-d49c-46fd-b2c3-901e800a3fc9"
      },
      "execution_count": 62,
      "outputs": [
        {
          "output_type": "execute_result",
          "data": {
            "text/plain": [
              "threshold     0.193000\n",
              "accuracy     85.000000\n",
              "recall       87.818253\n",
              "Name: 193, dtype: float64"
            ]
          },
          "metadata": {},
          "execution_count": 62
        }
      ]
    },
    {
      "cell_type": "code",
      "source": [
        "metrics.loc[(metrics.accuracy>=85) & (metrics.recall>85), :].sort_values(by = 'accuracy', ascending = False).iloc[0,:]"
      ],
      "metadata": {
        "colab": {
          "base_uri": "https://localhost:8080/"
        },
        "id": "GLdxcD0czSwY",
        "outputId": "cd2e731f-5acc-4442-dd50-94377e278ac2"
      },
      "execution_count": 63,
      "outputs": [
        {
          "output_type": "execute_result",
          "data": {
            "text/plain": [
              "threshold     0.245000\n",
              "accuracy     86.050000\n",
              "recall       85.076381\n",
              "Name: 245, dtype: float64"
            ]
          },
          "metadata": {},
          "execution_count": 63
        }
      ]
    },
    {
      "cell_type": "code",
      "source": [
        "metrics.iloc[range(225,235),:]"
      ],
      "metadata": {
        "colab": {
          "base_uri": "https://localhost:8080/",
          "height": 363
        },
        "id": "HPRGgn4qT7Om",
        "outputId": "754ddcdc-1caf-417c-bc2e-94d537ec913e"
      },
      "execution_count": 69,
      "outputs": [
        {
          "output_type": "execute_result",
          "data": {
            "text/plain": [
              "     threshold  accuracy     recall\n",
              "225      0.225     85.80  86.251469\n",
              "226      0.226     85.84  86.212299\n",
              "227      0.227     85.86  86.212299\n",
              "228      0.228     85.86  86.094790\n",
              "229      0.229     85.87  85.938112\n",
              "230      0.230     85.88  85.938112\n",
              "231      0.231     85.89  85.859773\n",
              "232      0.232     85.89  85.820603\n",
              "233      0.233     85.91  85.820603\n",
              "234      0.234     85.96  85.781434"
            ],
            "text/html": [
              "\n",
              "  <div id=\"df-f157d353-a122-48e6-8863-4cb02b3e6999\">\n",
              "    <div class=\"colab-df-container\">\n",
              "      <div>\n",
              "<style scoped>\n",
              "    .dataframe tbody tr th:only-of-type {\n",
              "        vertical-align: middle;\n",
              "    }\n",
              "\n",
              "    .dataframe tbody tr th {\n",
              "        vertical-align: top;\n",
              "    }\n",
              "\n",
              "    .dataframe thead th {\n",
              "        text-align: right;\n",
              "    }\n",
              "</style>\n",
              "<table border=\"1\" class=\"dataframe\">\n",
              "  <thead>\n",
              "    <tr style=\"text-align: right;\">\n",
              "      <th></th>\n",
              "      <th>threshold</th>\n",
              "      <th>accuracy</th>\n",
              "      <th>recall</th>\n",
              "    </tr>\n",
              "  </thead>\n",
              "  <tbody>\n",
              "    <tr>\n",
              "      <th>225</th>\n",
              "      <td>0.225</td>\n",
              "      <td>85.80</td>\n",
              "      <td>86.251469</td>\n",
              "    </tr>\n",
              "    <tr>\n",
              "      <th>226</th>\n",
              "      <td>0.226</td>\n",
              "      <td>85.84</td>\n",
              "      <td>86.212299</td>\n",
              "    </tr>\n",
              "    <tr>\n",
              "      <th>227</th>\n",
              "      <td>0.227</td>\n",
              "      <td>85.86</td>\n",
              "      <td>86.212299</td>\n",
              "    </tr>\n",
              "    <tr>\n",
              "      <th>228</th>\n",
              "      <td>0.228</td>\n",
              "      <td>85.86</td>\n",
              "      <td>86.094790</td>\n",
              "    </tr>\n",
              "    <tr>\n",
              "      <th>229</th>\n",
              "      <td>0.229</td>\n",
              "      <td>85.87</td>\n",
              "      <td>85.938112</td>\n",
              "    </tr>\n",
              "    <tr>\n",
              "      <th>230</th>\n",
              "      <td>0.230</td>\n",
              "      <td>85.88</td>\n",
              "      <td>85.938112</td>\n",
              "    </tr>\n",
              "    <tr>\n",
              "      <th>231</th>\n",
              "      <td>0.231</td>\n",
              "      <td>85.89</td>\n",
              "      <td>85.859773</td>\n",
              "    </tr>\n",
              "    <tr>\n",
              "      <th>232</th>\n",
              "      <td>0.232</td>\n",
              "      <td>85.89</td>\n",
              "      <td>85.820603</td>\n",
              "    </tr>\n",
              "    <tr>\n",
              "      <th>233</th>\n",
              "      <td>0.233</td>\n",
              "      <td>85.91</td>\n",
              "      <td>85.820603</td>\n",
              "    </tr>\n",
              "    <tr>\n",
              "      <th>234</th>\n",
              "      <td>0.234</td>\n",
              "      <td>85.96</td>\n",
              "      <td>85.781434</td>\n",
              "    </tr>\n",
              "  </tbody>\n",
              "</table>\n",
              "</div>\n",
              "      <button class=\"colab-df-convert\" onclick=\"convertToInteractive('df-f157d353-a122-48e6-8863-4cb02b3e6999')\"\n",
              "              title=\"Convert this dataframe to an interactive table.\"\n",
              "              style=\"display:none;\">\n",
              "        \n",
              "  <svg xmlns=\"http://www.w3.org/2000/svg\" height=\"24px\"viewBox=\"0 0 24 24\"\n",
              "       width=\"24px\">\n",
              "    <path d=\"M0 0h24v24H0V0z\" fill=\"none\"/>\n",
              "    <path d=\"M18.56 5.44l.94 2.06.94-2.06 2.06-.94-2.06-.94-.94-2.06-.94 2.06-2.06.94zm-11 1L8.5 8.5l.94-2.06 2.06-.94-2.06-.94L8.5 2.5l-.94 2.06-2.06.94zm10 10l.94 2.06.94-2.06 2.06-.94-2.06-.94-.94-2.06-.94 2.06-2.06.94z\"/><path d=\"M17.41 7.96l-1.37-1.37c-.4-.4-.92-.59-1.43-.59-.52 0-1.04.2-1.43.59L10.3 9.45l-7.72 7.72c-.78.78-.78 2.05 0 2.83L4 21.41c.39.39.9.59 1.41.59.51 0 1.02-.2 1.41-.59l7.78-7.78 2.81-2.81c.8-.78.8-2.07 0-2.86zM5.41 20L4 18.59l7.72-7.72 1.47 1.35L5.41 20z\"/>\n",
              "  </svg>\n",
              "      </button>\n",
              "      \n",
              "  <style>\n",
              "    .colab-df-container {\n",
              "      display:flex;\n",
              "      flex-wrap:wrap;\n",
              "      gap: 12px;\n",
              "    }\n",
              "\n",
              "    .colab-df-convert {\n",
              "      background-color: #E8F0FE;\n",
              "      border: none;\n",
              "      border-radius: 50%;\n",
              "      cursor: pointer;\n",
              "      display: none;\n",
              "      fill: #1967D2;\n",
              "      height: 32px;\n",
              "      padding: 0 0 0 0;\n",
              "      width: 32px;\n",
              "    }\n",
              "\n",
              "    .colab-df-convert:hover {\n",
              "      background-color: #E2EBFA;\n",
              "      box-shadow: 0px 1px 2px rgba(60, 64, 67, 0.3), 0px 1px 3px 1px rgba(60, 64, 67, 0.15);\n",
              "      fill: #174EA6;\n",
              "    }\n",
              "\n",
              "    [theme=dark] .colab-df-convert {\n",
              "      background-color: #3B4455;\n",
              "      fill: #D2E3FC;\n",
              "    }\n",
              "\n",
              "    [theme=dark] .colab-df-convert:hover {\n",
              "      background-color: #434B5C;\n",
              "      box-shadow: 0px 1px 3px 1px rgba(0, 0, 0, 0.15);\n",
              "      filter: drop-shadow(0px 1px 2px rgba(0, 0, 0, 0.3));\n",
              "      fill: #FFFFFF;\n",
              "    }\n",
              "  </style>\n",
              "\n",
              "      <script>\n",
              "        const buttonEl =\n",
              "          document.querySelector('#df-f157d353-a122-48e6-8863-4cb02b3e6999 button.colab-df-convert');\n",
              "        buttonEl.style.display =\n",
              "          google.colab.kernel.accessAllowed ? 'block' : 'none';\n",
              "\n",
              "        async function convertToInteractive(key) {\n",
              "          const element = document.querySelector('#df-f157d353-a122-48e6-8863-4cb02b3e6999');\n",
              "          const dataTable =\n",
              "            await google.colab.kernel.invokeFunction('convertToInteractive',\n",
              "                                                     [key], {});\n",
              "          if (!dataTable) return;\n",
              "\n",
              "          const docLinkHtml = 'Like what you see? Visit the ' +\n",
              "            '<a target=\"_blank\" href=https://colab.research.google.com/notebooks/data_table.ipynb>data table notebook</a>'\n",
              "            + ' to learn more about interactive tables.';\n",
              "          element.innerHTML = '';\n",
              "          dataTable['output_type'] = 'display_data';\n",
              "          await google.colab.output.renderOutput(dataTable, element);\n",
              "          const docLink = document.createElement('div');\n",
              "          docLink.innerHTML = docLinkHtml;\n",
              "          element.appendChild(docLink);\n",
              "        }\n",
              "      </script>\n",
              "    </div>\n",
              "  </div>\n",
              "  "
            ]
          },
          "metadata": {},
          "execution_count": 69
        }
      ]
    },
    {
      "cell_type": "code",
      "source": [
        "tree = LogisticRegression(random_state=1, C = 0.014563484775012445).fit(X_train, y_train)\n",
        "\n",
        "\n",
        "tree.fit(X_train, y_train)\n",
        "\n",
        "p, r, thresholds = precision_recall_curve(y_train, cross_val_ypred[:,1])\n",
        "accuracy_list = []\n",
        "\n",
        "for t in thresholds:\n",
        "  y_pred_prob = tree.predict_proba(X_train)[:,1]\n",
        "  y_pred = y_pred_prob > t\n",
        "  y_pred = y_pred.astype(int)\n",
        "  accuracy = (accuracy_score(y_pred, y_train))\n",
        "  accuracy_list.append(accuracy)\n",
        "\n",
        "def plot_accuracy_recall_vs_threshold(accuracy, recalls, thresholds):\n",
        "  plt.figure(figsize=(8,8))\n",
        "  plt.title(\"Accuracy and Recall Scores as a function of the decision threshold\")\n",
        "  plt.plot(thresholds, accuracy_list, \"b--\", label = \"Accuracy\")\n",
        "  plt.plot(thresholds, recalls[:-1], 'g-', label = \"Recall\")\n",
        "  plt.plot(thresholds, accuracy_list, 'o', color = 'blue')\n",
        "  plt.plot(thresholds, recalls[:-1], 'o', color = 'green')\n",
        "  plt.ylabel('Score')\n",
        "  plt.xlabel('Decision Threshold')\n",
        "  plt.legend(loc='best')\n",
        "  plt.legend()\n",
        "plot_accuracy_recall_vs_threshold(accuracy_list, r, thresholds)"
      ],
      "metadata": {
        "colab": {
          "base_uri": "https://localhost:8080/",
          "height": 718
        },
        "id": "P8QdGioyv1Zt",
        "outputId": "4b4dec8f-b744-4a94-bb56-101f09ba398e"
      },
      "execution_count": 70,
      "outputs": [
        {
          "output_type": "display_data",
          "data": {
            "text/plain": [
              "<Figure size 800x800 with 1 Axes>"
            ],
            "image/png": "[encoded data removed]"
          },
          "metadata": {}
        }
      ]
    },
    {
      "cell_type": "code",
      "source": [
        "# Performance metrics computation for the optimum decision threshold probability\n",
        "desired_threshold = 0.231\n",
        "\n",
        "tree.fit(X_train, y_train)\n",
        "\n",
        "y_pred_prob = tree.predict_proba(X_train)[:,1] \n",
        "\n",
        "# Classifying observations in the positive class (y = 1) if the predicted probability is greater\n",
        "# than the desired decision threshold probability\n",
        "y_pred = y_pred_prob > desired_threshold\n",
        "y_pred = y_pred.astype(int)\n",
        "\n",
        "#Computing the accuracy\n",
        "print(\"Accuracy: \",accuracy_score(y_pred, y_train)*100)  \n",
        "\n",
        "#Computing the ROC-AUC\n",
        "fpr, tpr, auc_thresholds = roc_curve(y_train, y_pred_prob)\n",
        "print(\"ROC-AUC: \",auc(fpr, tpr))# AUC of ROC\n",
        "\n",
        "#Computing the precision and recall\n",
        "print(\"Precision: \", precision_score(y_train, y_pred))\n",
        "print(\"Recall: \", recall_score(y_train, y_pred))\n",
        "\n",
        "#Confusion matrix\n",
        "cm = pd.DataFrame(confusion_matrix(y_train, y_pred), \n",
        "                  columns=['Predicted 0', 'Predicted 1'], index = ['Actual 0', 'Actual 1'])\n",
        "sns.heatmap(cm, annot=True, cmap='Blues', fmt='g');"
      ],
      "metadata": {
        "colab": {
          "base_uri": "https://localhost:8080/",
          "height": 501
        },
        "id": "VSEAXveCv25r",
        "outputId": "7d31cd93-ab83-4544-87ad-1eca62ff4893"
      },
      "execution_count": 71,
      "outputs": [
        {
          "output_type": "stream",
          "name": "stdout",
          "text": [
            "Accuracy:  88.55\n",
            "ROC-AUC:  0.964604605539677\n",
            "Precision:  0.7137219186399514\n",
            "Recall:  0.9208773991382687\n"
          ]
        },
        {
          "output_type": "display_data",
          "data": {
            "text/plain": [
              "<Figure size 640x480 with 2 Axes>"
            ],
            "image/png": "[encoded data removed]"
          },
          "metadata": {}
        }
      ]
    },
    {
      "cell_type": "code",
      "source": [
        "# Performance metrics computation for the optimum decision threshold probability\n",
        "desired_threshold = 0.231\n",
        "\n",
        "tree.fit(X_train, y_train)\n",
        "\n",
        "y_pred_prob = tree.predict_proba(X_test)[:,1] \n",
        "\n",
        "# Classifying observations in the positive class (y = 1) if the predicted probability is greater\n",
        "# than the desired decision threshold probability\n",
        "y_pred = y_pred_prob > desired_threshold\n",
        "y_pred = y_pred.astype(int)\n",
        "\n",
        "#Computing the accuracy\n",
        "print(\"Accuracy: \",accuracy_score(y_pred, y_test)*100)  \n",
        "\n",
        "#Computing the ROC-AUC\n",
        "fpr, tpr, auc_thresholds = roc_curve(y_test, y_pred_prob)\n",
        "print(\"ROC-AUC: \",auc(fpr, tpr))# AUC of ROC\n",
        "\n",
        "#Computing the precision and recall\n",
        "print(\"Precision: \", precision_score(y_test, y_pred))\n",
        "print(\"Recall: \", recall_score(y_test, y_pred))\n",
        "\n",
        "#Confusion matrix\n",
        "cm = pd.DataFrame(confusion_matrix(y_test, y_pred), \n",
        "                  columns=['Predicted 0', 'Predicted 1'], index = ['Actual 0', 'Actual 1'])\n",
        "sns.heatmap(cm, annot=True, cmap='Blues', fmt='g');"
      ],
      "metadata": {
        "colab": {
          "base_uri": "https://localhost:8080/",
          "height": 501
        },
        "id": "FBN9G_NVwAxt",
        "outputId": "7402484c-7179-44e3-c97e-cf47bcaa03db"
      },
      "execution_count": 72,
      "outputs": [
        {
          "output_type": "stream",
          "name": "stdout",
          "text": [
            "Accuracy:  85.42999999999999\n",
            "ROC-AUC:  0.9230603534300387\n",
            "Precision:  0.6966770803748935\n",
            "Recall:  0.8631245601688952\n"
          ]
        },
        {
          "output_type": "display_data",
          "data": {
            "text/plain": [
              "<Figure size 640x480 with 2 Axes>"
            ],
            "image/png": "[encoded data removed]"
          },
          "metadata": {}
        }
      ]
    }
  ]
}