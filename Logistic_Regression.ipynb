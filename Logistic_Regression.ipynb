{
  "nbformat": 4,
  "nbformat_minor": 0,
  "metadata": {
    "colab": {
      "provenance": []
    },
    "kernelspec": {
      "name": "python3",
      "display_name": "Python 3"
    },
    "language_info": {
      "name": "python"
    }
  },
  "cells": [
    {
      "cell_type": "code",
      "execution_count": 121,
      "metadata": {
        "id": "TB994mN2tsij"
      },
      "outputs": [],
      "source": [
        "import pandas as pd\n",
        "import numpy as np\n",
        "import seaborn as sns\n",
        "import matplotlib.pyplot as plt\n",
        "import xgboost as xgb\n",
        "import itertools as it\n",
        "\n",
        "from sklearn.model_selection import train_test_split, cross_val_predict, cross_val_score, cross_validate\n",
        "from sklearn.linear_model import LogisticRegression, LinearRegression\n",
        "from sklearn.metrics import classification_report, confusion_matrix, roc_curve, auc, precision_recall_curve\n",
        "from sklearn.linear_model import Ridge, RidgeCV, Lasso, LassoCV\n",
        "from sklearn.preprocessing import StandardScaler \n",
        "from sklearn.metrics import r2_score\n",
        "from sklearn.metrics import mean_squared_error\n",
        "from sklearn.metrics import accuracy_score, roc_curve, auc, precision_score, recall_score, confusion_matrix\n",
        "from sklearn.model_selection import StratifiedKFold, KFold\n",
        "from sklearn.metrics import mean_absolute_error\n",
        "from sklearn.model_selection import GridSearchCV, cross_val_predict, RandomizedSearchCV\n",
        "from sklearn.ensemble import BaggingRegressor,BaggingClassifier,RandomForestRegressor,RandomForestClassifier, AdaBoostRegressor, AdaBoostClassifier, GradientBoostingRegressor, GradientBoostingClassifier\n",
        "from sklearn.neighbors import KNeighborsClassifier, KNeighborsRegressor\n",
        "from sklearn.tree import DecisionTreeClassifier, DecisionTreeRegressor\n",
        "from sklearn.impute import KNNImputer\n",
        "from sklearn import preprocessing\n",
        "from sklearn import metrics\n",
        "from sklearn.feature_selection import SequentialFeatureSelector, SelectKBest, f_regression\n",
        "import warnings\n",
        "np.warnings.filterwarnings('ignore')"
      ]
    },
    {
      "cell_type": "code",
      "source": [
        "# Loading test and train data\n",
        "train = pd.read_csv('train_clean.csv')\n",
        "test = pd.read_csv('test_clean.csv')"
      ],
      "metadata": {
        "id": "mSnSSQg_tv0m"
      },
      "execution_count": 122,
      "outputs": []
    },
    {
      "cell_type": "code",
      "source": [
        "train = train.drop(['Unnamed: 0'],axis=1)\n",
        "test = test.drop(['Unnamed: 0'],axis=1)"
      ],
      "metadata": {
        "id": "JYIp7VQxYI09"
      },
      "execution_count": 123,
      "outputs": []
    },
    {
      "cell_type": "code",
      "source": [
        "# Separate into test and train\n",
        "y_train = train.target\n",
        "X_train = train.drop(\"target\", axis = 1)\n",
        "\n",
        "y_test = test.target\n",
        "X_test = test.drop('target', axis = 1)\n",
        "\n",
        "X_train_columns = X_train.columns\n",
        "X_test_columns = X_test.columns"
      ],
      "metadata": {
        "id": "fOKEGOr7MOzT"
      },
      "execution_count": 124,
      "outputs": []
    },
    {
      "cell_type": "code",
      "source": [
        "# Scale the data\n",
        "scaler = StandardScaler().fit(X_train)\n",
        "X_train = pd.DataFrame(scaler.transform(X_train), columns = X_train_columns)\n",
        "X_test = pd.DataFrame(scaler.transform(X_test), columns = X_train_columns)"
      ],
      "metadata": {
        "id": "hzecsW5lMSfJ"
      },
      "execution_count": 125,
      "outputs": []
    },
    {
      "cell_type": "code",
      "source": [
        "# Create a model object - not trained yet\n",
        "logreg = LogisticRegression()\n",
        "\n",
        "# Train the model\n",
        "logreg.fit(X_train, y_train)"
      ],
      "metadata": {
        "colab": {
          "base_uri": "https://localhost:8080/",
          "height": 75
        },
        "id": "tn-QHyO7t2hj",
        "outputId": "e5692e51-0036-4f6f-a4de-7294bc5a2eaf"
      },
      "execution_count": 126,
      "outputs": [
        {
          "output_type": "execute_result",
          "data": {
            "text/plain": [
              "LogisticRegression()"
            ],
            "text/html": [
              "<style>#sk-container-id-6 {color: black;background-color: white;}#sk-container-id-6 pre{padding: 0;}#sk-container-id-6 div.sk-toggleable {background-color: white;}#sk-container-id-6 label.sk-toggleable__label {cursor: pointer;display: block;width: 100%;margin-bottom: 0;padding: 0.3em;box-sizing: border-box;text-align: center;}#sk-container-id-6 label.sk-toggleable__label-arrow:before {content: \"▸\";float: left;margin-right: 0.25em;color: #696969;}#sk-container-id-6 label.sk-toggleable__label-arrow:hover:before {color: black;}#sk-container-id-6 div.sk-estimator:hover label.sk-toggleable__label-arrow:before {color: black;}#sk-container-id-6 div.sk-toggleable__content {max-height: 0;max-width: 0;overflow: hidden;text-align: left;background-color: #f0f8ff;}#sk-container-id-6 div.sk-toggleable__content pre {margin: 0.2em;color: black;border-radius: 0.25em;background-color: #f0f8ff;}#sk-container-id-6 input.sk-toggleable__control:checked~div.sk-toggleable__content {max-height: 200px;max-width: 100%;overflow: auto;}#sk-container-id-6 input.sk-toggleable__control:checked~label.sk-toggleable__label-arrow:before {content: \"▾\";}#sk-container-id-6 div.sk-estimator input.sk-toggleable__control:checked~label.sk-toggleable__label {background-color: #d4ebff;}#sk-container-id-6 div.sk-label input.sk-toggleable__control:checked~label.sk-toggleable__label {background-color: #d4ebff;}#sk-container-id-6 input.sk-hidden--visually {border: 0;clip: rect(1px 1px 1px 1px);clip: rect(1px, 1px, 1px, 1px);height: 1px;margin: -1px;overflow: hidden;padding: 0;position: absolute;width: 1px;}#sk-container-id-6 div.sk-estimator {font-family: monospace;background-color: #f0f8ff;border: 1px dotted black;border-radius: 0.25em;box-sizing: border-box;margin-bottom: 0.5em;}#sk-container-id-6 div.sk-estimator:hover {background-color: #d4ebff;}#sk-container-id-6 div.sk-parallel-item::after {content: \"\";width: 100%;border-bottom: 1px solid gray;flex-grow: 1;}#sk-container-id-6 div.sk-label:hover label.sk-toggleable__label {background-color: #d4ebff;}#sk-container-id-6 div.sk-serial::before {content: \"\";position: absolute;border-left: 1px solid gray;box-sizing: border-box;top: 0;bottom: 0;left: 50%;z-index: 0;}#sk-container-id-6 div.sk-serial {display: flex;flex-direction: column;align-items: center;background-color: white;padding-right: 0.2em;padding-left: 0.2em;position: relative;}#sk-container-id-6 div.sk-item {position: relative;z-index: 1;}#sk-container-id-6 div.sk-parallel {display: flex;align-items: stretch;justify-content: center;background-color: white;position: relative;}#sk-container-id-6 div.sk-item::before, #sk-container-id-6 div.sk-parallel-item::before {content: \"\";position: absolute;border-left: 1px solid gray;box-sizing: border-box;top: 0;bottom: 0;left: 50%;z-index: -1;}#sk-container-id-6 div.sk-parallel-item {display: flex;flex-direction: column;z-index: 1;position: relative;background-color: white;}#sk-container-id-6 div.sk-parallel-item:first-child::after {align-self: flex-end;width: 50%;}#sk-container-id-6 div.sk-parallel-item:last-child::after {align-self: flex-start;width: 50%;}#sk-container-id-6 div.sk-parallel-item:only-child::after {width: 0;}#sk-container-id-6 div.sk-dashed-wrapped {border: 1px dashed gray;margin: 0 0.4em 0.5em 0.4em;box-sizing: border-box;padding-bottom: 0.4em;background-color: white;}#sk-container-id-6 div.sk-label label {font-family: monospace;font-weight: bold;display: inline-block;line-height: 1.2em;}#sk-container-id-6 div.sk-label-container {text-align: center;}#sk-container-id-6 div.sk-container {/* jupyter's `normalize.less` sets `[hidden] { display: none; }` but bootstrap.min.css set `[hidden] { display: none !important; }` so we also need the `!important` here to be able to override the default hidden behavior on the sphinx rendered scikit-learn.org. See: https://github.com/scikit-learn/scikit-learn/issues/21755 */display: inline-block !important;position: relative;}#sk-container-id-6 div.sk-text-repr-fallback {display: none;}</style><div id=\"sk-container-id-6\" class=\"sk-top-container\"><div class=\"sk-text-repr-fallback\"><pre>LogisticRegression()</pre><b>In a Jupyter environment, please rerun this cell to show the HTML representation or trust the notebook. <br />On GitHub, the HTML representation is unable to render, please try loading this page with nbviewer.org.</b></div><div class=\"sk-container\" hidden><div class=\"sk-item\"><div class=\"sk-estimator sk-toggleable\"><input class=\"sk-toggleable__control sk-hidden--visually\" id=\"sk-estimator-id-6\" type=\"checkbox\" checked><label for=\"sk-estimator-id-6\" class=\"sk-toggleable__label sk-toggleable__label-arrow\">LogisticRegression</label><div class=\"sk-toggleable__content\"><pre>LogisticRegression()</pre></div></div></div></div></div>"
            ]
          },
          "metadata": {},
          "execution_count": 126
        }
      ]
    },
    {
      "cell_type": "code",
      "source": [
        "# Use coef_ to return the coefficients - only log reg inference you can do with sklearn\n",
        "print(logreg.coef_) "
      ],
      "metadata": {
        "colab": {
          "base_uri": "https://localhost:8080/"
        },
        "id": "1-_TqMPqt_9L",
        "outputId": "bca5a1ed-d359-469d-8e23-b3d8d5881f4c"
      },
      "execution_count": 127,
      "outputs": [
        {
          "output_type": "stream",
          "name": "stdout",
          "text": [
            "[[-1.08118757e+00  1.08929963e-01  4.88798339e-01 -2.50027234e-01\n",
            "   1.42340805e-01 -1.50062497e-01  5.58427565e-01  3.96802992e-01\n",
            "   3.55824641e-01  1.73667311e-01  3.05392090e-01 -5.22995299e-01\n",
            "  -3.62124152e-01  1.25913420e-01  1.53894906e-01 -4.45887034e-02\n",
            "   2.87604505e-01 -3.39592174e-01 -2.71641218e-01 -1.08553818e-01\n",
            "  -2.04737702e+00  1.24208102e-01  6.24605824e-02  4.27120871e-01\n",
            "  -1.94921024e-01  3.90959261e-02 -2.51780239e-01  4.43498248e-01\n",
            "   7.78110937e-02  3.11713362e-01  2.43759640e-01 -1.43542826e-01\n",
            "  -1.04390746e-01  2.45761067e-01 -2.62347815e-02  2.26329740e-01\n",
            "   1.23958245e-02 -4.16046333e-01  9.46671015e-02 -1.88455224e-02\n",
            "   1.29591824e-03  1.48976817e-01  6.18653391e-02 -3.23987032e-01\n",
            "   2.55334219e-01  1.48249426e-01  1.88828201e-01 -2.41778012e-01\n",
            "   1.55425179e-01 -1.82218923e-02 -1.04288885e-01 -1.26653376e-01\n",
            "  -2.28742108e-01 -1.90587680e-01 -1.91746291e-01 -9.78851298e-02\n",
            "   2.57798534e-02  5.87336018e-02 -5.92511224e-02  8.01468364e-01\n",
            "  -3.01955262e-01  5.80964477e-02  1.76294408e-02 -4.31985596e-02\n",
            "  -2.21160855e-01  1.64651536e-01  4.36322595e-01  5.97125583e-02\n",
            "   1.43016048e-01 -9.05923504e-04  1.93667435e-01  2.95765065e-03\n",
            "  -6.12697518e-01 -9.74661031e-02  2.36350517e-02 -9.21634414e-02\n",
            "   7.51149677e-02 -1.20649229e-02 -9.98979177e-01  1.71559642e-01\n",
            "  -6.25456872e-02  4.08282157e-02  5.68124501e-02  5.00209485e-03\n",
            "   3.69226577e-01  5.04073631e-02 -4.77821883e-01 -5.05673376e-01\n",
            "  -7.00802925e-02  5.36964675e-02  1.15657946e+00 -5.97599947e-02\n",
            "   6.33604559e-02 -1.41099504e-01 -1.01228717e-01  8.79875838e-02\n",
            "   1.58029668e-01 -6.79905014e-02  2.35408007e-02  1.07391129e-01\n",
            "  -3.96183342e-02 -2.62942197e-02 -5.77969813e-02 -2.70288834e-01\n",
            "  -2.69759235e-01  3.21849662e-01  1.16240228e-01 -7.08416590e-02\n",
            "   9.36799348e-02 -8.45786910e-02 -8.21085297e-02  1.86884028e-01\n",
            "  -7.23248904e-01  7.53092676e-02 -7.62001602e-02 -3.58778603e-02\n",
            "   7.98162967e-02 -2.80930060e-01  9.60828784e-03  2.16053648e-01\n",
            "  -3.13465473e-02 -2.57149355e-01  7.79960600e-02  2.47681929e-02\n",
            "  -1.86406374e-02  8.51188746e-02 -4.31419902e-02  3.35106246e-01\n",
            "  -4.28263959e-01 -2.58895740e-01 -1.02841622e-01  8.69449163e-02\n",
            "   6.05176772e-03 -5.24215826e-02 -6.48394764e-02  1.40457305e-01\n",
            "   4.39023212e-02  7.51966461e-02  2.41913257e-01 -2.33069588e-01\n",
            "  -2.87103081e-01  3.57991907e-01 -2.06738422e-01  3.25369916e-01\n",
            "  -1.31512392e-01  4.35400240e-02  1.60018222e-01 -1.31009739e-01\n",
            "   9.73334214e-02 -5.44885979e-01  4.87903011e-02 -3.44651319e-01\n",
            "  -8.66887519e-02 -1.34766332e-01  8.15751405e-02 -7.35445747e-03\n",
            "   9.08678338e-02 -6.21931419e-01  9.33376285e-02  7.17559137e-01\n",
            "  -3.12093137e-01  7.73411105e-02  7.52773200e-02]]\n"
          ]
        }
      ]
    },
    {
      "cell_type": "code",
      "source": [
        "# Get the predicted classes first\n",
        "y_pred = logreg.predict(X_test)\n",
        "\n",
        "# Use the predicted and true classes for accuracy\n",
        "print(accuracy_score(y_pred, y_test)*100) "
      ],
      "metadata": {
        "colab": {
          "base_uri": "https://localhost:8080/"
        },
        "id": "hsuUIK2GuDVF",
        "outputId": "987a8784-ba0c-4c79-e61f-8d83a781a0bb"
      },
      "execution_count": 128,
      "outputs": [
        {
          "output_type": "stream",
          "name": "stdout",
          "text": [
            "86.14\n"
          ]
        }
      ]
    },
    {
      "cell_type": "code",
      "source": [
        "# Use .score with test predictors and response to get the accuracy\n",
        "# Implements the same thing under the hood\n",
        "print(logreg.score(X_test, y_test)*100)  "
      ],
      "metadata": {
        "colab": {
          "base_uri": "https://localhost:8080/"
        },
        "id": "CJ08kaFKuGrY",
        "outputId": "9c7b84bd-d7a0-4c4f-d434-4250f49b7810"
      },
      "execution_count": 129,
      "outputs": [
        {
          "output_type": "stream",
          "name": "stdout",
          "text": [
            "86.14\n"
          ]
        }
      ]
    },
    {
      "cell_type": "code",
      "source": [
        "#Computing the predicted probability for the observation to belong to the positive class (y=1);\n",
        "#The 2nd column in the output of predict_proba() consists of the probability of the observation to \n",
        "#belong to the positive class (y=1)\n",
        "y_pred_prob = logreg.predict_proba(X_test)[:,1] \n",
        "\n",
        "#Using the predicted probability computed above to find ROC-AUC\n",
        "fpr, tpr, auc_thresholds = roc_curve(y_test, y_pred_prob)\n",
        "print(auc(fpr, tpr))# AUC of ROC"
      ],
      "metadata": {
        "colab": {
          "base_uri": "https://localhost:8080/"
        },
        "id": "4kMP6QLkuNSk",
        "outputId": "d49c470b-eae4-41ee-dcb8-08c537d690e6"
      },
      "execution_count": 130,
      "outputs": [
        {
          "output_type": "stream",
          "name": "stdout",
          "text": [
            "0.9129735600920138\n"
          ]
        }
      ]
    },
    {
      "cell_type": "code",
      "source": [
        "tree = LogisticRegression(random_state=1).fit(X_train, y_train)\n",
        "\n",
        "cross_val_ypred = cross_val_predict(LogisticRegression(random_state=1), X_train, \n",
        "                                              y_train, cv = 5, method = 'predict_proba')\n",
        "\n",
        "metrics = pd.DataFrame()\n",
        "i = 0\n",
        "threshold_hyperparam = np.arange(0, 1.01, 0.001)\n",
        "\n",
        "for threshold in threshold_hyperparam:\n",
        "  predicted = cross_val_ypred[:, 1] > threshold\n",
        "  predicted = predicted.astype(int)\n",
        "\n",
        "  accuracy = accuracy_score(predicted, y_train)*100\n",
        "  metrics.loc[i, 'threshold'] = threshold\n",
        "  metrics.loc[i, 'accuracy'] = accuracy\n",
        "  metrics.loc[i, 'recall'] = recall_score(y_train, predicted)*100\n",
        "  \n",
        "  i = i + 1"
      ],
      "metadata": {
        "id": "9lc0JLPIkhvt"
      },
      "execution_count": 131,
      "outputs": []
    },
    {
      "cell_type": "code",
      "source": [
        "metrics.iloc[range(180,190),:]"
      ],
      "metadata": {
        "colab": {
          "base_uri": "https://localhost:8080/",
          "height": 363
        },
        "id": "50kiveyMkhyk",
        "outputId": "74c029d4-86b7-445f-c2e5-ed2a77d44065"
      },
      "execution_count": 138,
      "outputs": [
        {
          "output_type": "execute_result",
          "data": {
            "text/plain": [
              "     threshold  accuracy     recall\n",
              "180      0.180     84.79  85.311398\n",
              "181      0.181     84.80  85.272229\n",
              "182      0.182     84.84  85.272229\n",
              "183      0.183     84.88  85.233059\n",
              "184      0.184     84.92  85.193890\n",
              "185      0.185     84.93  85.115550\n",
              "186      0.186     84.94  85.076381\n",
              "187      0.187     84.98  85.037211\n",
              "188      0.188     85.01  84.958872\n",
              "189      0.189     85.01  84.880533"
            ],
            "text/html": [
              "\n",
              "  <div id=\"df-cd82546e-fb05-4245-855d-d86f718288cc\">\n",
              "    <div class=\"colab-df-container\">\n",
              "      <div>\n",
              "<style scoped>\n",
              "    .dataframe tbody tr th:only-of-type {\n",
              "        vertical-align: middle;\n",
              "    }\n",
              "\n",
              "    .dataframe tbody tr th {\n",
              "        vertical-align: top;\n",
              "    }\n",
              "\n",
              "    .dataframe thead th {\n",
              "        text-align: right;\n",
              "    }\n",
              "</style>\n",
              "<table border=\"1\" class=\"dataframe\">\n",
              "  <thead>\n",
              "    <tr style=\"text-align: right;\">\n",
              "      <th></th>\n",
              "      <th>threshold</th>\n",
              "      <th>accuracy</th>\n",
              "      <th>recall</th>\n",
              "    </tr>\n",
              "  </thead>\n",
              "  <tbody>\n",
              "    <tr>\n",
              "      <th>180</th>\n",
              "      <td>0.180</td>\n",
              "      <td>84.79</td>\n",
              "      <td>85.311398</td>\n",
              "    </tr>\n",
              "    <tr>\n",
              "      <th>181</th>\n",
              "      <td>0.181</td>\n",
              "      <td>84.80</td>\n",
              "      <td>85.272229</td>\n",
              "    </tr>\n",
              "    <tr>\n",
              "      <th>182</th>\n",
              "      <td>0.182</td>\n",
              "      <td>84.84</td>\n",
              "      <td>85.272229</td>\n",
              "    </tr>\n",
              "    <tr>\n",
              "      <th>183</th>\n",
              "      <td>0.183</td>\n",
              "      <td>84.88</td>\n",
              "      <td>85.233059</td>\n",
              "    </tr>\n",
              "    <tr>\n",
              "      <th>184</th>\n",
              "      <td>0.184</td>\n",
              "      <td>84.92</td>\n",
              "      <td>85.193890</td>\n",
              "    </tr>\n",
              "    <tr>\n",
              "      <th>185</th>\n",
              "      <td>0.185</td>\n",
              "      <td>84.93</td>\n",
              "      <td>85.115550</td>\n",
              "    </tr>\n",
              "    <tr>\n",
              "      <th>186</th>\n",
              "      <td>0.186</td>\n",
              "      <td>84.94</td>\n",
              "      <td>85.076381</td>\n",
              "    </tr>\n",
              "    <tr>\n",
              "      <th>187</th>\n",
              "      <td>0.187</td>\n",
              "      <td>84.98</td>\n",
              "      <td>85.037211</td>\n",
              "    </tr>\n",
              "    <tr>\n",
              "      <th>188</th>\n",
              "      <td>0.188</td>\n",
              "      <td>85.01</td>\n",
              "      <td>84.958872</td>\n",
              "    </tr>\n",
              "    <tr>\n",
              "      <th>189</th>\n",
              "      <td>0.189</td>\n",
              "      <td>85.01</td>\n",
              "      <td>84.880533</td>\n",
              "    </tr>\n",
              "  </tbody>\n",
              "</table>\n",
              "</div>\n",
              "      <button class=\"colab-df-convert\" onclick=\"convertToInteractive('df-cd82546e-fb05-4245-855d-d86f718288cc')\"\n",
              "              title=\"Convert this dataframe to an interactive table.\"\n",
              "              style=\"display:none;\">\n",
              "        \n",
              "  <svg xmlns=\"http://www.w3.org/2000/svg\" height=\"24px\"viewBox=\"0 0 24 24\"\n",
              "       width=\"24px\">\n",
              "    <path d=\"M0 0h24v24H0V0z\" fill=\"none\"/>\n",
              "    <path d=\"M18.56 5.44l.94 2.06.94-2.06 2.06-.94-2.06-.94-.94-2.06-.94 2.06-2.06.94zm-11 1L8.5 8.5l.94-2.06 2.06-.94-2.06-.94L8.5 2.5l-.94 2.06-2.06.94zm10 10l.94 2.06.94-2.06 2.06-.94-2.06-.94-.94-2.06-.94 2.06-2.06.94z\"/><path d=\"M17.41 7.96l-1.37-1.37c-.4-.4-.92-.59-1.43-.59-.52 0-1.04.2-1.43.59L10.3 9.45l-7.72 7.72c-.78.78-.78 2.05 0 2.83L4 21.41c.39.39.9.59 1.41.59.51 0 1.02-.2 1.41-.59l7.78-7.78 2.81-2.81c.8-.78.8-2.07 0-2.86zM5.41 20L4 18.59l7.72-7.72 1.47 1.35L5.41 20z\"/>\n",
              "  </svg>\n",
              "      </button>\n",
              "      \n",
              "  <style>\n",
              "    .colab-df-container {\n",
              "      display:flex;\n",
              "      flex-wrap:wrap;\n",
              "      gap: 12px;\n",
              "    }\n",
              "\n",
              "    .colab-df-convert {\n",
              "      background-color: #E8F0FE;\n",
              "      border: none;\n",
              "      border-radius: 50%;\n",
              "      cursor: pointer;\n",
              "      display: none;\n",
              "      fill: #1967D2;\n",
              "      height: 32px;\n",
              "      padding: 0 0 0 0;\n",
              "      width: 32px;\n",
              "    }\n",
              "\n",
              "    .colab-df-convert:hover {\n",
              "      background-color: #E2EBFA;\n",
              "      box-shadow: 0px 1px 2px rgba(60, 64, 67, 0.3), 0px 1px 3px 1px rgba(60, 64, 67, 0.15);\n",
              "      fill: #174EA6;\n",
              "    }\n",
              "\n",
              "    [theme=dark] .colab-df-convert {\n",
              "      background-color: #3B4455;\n",
              "      fill: #D2E3FC;\n",
              "    }\n",
              "\n",
              "    [theme=dark] .colab-df-convert:hover {\n",
              "      background-color: #434B5C;\n",
              "      box-shadow: 0px 1px 3px 1px rgba(0, 0, 0, 0.15);\n",
              "      filter: drop-shadow(0px 1px 2px rgba(0, 0, 0, 0.3));\n",
              "      fill: #FFFFFF;\n",
              "    }\n",
              "  </style>\n",
              "\n",
              "      <script>\n",
              "        const buttonEl =\n",
              "          document.querySelector('#df-cd82546e-fb05-4245-855d-d86f718288cc button.colab-df-convert');\n",
              "        buttonEl.style.display =\n",
              "          google.colab.kernel.accessAllowed ? 'block' : 'none';\n",
              "\n",
              "        async function convertToInteractive(key) {\n",
              "          const element = document.querySelector('#df-cd82546e-fb05-4245-855d-d86f718288cc');\n",
              "          const dataTable =\n",
              "            await google.colab.kernel.invokeFunction('convertToInteractive',\n",
              "                                                     [key], {});\n",
              "          if (!dataTable) return;\n",
              "\n",
              "          const docLinkHtml = 'Like what you see? Visit the ' +\n",
              "            '<a target=\"_blank\" href=https://colab.research.google.com/notebooks/data_table.ipynb>data table notebook</a>'\n",
              "            + ' to learn more about interactive tables.';\n",
              "          element.innerHTML = '';\n",
              "          dataTable['output_type'] = 'display_data';\n",
              "          await google.colab.output.renderOutput(dataTable, element);\n",
              "          const docLink = document.createElement('div');\n",
              "          docLink.innerHTML = docLinkHtml;\n",
              "          element.appendChild(docLink);\n",
              "        }\n",
              "      </script>\n",
              "    </div>\n",
              "  </div>\n",
              "  "
            ]
          },
          "metadata": {},
          "execution_count": 138
        }
      ]
    },
    {
      "cell_type": "code",
      "source": [
        "# Performance metrics computation for the optimum decision threshold probability\n",
        "desired_threshold = 0.188\n",
        "\n",
        "tree.fit(X_train, y_train)\n",
        "\n",
        "y_pred_prob = tree.predict_proba(X_train)[:,1] \n",
        "\n",
        "# Classifying observations in the positive class (y = 1) if the predicted probability is greater\n",
        "# than the desired decision threshold probability\n",
        "y_pred = y_pred_prob > desired_threshold\n",
        "y_pred = y_pred.astype(int)\n",
        "\n",
        "#Computing the accuracy\n",
        "print(\"Accuracy: \",accuracy_score(y_pred, y_train)*100)  \n",
        "\n",
        "#Computing the ROC-AUC\n",
        "fpr, tpr, auc_thresholds = roc_curve(y_train, y_pred_prob)\n",
        "print(\"ROC-AUC: \",auc(fpr, tpr))# AUC of ROC\n",
        "\n",
        "#Computing the precision and recall\n",
        "print(\"Precision: \", precision_score(y_train, y_pred))\n",
        "print(\"Recall: \", recall_score(y_train, y_pred))\n",
        "\n",
        "#Confusion matrix\n",
        "cm = pd.DataFrame(confusion_matrix(y_train, y_pred), \n",
        "                  columns=['Predicted 0', 'Predicted 1'], index = ['Actual 0', 'Actual 1'])\n",
        "sns.heatmap(cm, annot=True, cmap='Blues', fmt='g');"
      ],
      "metadata": {
        "colab": {
          "base_uri": "https://localhost:8080/",
          "height": 501
        },
        "id": "02pYMWRLjZvG",
        "outputId": "f928b3b8-4cb8-4fdb-e7df-852fc5372d80"
      },
      "execution_count": 139,
      "outputs": [
        {
          "output_type": "stream",
          "name": "stdout",
          "text": [
            "Accuracy:  88.4\n",
            "ROC-AUC:  0.9666354603738201\n",
            "Precision:  0.7061260728026043\n",
            "Recall:  0.9345867606737172\n"
          ]
        },
        {
          "output_type": "display_data",
          "data": {
            "text/plain": [
              "<Figure size 640x480 with 2 Axes>"
            ],
            "image/png": "[encoded data removed]"
          },
          "metadata": {}
        }
      ]
    },
    {
      "cell_type": "code",
      "source": [
        "# Performance metrics computation for the optimum decision threshold probability\n",
        "desired_threshold = 0.188\n",
        "\n",
        "tree.fit(X_train, y_train)\n",
        "\n",
        "y_pred_prob = tree.predict_proba(X_test)[:,1] \n",
        "\n",
        "# Classifying observations in the positive class (y = 1) if the predicted probability is greater\n",
        "# than the desired decision threshold probability\n",
        "y_pred = y_pred_prob > desired_threshold\n",
        "y_pred = y_pred.astype(int)\n",
        "\n",
        "#Computing the accuracy\n",
        "print(\"Accuracy: \",accuracy_score(y_pred, y_test)*100)  \n",
        "\n",
        "#Computing the ROC-AUC\n",
        "fpr, tpr, auc_thresholds = roc_curve(y_test, y_pred_prob)\n",
        "print(\"ROC-AUC: \",auc(fpr, tpr))# AUC of ROC\n",
        "\n",
        "#Computing the precision and recall\n",
        "print(\"Precision: \", precision_score(y_test, y_pred))\n",
        "print(\"Recall: \", recall_score(y_test, y_pred))\n",
        "\n",
        "#Confusion matrix\n",
        "cm = pd.DataFrame(confusion_matrix(y_test, y_pred), \n",
        "                  columns=['Predicted 0', 'Predicted 1'], index = ['Actual 0', 'Actual 1'])\n",
        "sns.heatmap(cm, annot=True, cmap='Blues', fmt='g');"
      ],
      "metadata": {
        "colab": {
          "base_uri": "https://localhost:8080/",
          "height": 501
        },
        "id": "Wz-GsX-ouQ-1",
        "outputId": "362c2879-e7e0-4990-a81a-f072b9cea126"
      },
      "execution_count": 140,
      "outputs": [
        {
          "output_type": "stream",
          "name": "stdout",
          "text": [
            "Accuracy:  84.43\n",
            "ROC-AUC:  0.9129735600920138\n",
            "Precision:  0.6772413793103448\n",
            "Recall:  0.8638282899366643\n"
          ]
        },
        {
          "output_type": "display_data",
          "data": {
            "text/plain": [
              "<Figure size 640x480 with 2 Axes>"
            ],
            "image/png": "[encoded data removed]"
          },
          "metadata": {}
        }
      ]
    },
    {
      "cell_type": "markdown",
      "source": [
        "### **Tuned Logistic Regression**"
      ],
      "metadata": {
        "id": "GKelFOIQlpa8"
      }
    },
    {
      "cell_type": "code",
      "source": [
        "# Finding cross-validation error for trees\n",
        "param_grid = {    \n",
        "    'C': 10**np.linspace(-10, 10),\n",
        "}\n",
        "\n",
        "cv = StratifiedKFold(n_splits=5)\n",
        "\n",
        "grid_search_model = GridSearchCV(LogisticRegression(random_state = 1), param_grid = param_grid, \n",
        "                                       scoring = ['accuracy', 'recall'], refit = 'recall', n_jobs=-1, verbose=True,\n",
        "                                       cv=cv)\n",
        "\n",
        "grid_search_model.fit(X_train, y_train)\n",
        "\n",
        "# make the predictions\n",
        "y_pred = grid_search_model.predict(X_test)\n",
        "\n",
        "print('Train accuracy : %.3f'%grid_search_model.best_estimator_.score(X_train, y_train))\n",
        "print('Test accuracy : %.3f'%grid_search_model.best_estimator_.score(X_test, y_test))\n",
        "print('Best accuracy Through Grid Search : %.3f'%grid_search_model.best_score_)\n",
        "\n",
        "print('Best params for recall')\n",
        "print(grid_search_model.best_params_)"
      ],
      "metadata": {
        "colab": {
          "base_uri": "https://localhost:8080/"
        },
        "id": "uDIELiLjuhGs",
        "outputId": "c4d76d90-27a1-484c-bdef-0087bd1e4cb8"
      },
      "execution_count": 141,
      "outputs": [
        {
          "output_type": "stream",
          "name": "stdout",
          "text": [
            "Fitting 5 folds for each of 50 candidates, totalling 250 fits\n",
            "Train accuracy : 0.910\n",
            "Test accuracy : 0.865\n",
            "Best accuracy Through Grid Search : 0.725\n",
            "Best params for recall\n",
            "{'C': 0.014563484775012445}\n"
          ]
        }
      ]
    },
    {
      "cell_type": "code",
      "source": [
        "tree = LogisticRegression(random_state=1, C = 0.014563484775012445).fit(X_train, y_train)\n",
        "\n",
        "cross_val_ypred = cross_val_predict(LogisticRegression(random_state=1, C = 0.014563484775012445), X_train, \n",
        "                                              y_train, cv = 5, method = 'predict_proba')\n",
        "\n",
        "metrics = pd.DataFrame()\n",
        "i = 0\n",
        "threshold_hyperparam = np.arange(0, 1.01, 0.001)\n",
        "\n",
        "for threshold in threshold_hyperparam:\n",
        "  predicted = cross_val_ypred[:, 1] > threshold\n",
        "  predicted = predicted.astype(int)\n",
        "\n",
        "  accuracy = accuracy_score(predicted, y_train)*100\n",
        "  metrics.loc[i, 'threshold'] = threshold\n",
        "  metrics.loc[i, 'accuracy'] = accuracy\n",
        "  metrics.loc[i, 'recall'] = recall_score(y_train, predicted)*100\n",
        "  \n",
        "  i = i + 1"
      ],
      "metadata": {
        "id": "E_LJGV3svXGD"
      },
      "execution_count": 142,
      "outputs": []
    },
    {
      "cell_type": "code",
      "source": [
        "metrics.loc[(metrics.accuracy>=85) & (metrics.recall>85), :].sort_values(by = 'recall', ascending = False).iloc[0,:]"
      ],
      "metadata": {
        "colab": {
          "base_uri": "https://localhost:8080/"
        },
        "id": "nCbtSOiQvpBb",
        "outputId": "131b51b7-23c3-4a97-be02-4c370cefd3dd"
      },
      "execution_count": 143,
      "outputs": [
        {
          "output_type": "execute_result",
          "data": {
            "text/plain": [
              "threshold     0.193000\n",
              "accuracy     85.000000\n",
              "recall       87.818253\n",
              "Name: 193, dtype: float64"
            ]
          },
          "metadata": {},
          "execution_count": 143
        }
      ]
    },
    {
      "cell_type": "code",
      "source": [
        "metrics.loc[(metrics.accuracy>=85) & (metrics.recall>85), :].sort_values(by = 'accuracy', ascending = False).iloc[0,:]"
      ],
      "metadata": {
        "colab": {
          "base_uri": "https://localhost:8080/"
        },
        "id": "GLdxcD0czSwY",
        "outputId": "668cfb13-f64b-4716-a84d-ad7f35fafd00"
      },
      "execution_count": 144,
      "outputs": [
        {
          "output_type": "execute_result",
          "data": {
            "text/plain": [
              "threshold     0.245000\n",
              "accuracy     86.050000\n",
              "recall       85.076381\n",
              "Name: 245, dtype: float64"
            ]
          },
          "metadata": {},
          "execution_count": 144
        }
      ]
    },
    {
      "cell_type": "code",
      "source": [
        "metrics.iloc[range(225,235),:]"
      ],
      "metadata": {
        "colab": {
          "base_uri": "https://localhost:8080/",
          "height": 363
        },
        "id": "HPRGgn4qT7Om",
        "outputId": "e3fcf437-3d9f-49d1-8f8c-ce7122b1d434"
      },
      "execution_count": 145,
      "outputs": [
        {
          "output_type": "execute_result",
          "data": {
            "text/plain": [
              "     threshold  accuracy     recall\n",
              "225      0.225     85.80  86.251469\n",
              "226      0.226     85.84  86.212299\n",
              "227      0.227     85.86  86.212299\n",
              "228      0.228     85.86  86.094790\n",
              "229      0.229     85.87  85.938112\n",
              "230      0.230     85.88  85.938112\n",
              "231      0.231     85.89  85.859773\n",
              "232      0.232     85.89  85.820603\n",
              "233      0.233     85.91  85.820603\n",
              "234      0.234     85.96  85.781434"
            ],
            "text/html": [
              "\n",
              "  <div id=\"df-07f4c962-0eff-41bd-bbd2-44a12cb81b67\">\n",
              "    <div class=\"colab-df-container\">\n",
              "      <div>\n",
              "<style scoped>\n",
              "    .dataframe tbody tr th:only-of-type {\n",
              "        vertical-align: middle;\n",
              "    }\n",
              "\n",
              "    .dataframe tbody tr th {\n",
              "        vertical-align: top;\n",
              "    }\n",
              "\n",
              "    .dataframe thead th {\n",
              "        text-align: right;\n",
              "    }\n",
              "</style>\n",
              "<table border=\"1\" class=\"dataframe\">\n",
              "  <thead>\n",
              "    <tr style=\"text-align: right;\">\n",
              "      <th></th>\n",
              "      <th>threshold</th>\n",
              "      <th>accuracy</th>\n",
              "      <th>recall</th>\n",
              "    </tr>\n",
              "  </thead>\n",
              "  <tbody>\n",
              "    <tr>\n",
              "      <th>225</th>\n",
              "      <td>0.225</td>\n",
              "      <td>85.80</td>\n",
              "      <td>86.251469</td>\n",
              "    </tr>\n",
              "    <tr>\n",
              "      <th>226</th>\n",
              "      <td>0.226</td>\n",
              "      <td>85.84</td>\n",
              "      <td>86.212299</td>\n",
              "    </tr>\n",
              "    <tr>\n",
              "      <th>227</th>\n",
              "      <td>0.227</td>\n",
              "      <td>85.86</td>\n",
              "      <td>86.212299</td>\n",
              "    </tr>\n",
              "    <tr>\n",
              "      <th>228</th>\n",
              "      <td>0.228</td>\n",
              "      <td>85.86</td>\n",
              "      <td>86.094790</td>\n",
              "    </tr>\n",
              "    <tr>\n",
              "      <th>229</th>\n",
              "      <td>0.229</td>\n",
              "      <td>85.87</td>\n",
              "      <td>85.938112</td>\n",
              "    </tr>\n",
              "    <tr>\n",
              "      <th>230</th>\n",
              "      <td>0.230</td>\n",
              "      <td>85.88</td>\n",
              "      <td>85.938112</td>\n",
              "    </tr>\n",
              "    <tr>\n",
              "      <th>231</th>\n",
              "      <td>0.231</td>\n",
              "      <td>85.89</td>\n",
              "      <td>85.859773</td>\n",
              "    </tr>\n",
              "    <tr>\n",
              "      <th>232</th>\n",
              "      <td>0.232</td>\n",
              "      <td>85.89</td>\n",
              "      <td>85.820603</td>\n",
              "    </tr>\n",
              "    <tr>\n",
              "      <th>233</th>\n",
              "      <td>0.233</td>\n",
              "      <td>85.91</td>\n",
              "      <td>85.820603</td>\n",
              "    </tr>\n",
              "    <tr>\n",
              "      <th>234</th>\n",
              "      <td>0.234</td>\n",
              "      <td>85.96</td>\n",
              "      <td>85.781434</td>\n",
              "    </tr>\n",
              "  </tbody>\n",
              "</table>\n",
              "</div>\n",
              "      <button class=\"colab-df-convert\" onclick=\"convertToInteractive('df-07f4c962-0eff-41bd-bbd2-44a12cb81b67')\"\n",
              "              title=\"Convert this dataframe to an interactive table.\"\n",
              "              style=\"display:none;\">\n",
              "        \n",
              "  <svg xmlns=\"http://www.w3.org/2000/svg\" height=\"24px\"viewBox=\"0 0 24 24\"\n",
              "       width=\"24px\">\n",
              "    <path d=\"M0 0h24v24H0V0z\" fill=\"none\"/>\n",
              "    <path d=\"M18.56 5.44l.94 2.06.94-2.06 2.06-.94-2.06-.94-.94-2.06-.94 2.06-2.06.94zm-11 1L8.5 8.5l.94-2.06 2.06-.94-2.06-.94L8.5 2.5l-.94 2.06-2.06.94zm10 10l.94 2.06.94-2.06 2.06-.94-2.06-.94-.94-2.06-.94 2.06-2.06.94z\"/><path d=\"M17.41 7.96l-1.37-1.37c-.4-.4-.92-.59-1.43-.59-.52 0-1.04.2-1.43.59L10.3 9.45l-7.72 7.72c-.78.78-.78 2.05 0 2.83L4 21.41c.39.39.9.59 1.41.59.51 0 1.02-.2 1.41-.59l7.78-7.78 2.81-2.81c.8-.78.8-2.07 0-2.86zM5.41 20L4 18.59l7.72-7.72 1.47 1.35L5.41 20z\"/>\n",
              "  </svg>\n",
              "      </button>\n",
              "      \n",
              "  <style>\n",
              "    .colab-df-container {\n",
              "      display:flex;\n",
              "      flex-wrap:wrap;\n",
              "      gap: 12px;\n",
              "    }\n",
              "\n",
              "    .colab-df-convert {\n",
              "      background-color: #E8F0FE;\n",
              "      border: none;\n",
              "      border-radius: 50%;\n",
              "      cursor: pointer;\n",
              "      display: none;\n",
              "      fill: #1967D2;\n",
              "      height: 32px;\n",
              "      padding: 0 0 0 0;\n",
              "      width: 32px;\n",
              "    }\n",
              "\n",
              "    .colab-df-convert:hover {\n",
              "      background-color: #E2EBFA;\n",
              "      box-shadow: 0px 1px 2px rgba(60, 64, 67, 0.3), 0px 1px 3px 1px rgba(60, 64, 67, 0.15);\n",
              "      fill: #174EA6;\n",
              "    }\n",
              "\n",
              "    [theme=dark] .colab-df-convert {\n",
              "      background-color: #3B4455;\n",
              "      fill: #D2E3FC;\n",
              "    }\n",
              "\n",
              "    [theme=dark] .colab-df-convert:hover {\n",
              "      background-color: #434B5C;\n",
              "      box-shadow: 0px 1px 3px 1px rgba(0, 0, 0, 0.15);\n",
              "      filter: drop-shadow(0px 1px 2px rgba(0, 0, 0, 0.3));\n",
              "      fill: #FFFFFF;\n",
              "    }\n",
              "  </style>\n",
              "\n",
              "      <script>\n",
              "        const buttonEl =\n",
              "          document.querySelector('#df-07f4c962-0eff-41bd-bbd2-44a12cb81b67 button.colab-df-convert');\n",
              "        buttonEl.style.display =\n",
              "          google.colab.kernel.accessAllowed ? 'block' : 'none';\n",
              "\n",
              "        async function convertToInteractive(key) {\n",
              "          const element = document.querySelector('#df-07f4c962-0eff-41bd-bbd2-44a12cb81b67');\n",
              "          const dataTable =\n",
              "            await google.colab.kernel.invokeFunction('convertToInteractive',\n",
              "                                                     [key], {});\n",
              "          if (!dataTable) return;\n",
              "\n",
              "          const docLinkHtml = 'Like what you see? Visit the ' +\n",
              "            '<a target=\"_blank\" href=https://colab.research.google.com/notebooks/data_table.ipynb>data table notebook</a>'\n",
              "            + ' to learn more about interactive tables.';\n",
              "          element.innerHTML = '';\n",
              "          dataTable['output_type'] = 'display_data';\n",
              "          await google.colab.output.renderOutput(dataTable, element);\n",
              "          const docLink = document.createElement('div');\n",
              "          docLink.innerHTML = docLinkHtml;\n",
              "          element.appendChild(docLink);\n",
              "        }\n",
              "      </script>\n",
              "    </div>\n",
              "  </div>\n",
              "  "
            ]
          },
          "metadata": {},
          "execution_count": 145
        }
      ]
    },
    {
      "cell_type": "code",
      "source": [
        "tree = LogisticRegression(random_state=1, C = 0.014563484775012445).fit(X_train, y_train)\n",
        "\n",
        "\n",
        "tree.fit(X_train, y_train)\n",
        "\n",
        "p, r, thresholds = precision_recall_curve(y_train, cross_val_ypred[:,1])\n",
        "accuracy_list = []\n",
        "\n",
        "for t in thresholds:\n",
        "  y_pred_prob = tree.predict_proba(X_train)[:,1]\n",
        "  y_pred = y_pred_prob > t\n",
        "  y_pred = y_pred.astype(int)\n",
        "  accuracy = (accuracy_score(y_pred, y_train))\n",
        "  accuracy_list.append(accuracy)\n",
        "\n",
        "def plot_accuracy_recall_vs_threshold(accuracy, recalls, thresholds):\n",
        "  plt.figure(figsize=(8,8))\n",
        "  plt.title(\"Accuracy and Recall Scores as a function of the decision threshold\")\n",
        "  plt.plot(thresholds, accuracy_list, \"b--\", label = \"Accuracy\")\n",
        "  plt.plot(thresholds, recalls[:-1], 'g-', label = \"Recall\")\n",
        "  plt.plot(thresholds, accuracy_list, 'o', color = 'blue')\n",
        "  plt.plot(thresholds, recalls[:-1], 'o', color = 'green')\n",
        "  plt.ylabel('Score')\n",
        "  plt.xlabel('Decision Threshold')\n",
        "  plt.legend(loc='best')\n",
        "  plt.legend()\n",
        "plot_accuracy_recall_vs_threshold(accuracy_list, r, thresholds)"
      ],
      "metadata": {
        "colab": {
          "base_uri": "https://localhost:8080/",
          "height": 718
        },
        "id": "P8QdGioyv1Zt",
        "outputId": "76c82e97-1d67-4ffc-864e-725cc1446022"
      },
      "execution_count": 146,
      "outputs": [
        {
          "output_type": "display_data",
          "data": {
            "text/plain": [
              "<Figure size 800x800 with 1 Axes>"
            ],
            "image/png": "[encoded data removed]"
          },
          "metadata": {}
        }
      ]
    },
    {
      "cell_type": "code",
      "source": [
        "# Performance metrics computation for the optimum decision threshold probability\n",
        "desired_threshold = 0.231\n",
        "\n",
        "tree.fit(X_train, y_train)\n",
        "\n",
        "y_pred_prob = tree.predict_proba(X_train)[:,1] \n",
        "\n",
        "# Classifying observations in the positive class (y = 1) if the predicted probability is greater\n",
        "# than the desired decision threshold probability\n",
        "y_pred = y_pred_prob > desired_threshold\n",
        "y_pred = y_pred.astype(int)\n",
        "\n",
        "#Computing the accuracy\n",
        "print(\"Accuracy: \",accuracy_score(y_pred, y_train)*100)  \n",
        "\n",
        "#Computing the ROC-AUC\n",
        "fpr, tpr, auc_thresholds = roc_curve(y_train, y_pred_prob)\n",
        "print(\"ROC-AUC: \",auc(fpr, tpr))# AUC of ROC\n",
        "\n",
        "#Computing the precision and recall\n",
        "print(\"Precision: \", precision_score(y_train, y_pred))\n",
        "print(\"Recall: \", recall_score(y_train, y_pred))\n",
        "\n",
        "#Confusion matrix\n",
        "cm = pd.DataFrame(confusion_matrix(y_train, y_pred), \n",
        "                  columns=['Predicted 0', 'Predicted 1'], index = ['Actual 0', 'Actual 1'])\n",
        "sns.heatmap(cm, annot=True, cmap='Blues', fmt='g');"
      ],
      "metadata": {
        "colab": {
          "base_uri": "https://localhost:8080/",
          "height": 501
        },
        "id": "VSEAXveCv25r",
        "outputId": "81c87fcf-24c9-49f8-c18f-28b4c2277d25"
      },
      "execution_count": 147,
      "outputs": [
        {
          "output_type": "stream",
          "name": "stdout",
          "text": [
            "Accuracy:  88.55\n",
            "ROC-AUC:  0.964604605539677\n",
            "Precision:  0.7137219186399514\n",
            "Recall:  0.9208773991382687\n"
          ]
        },
        {
          "output_type": "display_data",
          "data": {
            "text/plain": [
              "<Figure size 640x480 with 2 Axes>"
            ],
            "image/png": "[encoded data removed]"
          },
          "metadata": {}
        }
      ]
    },
    {
      "cell_type": "code",
      "source": [
        "# Performance metrics computation for the optimum decision threshold probability\n",
        "desired_threshold = 0.231\n",
        "\n",
        "tree.fit(X_train, y_train)\n",
        "\n",
        "y_pred_prob = tree.predict_proba(X_test)[:,1] \n",
        "\n",
        "# Classifying observations in the positive class (y = 1) if the predicted probability is greater\n",
        "# than the desired decision threshold probability\n",
        "y_pred = y_pred_prob > desired_threshold\n",
        "y_pred = y_pred.astype(int)\n",
        "\n",
        "#Computing the accuracy\n",
        "print(\"Accuracy: \",accuracy_score(y_pred, y_test)*100)  \n",
        "\n",
        "#Computing the ROC-AUC\n",
        "fpr, tpr, auc_thresholds = roc_curve(y_test, y_pred_prob)\n",
        "print(\"ROC-AUC: \",auc(fpr, tpr))# AUC of ROC\n",
        "\n",
        "#Computing the precision and recall\n",
        "print(\"Precision: \", precision_score(y_test, y_pred))\n",
        "print(\"Recall: \", recall_score(y_test, y_pred))\n",
        "\n",
        "#Confusion matrix\n",
        "cm = pd.DataFrame(confusion_matrix(y_test, y_pred), \n",
        "                  columns=['Predicted 0', 'Predicted 1'], index = ['Actual 0', 'Actual 1'])\n",
        "sns.heatmap(cm, annot=True, cmap='Blues', fmt='g');"
      ],
      "metadata": {
        "colab": {
          "base_uri": "https://localhost:8080/",
          "height": 501
        },
        "id": "FBN9G_NVwAxt",
        "outputId": "0da4336d-e4d7-4373-cdd5-5548588b46c0"
      },
      "execution_count": 148,
      "outputs": [
        {
          "output_type": "stream",
          "name": "stdout",
          "text": [
            "Accuracy:  85.42999999999999\n",
            "ROC-AUC:  0.9230603534300387\n",
            "Precision:  0.6966770803748935\n",
            "Recall:  0.8631245601688952\n"
          ]
        },
        {
          "output_type": "display_data",
          "data": {
            "text/plain": [
              "<Figure size 640x480 with 2 Axes>"
            ],
            "image/png": "[encoded data removed]"
          },
          "metadata": {}
        }
      ]
    },
    {
      "cell_type": "markdown",
      "source": [
        "### **Unscaled Data**"
      ],
      "metadata": {
        "id": "EkZzgp3eaxbc"
      }
    },
    {
      "cell_type": "code",
      "source": [
        "# Loading test and train data\n",
        "train = pd.read_csv('train_clean.csv')\n",
        "test = pd.read_csv('test_clean.csv')"
      ],
      "metadata": {
        "id": "z-sGSVkza1Tp"
      },
      "execution_count": 77,
      "outputs": []
    },
    {
      "cell_type": "code",
      "source": [
        "train = train.drop(['Unnamed: 0'],axis=1)\n",
        "test = test.drop(['Unnamed: 0'],axis=1)"
      ],
      "metadata": {
        "id": "GntHKp0ja1Tq"
      },
      "execution_count": 78,
      "outputs": []
    },
    {
      "cell_type": "code",
      "source": [
        "# Separate into test and train\n",
        "y_train = train.target\n",
        "X_train = train.drop(\"target\", axis = 1)\n",
        "\n",
        "y_test = test.target\n",
        "X_test = test.drop('target', axis = 1)\n",
        "\n",
        "X_train_columns = X_train.columns\n",
        "X_test_columns = X_test.columns"
      ],
      "metadata": {
        "id": "FvH6sF5qa1Tq"
      },
      "execution_count": 79,
      "outputs": []
    },
    {
      "cell_type": "code",
      "source": [
        "# Create a model object - not trained yet\n",
        "logreg = LogisticRegression()\n",
        "\n",
        "# Train the model\n",
        "logreg.fit(X_train, y_train)"
      ],
      "metadata": {
        "colab": {
          "base_uri": "https://localhost:8080/",
          "height": 75
        },
        "outputId": "41a125b1-de57-4eb0-8aa8-69007b7d8251",
        "id": "fNSul01za--e"
      },
      "execution_count": 80,
      "outputs": [
        {
          "output_type": "execute_result",
          "data": {
            "text/plain": [
              "LogisticRegression()"
            ],
            "text/html": [
              "<style>#sk-container-id-4 {color: black;background-color: white;}#sk-container-id-4 pre{padding: 0;}#sk-container-id-4 div.sk-toggleable {background-color: white;}#sk-container-id-4 label.sk-toggleable__label {cursor: pointer;display: block;width: 100%;margin-bottom: 0;padding: 0.3em;box-sizing: border-box;text-align: center;}#sk-container-id-4 label.sk-toggleable__label-arrow:before {content: \"▸\";float: left;margin-right: 0.25em;color: #696969;}#sk-container-id-4 label.sk-toggleable__label-arrow:hover:before {color: black;}#sk-container-id-4 div.sk-estimator:hover label.sk-toggleable__label-arrow:before {color: black;}#sk-container-id-4 div.sk-toggleable__content {max-height: 0;max-width: 0;overflow: hidden;text-align: left;background-color: #f0f8ff;}#sk-container-id-4 div.sk-toggleable__content pre {margin: 0.2em;color: black;border-radius: 0.25em;background-color: #f0f8ff;}#sk-container-id-4 input.sk-toggleable__control:checked~div.sk-toggleable__content {max-height: 200px;max-width: 100%;overflow: auto;}#sk-container-id-4 input.sk-toggleable__control:checked~label.sk-toggleable__label-arrow:before {content: \"▾\";}#sk-container-id-4 div.sk-estimator input.sk-toggleable__control:checked~label.sk-toggleable__label {background-color: #d4ebff;}#sk-container-id-4 div.sk-label input.sk-toggleable__control:checked~label.sk-toggleable__label {background-color: #d4ebff;}#sk-container-id-4 input.sk-hidden--visually {border: 0;clip: rect(1px 1px 1px 1px);clip: rect(1px, 1px, 1px, 1px);height: 1px;margin: -1px;overflow: hidden;padding: 0;position: absolute;width: 1px;}#sk-container-id-4 div.sk-estimator {font-family: monospace;background-color: #f0f8ff;border: 1px dotted black;border-radius: 0.25em;box-sizing: border-box;margin-bottom: 0.5em;}#sk-container-id-4 div.sk-estimator:hover {background-color: #d4ebff;}#sk-container-id-4 div.sk-parallel-item::after {content: \"\";width: 100%;border-bottom: 1px solid gray;flex-grow: 1;}#sk-container-id-4 div.sk-label:hover label.sk-toggleable__label {background-color: #d4ebff;}#sk-container-id-4 div.sk-serial::before {content: \"\";position: absolute;border-left: 1px solid gray;box-sizing: border-box;top: 0;bottom: 0;left: 50%;z-index: 0;}#sk-container-id-4 div.sk-serial {display: flex;flex-direction: column;align-items: center;background-color: white;padding-right: 0.2em;padding-left: 0.2em;position: relative;}#sk-container-id-4 div.sk-item {position: relative;z-index: 1;}#sk-container-id-4 div.sk-parallel {display: flex;align-items: stretch;justify-content: center;background-color: white;position: relative;}#sk-container-id-4 div.sk-item::before, #sk-container-id-4 div.sk-parallel-item::before {content: \"\";position: absolute;border-left: 1px solid gray;box-sizing: border-box;top: 0;bottom: 0;left: 50%;z-index: -1;}#sk-container-id-4 div.sk-parallel-item {display: flex;flex-direction: column;z-index: 1;position: relative;background-color: white;}#sk-container-id-4 div.sk-parallel-item:first-child::after {align-self: flex-end;width: 50%;}#sk-container-id-4 div.sk-parallel-item:last-child::after {align-self: flex-start;width: 50%;}#sk-container-id-4 div.sk-parallel-item:only-child::after {width: 0;}#sk-container-id-4 div.sk-dashed-wrapped {border: 1px dashed gray;margin: 0 0.4em 0.5em 0.4em;box-sizing: border-box;padding-bottom: 0.4em;background-color: white;}#sk-container-id-4 div.sk-label label {font-family: monospace;font-weight: bold;display: inline-block;line-height: 1.2em;}#sk-container-id-4 div.sk-label-container {text-align: center;}#sk-container-id-4 div.sk-container {/* jupyter's `normalize.less` sets `[hidden] { display: none; }` but bootstrap.min.css set `[hidden] { display: none !important; }` so we also need the `!important` here to be able to override the default hidden behavior on the sphinx rendered scikit-learn.org. See: https://github.com/scikit-learn/scikit-learn/issues/21755 */display: inline-block !important;position: relative;}#sk-container-id-4 div.sk-text-repr-fallback {display: none;}</style><div id=\"sk-container-id-4\" class=\"sk-top-container\"><div class=\"sk-text-repr-fallback\"><pre>LogisticRegression()</pre><b>In a Jupyter environment, please rerun this cell to show the HTML representation or trust the notebook. <br />On GitHub, the HTML representation is unable to render, please try loading this page with nbviewer.org.</b></div><div class=\"sk-container\" hidden><div class=\"sk-item\"><div class=\"sk-estimator sk-toggleable\"><input class=\"sk-toggleable__control sk-hidden--visually\" id=\"sk-estimator-id-4\" type=\"checkbox\" checked><label for=\"sk-estimator-id-4\" class=\"sk-toggleable__label sk-toggleable__label-arrow\">LogisticRegression</label><div class=\"sk-toggleable__content\"><pre>LogisticRegression()</pre></div></div></div></div></div>"
            ]
          },
          "metadata": {},
          "execution_count": 80
        }
      ]
    },
    {
      "cell_type": "code",
      "source": [
        "# Use coef_ to return the coefficients - only log reg inference you can do with sklearn\n",
        "print(logreg.coef_) "
      ],
      "metadata": {
        "colab": {
          "base_uri": "https://localhost:8080/"
        },
        "outputId": "28f54676-3cef-493b-bd01-be7557de1219",
        "id": "yqwYJa3Ba--f"
      },
      "execution_count": 81,
      "outputs": [
        {
          "output_type": "stream",
          "name": "stdout",
          "text": [
            "[[-3.99029944e+00  3.86768963e-01  1.11801930e+00 -4.09589244e-01\n",
            "   6.66227173e-01 -1.28685711e-01  2.53053416e+00  1.48906186e+00\n",
            "   1.68750514e+00  6.47970834e-01  8.97076957e-01 -1.78741435e+00\n",
            "  -1.13700301e+00  3.41015601e-01  1.01436141e+00 -1.22325382e-01\n",
            "   7.65396605e-01 -8.71449365e-01  3.15671412e-01 -6.55277742e-02\n",
            "  -2.86944230e+00  1.13755434e-01  2.73780195e-01  1.85639238e+00\n",
            "  -8.43541457e-01  1.89859461e-01 -3.05723294e-01  2.00316173e+00\n",
            "   1.63380114e-01  8.86936872e-01  5.04811675e-01 -7.46593784e-01\n",
            "  -4.06550179e-01  5.96761159e-01 -4.05516452e-02  5.44318969e-01\n",
            "   2.17574521e-01 -2.07398365e+00  2.10636000e-01 -5.52238918e-01\n",
            "   3.29565817e-02  6.53658867e-01  3.83393901e-01 -1.20420457e+00\n",
            "   6.98761338e-01  3.91432823e-01  5.09041114e-01 -1.15345085e+00\n",
            "   1.19268613e-01 -3.32051926e-02 -2.17721752e-01 -1.52300034e-01\n",
            "  -2.47321554e-01 -6.63610640e-01 -6.52620027e-01 -3.44796415e-02\n",
            "   6.38754603e-02  9.01208142e-02 -2.43623047e-01  7.32151452e-01\n",
            "  -1.71937644e-01  1.04372575e-01 -2.52718833e-02 -6.74918189e-02\n",
            "  -5.43545667e-01  7.11569541e-01  2.41744937e-01  2.53139758e-01\n",
            "   4.33574165e-01  3.91312259e-01  7.21762846e-01  1.81330936e-02\n",
            "  -2.36954332e+00 -9.31052179e-02  1.67921041e-02 -3.48593642e-01\n",
            "   4.00469027e-01  2.75630177e-01 -1.14983767e+00  7.46003922e-01\n",
            "  -2.09205959e-01  3.37993297e-01  5.70400439e-02 -1.26440887e-02\n",
            "   1.56137330e+00  1.59329971e-01 -2.18605818e+00 -1.49818391e+00\n",
            "  -2.15872951e-02  1.51558801e-01  3.25852535e-01 -5.17387663e-01\n",
            "   1.27152656e-01 -5.24810924e-01 -1.72527855e-01  4.37575300e-01\n",
            "   7.49790081e-01 -3.10370697e-02  3.36335339e-02  1.49507128e+00\n",
            "  -4.57460288e-02 -3.48550453e-01 -2.38125445e-01 -1.25296220e+00\n",
            "  -5.75941695e-01  1.27329319e+00  3.71020541e-02 -1.68318948e-01\n",
            "   9.92096466e-01 -1.99799035e-02 -2.31178564e-01  6.81246322e-01\n",
            "  -9.57203190e-01  1.94712545e-01 -3.24244628e-01 -3.21470734e-01\n",
            "   4.34586829e-01 -2.01938330e-01  1.87847752e-02  1.18414161e-01\n",
            "  -1.23767617e-01 -9.38222014e-01  3.53018775e-01 -2.89090620e-02\n",
            "  -1.83654960e-02  2.61166479e-01 -1.18802932e-01  1.31986516e+00\n",
            "  -2.79144981e-01 -7.20105851e-01 -4.67287964e-02  4.25798287e-02\n",
            "  -3.63442538e-02  3.26757280e-03 -1.60834611e-01  5.78126002e-01\n",
            "  -2.33820746e-02  1.99817824e-01  1.25077127e+00 -1.09398170e-01\n",
            "  -5.08211876e-02  2.69964322e-01 -5.21149869e-01  1.19245408e+00\n",
            "  -4.59331685e-01  2.48316387e-01  6.99711202e-01 -4.44736746e-01\n",
            "   1.54922072e-01 -1.33649179e+00  1.70201947e-01 -6.75146440e-01\n",
            "  -2.71466500e-01 -3.22863386e-01  1.98741568e-01 -1.11817265e-03\n",
            "   9.14232037e-01 -4.05497607e-01  7.22145041e-01  3.33456596e-01\n",
            "  -4.95899178e-01  4.08525315e-01  2.95759890e-01]]\n"
          ]
        }
      ]
    },
    {
      "cell_type": "code",
      "source": [
        "# Get the predicted classes first\n",
        "y_pred = logreg.predict(X_test)\n",
        "\n",
        "# Use the predicted and true classes for accuracy\n",
        "print(accuracy_score(y_pred, y_test)*100) "
      ],
      "metadata": {
        "colab": {
          "base_uri": "https://localhost:8080/"
        },
        "outputId": "df26e079-ccf5-42ae-c9b2-e7a2b4eb5f4c",
        "id": "YRmkRwlxa--f"
      },
      "execution_count": 82,
      "outputs": [
        {
          "output_type": "stream",
          "name": "stdout",
          "text": [
            "86.56\n"
          ]
        }
      ]
    },
    {
      "cell_type": "code",
      "source": [
        "# Use .score with test predictors and response to get the accuracy\n",
        "# Implements the same thing under the hood\n",
        "print(logreg.score(X_test, y_test)*100)  "
      ],
      "metadata": {
        "colab": {
          "base_uri": "https://localhost:8080/"
        },
        "outputId": "49335ba5-4225-4478-caba-b1f98c38c779",
        "id": "cdMRngkza--f"
      },
      "execution_count": 83,
      "outputs": [
        {
          "output_type": "stream",
          "name": "stdout",
          "text": [
            "86.56\n"
          ]
        }
      ]
    },
    {
      "cell_type": "code",
      "source": [
        "#Computing the predicted probability for the observation to belong to the positive class (y=1);\n",
        "#The 2nd column in the output of predict_proba() consists of the probability of the observation to \n",
        "#belong to the positive class (y=1)\n",
        "y_pred_prob = logreg.predict_proba(X_test)[:,1] \n",
        "\n",
        "#Using the predicted probability computed above to find ROC-AUC\n",
        "fpr, tpr, auc_thresholds = roc_curve(y_test, y_pred_prob)\n",
        "print(auc(fpr, tpr))# AUC of ROC"
      ],
      "metadata": {
        "colab": {
          "base_uri": "https://localhost:8080/"
        },
        "outputId": "8ba6d33e-e3cb-4a29-89a1-9980907f845c",
        "id": "DvmCs86Za--f"
      },
      "execution_count": 84,
      "outputs": [
        {
          "output_type": "stream",
          "name": "stdout",
          "text": [
            "0.9218735345107781\n"
          ]
        }
      ]
    },
    {
      "cell_type": "code",
      "source": [
        "#Confusion matrix\n",
        "cm = pd.DataFrame(confusion_matrix(y_test, y_pred), columns=['Predicted 0', 'Predicted 1'], \n",
        "            index = ['Actual 0', 'Actual 1'])\n",
        "sns.heatmap(cm, annot=True, cmap='Blues', fmt='g');\n",
        "\n",
        "print(\"Precision: \", precision_score(y_test, y_pred))\n",
        "print(\"Recall: \", recall_score(y_test, y_pred))\n",
        "print(\"Accuracy: \", accuracy_score(y_test, y_pred))"
      ],
      "metadata": {
        "colab": {
          "base_uri": "https://localhost:8080/",
          "height": 484
        },
        "outputId": "be441e36-e05d-49f1-ac5a-34d545bafe7a",
        "id": "AZAFqGKpa--g"
      },
      "execution_count": 85,
      "outputs": [
        {
          "output_type": "stream",
          "name": "stdout",
          "text": [
            "Precision:  0.7912130637636081\n",
            "Recall:  0.7160450387051372\n",
            "Accuracy:  0.8656\n"
          ]
        },
        {
          "output_type": "display_data",
          "data": {
            "text/plain": [
              "<Figure size 640x480 with 2 Axes>"
            ],
            "image/png": "[encoded data removed]"
          },
          "metadata": {}
        }
      ]
    },
    {
      "cell_type": "code",
      "source": [
        "# Finding cross-validation error for trees\n",
        "param_grid = {    \n",
        "    'C': 10**np.linspace(-10, 10),\n",
        "}\n",
        "\n",
        "cv = StratifiedKFold(n_splits=5)\n",
        "\n",
        "grid_search_model = GridSearchCV(LogisticRegression(random_state = 1), param_grid = param_grid, \n",
        "                                       scoring = ['accuracy', 'recall'], refit = 'recall', n_jobs=-1, verbose=True,\n",
        "                                       cv=cv)\n",
        "\n",
        "grid_search_model.fit(X_train, y_train)\n",
        "\n",
        "# make the predictions\n",
        "y_pred = grid_search_model.predict(X_test)\n",
        "\n",
        "print('Train accuracy : %.3f'%grid_search_model.best_estimator_.score(X_train, y_train))\n",
        "print('Test accuracy : %.3f'%grid_search_model.best_estimator_.score(X_test, y_test))\n",
        "print('Best accuracy Through Grid Search : %.3f'%grid_search_model.best_score_)\n",
        "\n",
        "print('Best params for recall')\n",
        "print(grid_search_model.best_params_)"
      ],
      "metadata": {
        "colab": {
          "base_uri": "https://localhost:8080/"
        },
        "outputId": "d1b470f0-8e92-4052-b551-43f54ccd8096",
        "id": "Yjhw5wJ3a--g"
      },
      "execution_count": 86,
      "outputs": [
        {
          "output_type": "stream",
          "name": "stdout",
          "text": [
            "Fitting 5 folds for each of 50 candidates, totalling 250 fits\n",
            "Train accuracy : 0.912\n",
            "Test accuracy : 0.863\n",
            "Best accuracy Through Grid Search : 0.720\n",
            "Best params for recall\n",
            "{'C': 68.66488450042998}\n"
          ]
        }
      ]
    },
    {
      "cell_type": "code",
      "source": [
        "tree = LogisticRegression(random_state=1, C = 68.66488450042998).fit(X_train, y_train)\n",
        "\n",
        "cross_val_ypred = cross_val_predict(LogisticRegression(random_state=1, C = 68.66488450042998), X_train, \n",
        "                                              y_train, cv = 5, method = 'predict_proba')\n",
        "\n",
        "metrics = pd.DataFrame()\n",
        "i = 0\n",
        "threshold_hyperparam = np.arange(0, 1.01, 0.001)\n",
        "\n",
        "for threshold in threshold_hyperparam:\n",
        "  predicted = cross_val_ypred[:, 1] > threshold\n",
        "  predicted = predicted.astype(int)\n",
        "\n",
        "  accuracy = accuracy_score(predicted, y_train)*100\n",
        "  metrics.loc[i, 'threshold'] = threshold\n",
        "  metrics.loc[i, 'accuracy'] = accuracy\n",
        "  metrics.loc[i, 'recall'] = recall_score(y_train, predicted)*100\n",
        "  \n",
        "  i = i + 1"
      ],
      "metadata": {
        "id": "eRX0yXLDa--g"
      },
      "execution_count": 88,
      "outputs": []
    },
    {
      "cell_type": "code",
      "source": [
        "metrics.loc[(metrics.accuracy>=85) & (metrics.recall>85), :].sort_values(by = 'recall', ascending = False).iloc[0,:]"
      ],
      "metadata": {
        "colab": {
          "base_uri": "https://localhost:8080/"
        },
        "outputId": "d0f84255-75f2-4cf8-9d94-a420a09bb596",
        "id": "f-kTB1ysa--h"
      },
      "execution_count": 89,
      "outputs": [
        {
          "output_type": "execute_result",
          "data": {
            "text/plain": [
              "threshold     0.193000\n",
              "accuracy     85.010000\n",
              "recall       85.311398\n",
              "Name: 193, dtype: float64"
            ]
          },
          "metadata": {},
          "execution_count": 89
        }
      ]
    },
    {
      "cell_type": "code",
      "source": [
        "metrics.loc[(metrics.accuracy>=85) & (metrics.recall>85), :].sort_values(by = 'accuracy', ascending = False).iloc[0,:]"
      ],
      "metadata": {
        "colab": {
          "base_uri": "https://localhost:8080/"
        },
        "outputId": "9bdbefa7-98f9-4450-f34d-b613b3672250",
        "id": "9dBr17Bva--h"
      },
      "execution_count": 90,
      "outputs": [
        {
          "output_type": "execute_result",
          "data": {
            "text/plain": [
              "threshold     0.19900\n",
              "accuracy     85.19000\n",
              "recall       85.11555\n",
              "Name: 199, dtype: float64"
            ]
          },
          "metadata": {},
          "execution_count": 90
        }
      ]
    },
    {
      "cell_type": "code",
      "source": [
        "metrics.iloc[range(190,200),:]"
      ],
      "metadata": {
        "colab": {
          "base_uri": "https://localhost:8080/",
          "height": 363
        },
        "outputId": "0a364d72-0d4a-4744-effb-393bc2fec011",
        "id": "oahKYC5Wa--h"
      },
      "execution_count": 94,
      "outputs": [
        {
          "output_type": "execute_result",
          "data": {
            "text/plain": [
              "     threshold  accuracy     recall\n",
              "190      0.190     84.95  85.468077\n",
              "191      0.191     84.94  85.389738\n",
              "192      0.192     84.96  85.350568\n",
              "193      0.193     85.01  85.311398\n",
              "194      0.194     85.05  85.311398\n",
              "195      0.195     85.06  85.272229\n",
              "196      0.196     85.08  85.272229\n",
              "197      0.197     85.14  85.233059\n",
              "198      0.198     85.16  85.154720\n",
              "199      0.199     85.19  85.115550"
            ],
            "text/html": [
              "\n",
              "  <div id=\"df-149c40fb-5127-4ee2-a3da-c3485da41595\">\n",
              "    <div class=\"colab-df-container\">\n",
              "      <div>\n",
              "<style scoped>\n",
              "    .dataframe tbody tr th:only-of-type {\n",
              "        vertical-align: middle;\n",
              "    }\n",
              "\n",
              "    .dataframe tbody tr th {\n",
              "        vertical-align: top;\n",
              "    }\n",
              "\n",
              "    .dataframe thead th {\n",
              "        text-align: right;\n",
              "    }\n",
              "</style>\n",
              "<table border=\"1\" class=\"dataframe\">\n",
              "  <thead>\n",
              "    <tr style=\"text-align: right;\">\n",
              "      <th></th>\n",
              "      <th>threshold</th>\n",
              "      <th>accuracy</th>\n",
              "      <th>recall</th>\n",
              "    </tr>\n",
              "  </thead>\n",
              "  <tbody>\n",
              "    <tr>\n",
              "      <th>190</th>\n",
              "      <td>0.190</td>\n",
              "      <td>84.95</td>\n",
              "      <td>85.468077</td>\n",
              "    </tr>\n",
              "    <tr>\n",
              "      <th>191</th>\n",
              "      <td>0.191</td>\n",
              "      <td>84.94</td>\n",
              "      <td>85.389738</td>\n",
              "    </tr>\n",
              "    <tr>\n",
              "      <th>192</th>\n",
              "      <td>0.192</td>\n",
              "      <td>84.96</td>\n",
              "      <td>85.350568</td>\n",
              "    </tr>\n",
              "    <tr>\n",
              "      <th>193</th>\n",
              "      <td>0.193</td>\n",
              "      <td>85.01</td>\n",
              "      <td>85.311398</td>\n",
              "    </tr>\n",
              "    <tr>\n",
              "      <th>194</th>\n",
              "      <td>0.194</td>\n",
              "      <td>85.05</td>\n",
              "      <td>85.311398</td>\n",
              "    </tr>\n",
              "    <tr>\n",
              "      <th>195</th>\n",
              "      <td>0.195</td>\n",
              "      <td>85.06</td>\n",
              "      <td>85.272229</td>\n",
              "    </tr>\n",
              "    <tr>\n",
              "      <th>196</th>\n",
              "      <td>0.196</td>\n",
              "      <td>85.08</td>\n",
              "      <td>85.272229</td>\n",
              "    </tr>\n",
              "    <tr>\n",
              "      <th>197</th>\n",
              "      <td>0.197</td>\n",
              "      <td>85.14</td>\n",
              "      <td>85.233059</td>\n",
              "    </tr>\n",
              "    <tr>\n",
              "      <th>198</th>\n",
              "      <td>0.198</td>\n",
              "      <td>85.16</td>\n",
              "      <td>85.154720</td>\n",
              "    </tr>\n",
              "    <tr>\n",
              "      <th>199</th>\n",
              "      <td>0.199</td>\n",
              "      <td>85.19</td>\n",
              "      <td>85.115550</td>\n",
              "    </tr>\n",
              "  </tbody>\n",
              "</table>\n",
              "</div>\n",
              "      <button class=\"colab-df-convert\" onclick=\"convertToInteractive('df-149c40fb-5127-4ee2-a3da-c3485da41595')\"\n",
              "              title=\"Convert this dataframe to an interactive table.\"\n",
              "              style=\"display:none;\">\n",
              "        \n",
              "  <svg xmlns=\"http://www.w3.org/2000/svg\" height=\"24px\"viewBox=\"0 0 24 24\"\n",
              "       width=\"24px\">\n",
              "    <path d=\"M0 0h24v24H0V0z\" fill=\"none\"/>\n",
              "    <path d=\"M18.56 5.44l.94 2.06.94-2.06 2.06-.94-2.06-.94-.94-2.06-.94 2.06-2.06.94zm-11 1L8.5 8.5l.94-2.06 2.06-.94-2.06-.94L8.5 2.5l-.94 2.06-2.06.94zm10 10l.94 2.06.94-2.06 2.06-.94-2.06-.94-.94-2.06-.94 2.06-2.06.94z\"/><path d=\"M17.41 7.96l-1.37-1.37c-.4-.4-.92-.59-1.43-.59-.52 0-1.04.2-1.43.59L10.3 9.45l-7.72 7.72c-.78.78-.78 2.05 0 2.83L4 21.41c.39.39.9.59 1.41.59.51 0 1.02-.2 1.41-.59l7.78-7.78 2.81-2.81c.8-.78.8-2.07 0-2.86zM5.41 20L4 18.59l7.72-7.72 1.47 1.35L5.41 20z\"/>\n",
              "  </svg>\n",
              "      </button>\n",
              "      \n",
              "  <style>\n",
              "    .colab-df-container {\n",
              "      display:flex;\n",
              "      flex-wrap:wrap;\n",
              "      gap: 12px;\n",
              "    }\n",
              "\n",
              "    .colab-df-convert {\n",
              "      background-color: #E8F0FE;\n",
              "      border: none;\n",
              "      border-radius: 50%;\n",
              "      cursor: pointer;\n",
              "      display: none;\n",
              "      fill: #1967D2;\n",
              "      height: 32px;\n",
              "      padding: 0 0 0 0;\n",
              "      width: 32px;\n",
              "    }\n",
              "\n",
              "    .colab-df-convert:hover {\n",
              "      background-color: #E2EBFA;\n",
              "      box-shadow: 0px 1px 2px rgba(60, 64, 67, 0.3), 0px 1px 3px 1px rgba(60, 64, 67, 0.15);\n",
              "      fill: #174EA6;\n",
              "    }\n",
              "\n",
              "    [theme=dark] .colab-df-convert {\n",
              "      background-color: #3B4455;\n",
              "      fill: #D2E3FC;\n",
              "    }\n",
              "\n",
              "    [theme=dark] .colab-df-convert:hover {\n",
              "      background-color: #434B5C;\n",
              "      box-shadow: 0px 1px 3px 1px rgba(0, 0, 0, 0.15);\n",
              "      filter: drop-shadow(0px 1px 2px rgba(0, 0, 0, 0.3));\n",
              "      fill: #FFFFFF;\n",
              "    }\n",
              "  </style>\n",
              "\n",
              "      <script>\n",
              "        const buttonEl =\n",
              "          document.querySelector('#df-149c40fb-5127-4ee2-a3da-c3485da41595 button.colab-df-convert');\n",
              "        buttonEl.style.display =\n",
              "          google.colab.kernel.accessAllowed ? 'block' : 'none';\n",
              "\n",
              "        async function convertToInteractive(key) {\n",
              "          const element = document.querySelector('#df-149c40fb-5127-4ee2-a3da-c3485da41595');\n",
              "          const dataTable =\n",
              "            await google.colab.kernel.invokeFunction('convertToInteractive',\n",
              "                                                     [key], {});\n",
              "          if (!dataTable) return;\n",
              "\n",
              "          const docLinkHtml = 'Like what you see? Visit the ' +\n",
              "            '<a target=\"_blank\" href=https://colab.research.google.com/notebooks/data_table.ipynb>data table notebook</a>'\n",
              "            + ' to learn more about interactive tables.';\n",
              "          element.innerHTML = '';\n",
              "          dataTable['output_type'] = 'display_data';\n",
              "          await google.colab.output.renderOutput(dataTable, element);\n",
              "          const docLink = document.createElement('div');\n",
              "          docLink.innerHTML = docLinkHtml;\n",
              "          element.appendChild(docLink);\n",
              "        }\n",
              "      </script>\n",
              "    </div>\n",
              "  </div>\n",
              "  "
            ]
          },
          "metadata": {},
          "execution_count": 94
        }
      ]
    },
    {
      "cell_type": "code",
      "source": [
        "tree = LogisticRegression(random_state=1, C = 68.66488450042998).fit(X_train, y_train)\n",
        "\n",
        "\n",
        "tree.fit(X_train, y_train)\n",
        "\n",
        "p, r, thresholds = precision_recall_curve(y_train, cross_val_ypred[:,1])\n",
        "accuracy_list = []\n",
        "\n",
        "for t in thresholds:\n",
        "  y_pred_prob = tree.predict_proba(X_train)[:,1]\n",
        "  y_pred = y_pred_prob > t\n",
        "  y_pred = y_pred.astype(int)\n",
        "  accuracy = (accuracy_score(y_pred, y_train))\n",
        "  accuracy_list.append(accuracy)\n",
        "\n",
        "def plot_accuracy_recall_vs_threshold(accuracy, recalls, thresholds):\n",
        "  plt.figure(figsize=(8,8))\n",
        "  plt.title(\"Accuracy and Recall Scores as a function of the decision threshold\")\n",
        "  plt.plot(thresholds, accuracy_list, \"b--\", label = \"Accuracy\")\n",
        "  plt.plot(thresholds, recalls[:-1], 'g-', label = \"Recall\")\n",
        "  plt.plot(thresholds, accuracy_list, 'o', color = 'blue')\n",
        "  plt.plot(thresholds, recalls[:-1], 'o', color = 'green')\n",
        "  plt.ylabel('Score')\n",
        "  plt.xlabel('Decision Threshold')\n",
        "  plt.legend(loc='best')\n",
        "  plt.legend()\n",
        "plot_accuracy_recall_vs_threshold(accuracy_list, r, thresholds)"
      ],
      "metadata": {
        "colab": {
          "base_uri": "https://localhost:8080/",
          "height": 718
        },
        "outputId": "24715c35-d3fd-4f7a-8470-b9dedc356bcf",
        "id": "it1S3icxa--h"
      },
      "execution_count": 96,
      "outputs": [
        {
          "output_type": "display_data",
          "data": {
            "text/plain": [
              "<Figure size 800x800 with 1 Axes>"
            ],
            "image/png": "[encoded data removed]"
          },
          "metadata": {}
        }
      ]
    },
    {
      "cell_type": "code",
      "source": [
        "# Performance metrics computation for the optimum decision threshold probability\n",
        "desired_threshold = 0.198\t\n",
        "\n",
        "tree.fit(X_train, y_train)\n",
        "\n",
        "y_pred_prob = tree.predict_proba(X_train)[:,1] \n",
        "\n",
        "# Classifying observations in the positive class (y = 1) if the predicted probability is greater\n",
        "# than the desired decision threshold probability\n",
        "y_pred = y_pred_prob > desired_threshold\n",
        "y_pred = y_pred.astype(int)\n",
        "\n",
        "#Computing the accuracy\n",
        "print(\"Accuracy: \",accuracy_score(y_pred, y_train)*100)  \n",
        "\n",
        "#Computing the ROC-AUC\n",
        "fpr, tpr, auc_thresholds = roc_curve(y_train, y_pred_prob)\n",
        "print(\"ROC-AUC: \",auc(fpr, tpr))# AUC of ROC\n",
        "\n",
        "#Computing the precision and recall\n",
        "print(\"Precision: \", precision_score(y_train, y_pred))\n",
        "print(\"Recall: \", recall_score(y_train, y_pred))\n",
        "\n",
        "#Confusion matrix\n",
        "cm = pd.DataFrame(confusion_matrix(y_train, y_pred), \n",
        "                  columns=['Predicted 0', 'Predicted 1'], index = ['Actual 0', 'Actual 1'])\n",
        "sns.heatmap(cm, annot=True, cmap='Blues', fmt='g');"
      ],
      "metadata": {
        "colab": {
          "base_uri": "https://localhost:8080/",
          "height": 501
        },
        "outputId": "e38274be-7680-4aca-855f-5731047ab8f2",
        "id": "jBLJCa7Ea--h"
      },
      "execution_count": 97,
      "outputs": [
        {
          "output_type": "stream",
          "name": "stdout",
          "text": [
            "Accuracy:  88.36\n",
            "ROC-AUC:  0.9655555217176178\n",
            "Precision:  0.7068811438784629\n",
            "Recall:  0.9294947121034077\n"
          ]
        },
        {
          "output_type": "display_data",
          "data": {
            "text/plain": [
              "<Figure size 640x480 with 2 Axes>"
            ],
            "image/png": "[encoded data removed]"
          },
          "metadata": {}
        }
      ]
    },
    {
      "cell_type": "code",
      "source": [
        "# Performance metrics computation for the optimum decision threshold probability\n",
        "desired_threshold = 0.198\t\n",
        "\n",
        "tree.fit(X_train, y_train)\n",
        "\n",
        "y_pred_prob = tree.predict_proba(X_test)[:,1] \n",
        "\n",
        "# Classifying observations in the positive class (y = 1) if the predicted probability is greater\n",
        "# than the desired decision threshold probability\n",
        "y_pred = y_pred_prob > desired_threshold\n",
        "y_pred = y_pred.astype(int)\n",
        "\n",
        "#Computing the accuracy\n",
        "print(\"Accuracy: \",accuracy_score(y_pred, y_test)*100)  \n",
        "\n",
        "#Computing the ROC-AUC\n",
        "fpr, tpr, auc_thresholds = roc_curve(y_test, y_pred_prob)\n",
        "print(\"ROC-AUC: \",auc(fpr, tpr))# AUC of ROC\n",
        "\n",
        "#Computing the precision and recall\n",
        "print(\"Precision: \", precision_score(y_test, y_pred))\n",
        "print(\"Recall: \", recall_score(y_test, y_pred))\n",
        "\n",
        "#Confusion matrix\n",
        "cm = pd.DataFrame(confusion_matrix(y_test, y_pred), \n",
        "                  columns=['Predicted 0', 'Predicted 1'], index = ['Actual 0', 'Actual 1'])\n",
        "sns.heatmap(cm, annot=True, cmap='Blues', fmt='g');"
      ],
      "metadata": {
        "colab": {
          "base_uri": "https://localhost:8080/",
          "height": 505
        },
        "outputId": "46d6fc7e-2752-4309-9898-5ebcb24079ab",
        "id": "CnDEX_Sva--i"
      },
      "execution_count": 98,
      "outputs": [
        {
          "output_type": "stream",
          "name": "stdout",
          "text": [
            "Accuracy:  84.73\n",
            "ROC-AUC:  0.9173535847844934\n",
            "Precision:  0.6836079307456018\n",
            "Recall:  0.8613652357494722\n"
          ]
        },
        {
          "output_type": "display_data",
          "data": {
            "text/plain": [
              "<Figure size 640x480 with 2 Axes>"
            ],
            "image/png": "[encoded data removed]"
          },
          "metadata": {}
        }
      ]
    },
    {
      "cell_type": "code",
      "source": [],
      "metadata": {
        "id": "ZzC3UB7Za_Ij"
      },
      "execution_count": null,
      "outputs": []
    }
  ]
}