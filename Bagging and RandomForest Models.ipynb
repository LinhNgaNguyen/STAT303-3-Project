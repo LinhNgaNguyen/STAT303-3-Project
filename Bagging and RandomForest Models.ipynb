{
 "cells": [
  {
   "cell_type": "code",
   "execution_count": 5,
   "id": "bb3d06dd",
   "metadata": {},
   "outputs": [],
   "source": [
    "import pandas as pd\n",
    "import numpy as np\n",
    "import seaborn as sns\n",
    "import matplotlib.pyplot as plt\n",
    "from sklearn.metrics import mean_squared_error\n",
    "from sklearn.model_selection import cross_val_score,train_test_split\n",
    "from sklearn.model_selection import KFold\n",
    "from sklearn.tree import DecisionTreeRegressor,DecisionTreeClassifier\n",
    "from sklearn.model_selection import GridSearchCV, ParameterGrid\n",
    "from sklearn.ensemble import BaggingRegressor,BaggingClassifier\n",
    "from sklearn.linear_model import LinearRegression,LogisticRegression\n",
    "from sklearn.neighbors import KNeighborsRegressor\n",
    "from sklearn.metrics import roc_curve, precision_recall_curve, auc, make_scorer, recall_score, \\\n",
    "accuracy_score, precision_score, confusion_matrix, mean_squared_error, r2_score\n",
    "from sklearn.impute import KNNImputer"
   ]
  },
  {
   "cell_type": "code",
   "execution_count": 31,
   "id": "bd46c0ad",
   "metadata": {},
   "outputs": [],
   "source": [
    "train = pd.read_csv('train_subset.csv')"
   ]
  },
  {
   "cell_type": "code",
   "execution_count": 32,
   "id": "d043361d",
   "metadata": {},
   "outputs": [],
   "source": [
    "test = pd.read_csv('test_subset.csv')"
   ]
  },
  {
   "cell_type": "code",
   "execution_count": 33,
   "id": "a5977515",
   "metadata": {},
   "outputs": [],
   "source": [
    "y = pd.read_csv('train_labels.csv')"
   ]
  },
  {
   "cell_type": "code",
   "execution_count": 34,
   "id": "edf35321",
   "metadata": {},
   "outputs": [],
   "source": [
    "X_train = train.drop(['Unnamed: 0','customer_ID','S_2','D_63','D_64'],axis=1)"
   ]
  },
  {
   "cell_type": "code",
   "execution_count": 35,
   "id": "7b8b60cd",
   "metadata": {},
   "outputs": [],
   "source": [
    "X_test = test.drop(['Unnamed: 0','customer_ID','S_2','D_63','D_64'],axis=1)"
   ]
  },
  {
   "cell_type": "code",
   "execution_count": 36,
   "id": "ce65475c",
   "metadata": {},
   "outputs": [],
   "source": [
    "# storing missing values for each column in train\n",
    "val_train = train.isna().sum()\n",
    "\n",
    "# storing missing values for each column in test\n",
    "val_test = test.isna().sum()"
   ]
  },
  {
   "cell_type": "code",
   "execution_count": 37,
   "id": "b1bac9d8",
   "metadata": {},
   "outputs": [],
   "source": [
    "# creating dataframe to store how many values are missing in each column for both train and test\n",
    "na_df = pd.DataFrame(columns = train.columns)\n",
    "na_df.loc['Train'] = val_train\n",
    "na_df.loc['Test'] = val_test"
   ]
  },
  {
   "cell_type": "code",
   "execution_count": 38,
   "id": "74ac8403",
   "metadata": {},
   "outputs": [],
   "source": [
    "# identify predictors with large number of missing values \n",
    "col_missing = []\n",
    "for col in na_df.columns:\n",
    "    if na_df.loc['Train',col]/10000 > .8:\n",
    "        col_missing.append(col)"
   ]
  },
  {
   "cell_type": "code",
   "execution_count": 39,
   "id": "f9522b66",
   "metadata": {},
   "outputs": [],
   "source": [
    "# drop predictors with more than 80% missing values\n",
    "X_train = X_train.drop(col_missing,axis=1)"
   ]
  },
  {
   "cell_type": "code",
   "execution_count": 40,
   "id": "122601a3",
   "metadata": {},
   "outputs": [],
   "source": [
    "X_test = X_test.drop(col_missing,axis=1)"
   ]
  },
  {
   "cell_type": "code",
   "execution_count": 41,
   "id": "0c0d035b",
   "metadata": {},
   "outputs": [],
   "source": [
    "imputer = KNNImputer(n_neighbors=2)"
   ]
  },
  {
   "cell_type": "code",
   "execution_count": 42,
   "id": "67a91c7b",
   "metadata": {},
   "outputs": [],
   "source": [
    "X_train = pd.DataFrame(imputer.fit_transform(X_train),columns = X_train.columns)"
   ]
  },
  {
   "cell_type": "code",
   "execution_count": 43,
   "id": "e0c74603",
   "metadata": {},
   "outputs": [],
   "source": [
    "X_test = pd.DataFrame(imputer.fit_transform(X_test),columns = X_test.columns)"
   ]
  },
  {
   "cell_type": "code",
   "execution_count": 44,
   "id": "ccef0cfa",
   "metadata": {},
   "outputs": [
    {
     "data": {
      "text/plain": [
       "0    340085\n",
       "1    118828\n",
       "Name: target, dtype: int64"
      ]
     },
     "execution_count": 44,
     "metadata": {},
     "output_type": "execute_result"
    }
   ],
   "source": [
    "y.target.value_counts()"
   ]
  },
  {
   "cell_type": "code",
   "execution_count": 49,
   "id": "9b249c66",
   "metadata": {},
   "outputs": [],
   "source": [
    "X_train.to_csv('X_train.csv')"
   ]
  },
  {
   "cell_type": "code",
   "execution_count": 50,
   "id": "9051fe9d",
   "metadata": {},
   "outputs": [],
   "source": [
    "X_test.to_csv('X_test.csv')"
   ]
  },
  {
   "cell_type": "code",
   "execution_count": null,
   "id": "898f53f0",
   "metadata": {},
   "outputs": [],
   "source": []
  }
 ],
 "metadata": {
  "kernelspec": {
   "display_name": "Python 3 (ipykernel)",
   "language": "python",
   "name": "python3"
  },
  "language_info": {
   "codemirror_mode": {
    "name": "ipython",
    "version": 3
   },
   "file_extension": ".py",
   "mimetype": "text/x-python",
   "name": "python",
   "nbconvert_exporter": "python",
   "pygments_lexer": "ipython3",
   "version": "3.9.15"
  }
 },
 "nbformat": 4,
 "nbformat_minor": 5
}
