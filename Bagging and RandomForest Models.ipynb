{
 "cells": [
  {
   "cell_type": "code",
   "execution_count": 144,
   "id": "fed9aa7b",
   "metadata": {},
   "outputs": [],
   "source": [
    "import pandas as pd\n",
    "import numpy as np\n",
    "import seaborn as sns\n",
    "import matplotlib.pyplot as plt\n",
    "from sklearn.metrics import mean_squared_error\n",
    "from sklearn.model_selection import cross_val_score,train_test_split\n",
    "from sklearn.model_selection import KFold\n",
    "from sklearn.tree import DecisionTreeRegressor,DecisionTreeClassifier\n",
    "from sklearn.model_selection import GridSearchCV, ParameterGrid\n",
    "from sklearn.ensemble import BaggingRegressor,BaggingClassifier\n",
    "from sklearn.linear_model import LinearRegression,LogisticRegression\n",
    "from sklearn.neighbors import KNeighborsRegressor\n",
    "from sklearn.metrics import roc_curve, precision_recall_curve, auc, make_scorer, recall_score, \\\n",
    "accuracy_score, precision_score, confusion_matrix, mean_squared_error, r2_score\n",
    "from sklearn.impute import KNNImputer"
   ]
  },
  {
   "cell_type": "markdown",
   "id": "aa24c48f",
   "metadata": {},
   "source": [
    "# Data Cleaning"
   ]
  },
  {
   "cell_type": "code",
   "execution_count": 145,
   "id": "ffef03c4",
   "metadata": {},
   "outputs": [],
   "source": [
    "train = pd.read_csv('train_subset.csv')"
   ]
  },
  {
   "cell_type": "code",
   "execution_count": 146,
   "id": "34af3ba7",
   "metadata": {},
   "outputs": [],
   "source": [
    "test = pd.read_csv('test_subset.csv')"
   ]
  },
  {
   "cell_type": "code",
   "execution_count": 147,
   "id": "546cec89",
   "metadata": {},
   "outputs": [],
   "source": [
    "y = pd.read_csv('train_labels.csv')"
   ]
  },
  {
   "cell_type": "code",
   "execution_count": 148,
   "id": "6a6b3245",
   "metadata": {},
   "outputs": [],
   "source": [
    "# merge response + predictors\n",
    "train = pd.merge(train, y)\n",
    "test = pd.merge(test, y)"
   ]
  },
  {
   "cell_type": "code",
   "execution_count": 149,
   "id": "c656eb00",
   "metadata": {},
   "outputs": [],
   "source": [
    "train_filtered = train.drop(['Unnamed: 0','customer_ID','S_2','D_63','D_64'],axis=1)"
   ]
  },
  {
   "cell_type": "code",
   "execution_count": 150,
   "id": "f963ff73",
   "metadata": {},
   "outputs": [],
   "source": [
    "test_filtered = test.drop(['Unnamed: 0','customer_ID','S_2','D_63','D_64'],axis=1)"
   ]
  },
  {
   "cell_type": "code",
   "execution_count": 151,
   "id": "e175c140",
   "metadata": {},
   "outputs": [],
   "source": [
    "# storing missing values for each column in train\n",
    "val_train = train_filtered.isna().sum()\n",
    "\n",
    "# storing missing values for each column in test\n",
    "val_test = test_filtered.isna().sum()"
   ]
  },
  {
   "cell_type": "code",
   "execution_count": 152,
   "id": "cee651b7",
   "metadata": {},
   "outputs": [],
   "source": [
    "# creating dataframe to store how many values are missing in each column for both train and test\n",
    "na_df = pd.DataFrame(columns = train_filtered.columns)\n",
    "test_na_df = pd.DataFrame(columns = test_filtered.columns)\n",
    "test_na_df.loc['Train'] = val_train\n",
    "test_na_df.loc['Test'] = val_test\n",
    "na_df.loc['Train'] = val_train\n",
    "na_df.loc['Test'] = val_test"
   ]
  },
  {
   "cell_type": "code",
   "execution_count": 155,
   "id": "1444d6f8",
   "metadata": {},
   "outputs": [],
   "source": [
    "# identify predictors with large number of missing values \n",
    "col_missing = []\n",
    "for col in na_df.columns:\n",
    "    if na_df.loc['Train',col]/10000 > .8:\n",
    "        col_missing.append(col)"
   ]
  },
  {
   "cell_type": "code",
   "execution_count": 156,
   "id": "d2b8fe12",
   "metadata": {},
   "outputs": [],
   "source": [
    "# identify predictors with large number of missing values \n",
    "test_col_missing = []\n",
    "for col in test_na_df.columns:\n",
    "    if test_na_df.loc['Train',col]/10000 > .8:\n",
    "        test_col_missing.append(col)"
   ]
  },
  {
   "cell_type": "code",
   "execution_count": 157,
   "id": "c051423f",
   "metadata": {},
   "outputs": [],
   "source": [
    "# drop predictors with more than 80% missing values\n",
    "train_filtered = train_filtered.drop(col_missing,axis=1)"
   ]
  },
  {
   "cell_type": "code",
   "execution_count": 160,
   "id": "7c5e2243",
   "metadata": {},
   "outputs": [],
   "source": [
    "test_filtered = test_filtered.drop(test_col_missing,axis=1)"
   ]
  },
  {
   "cell_type": "code",
   "execution_count": 162,
   "id": "e9671e1c",
   "metadata": {},
   "outputs": [],
   "source": [
    "imputer = KNNImputer(n_neighbors=1)"
   ]
  },
  {
   "cell_type": "code",
   "execution_count": null,
   "id": "7a337dbc",
   "metadata": {},
   "outputs": [],
   "source": [
    "train_filtered = pd.DataFrame(imputer.fit_transform(train_filtered),columns = train_filtered.columns)"
   ]
  },
  {
   "cell_type": "code",
   "execution_count": null,
   "id": "cfa7874c",
   "metadata": {},
   "outputs": [],
   "source": [
    "test_filtered = pd.DataFrame(imputer.fit_transform(test_filtered),columns = test_filtered.columns)"
   ]
  },
  {
   "cell_type": "code",
   "execution_count": null,
   "id": "780c36d2",
   "metadata": {},
   "outputs": [],
   "source": [
    "train_filtered"
   ]
  },
  {
   "cell_type": "code",
   "execution_count": null,
   "id": "ca0acc3d",
   "metadata": {},
   "outputs": [],
   "source": [
    "test_filtered"
   ]
  },
  {
   "cell_type": "code",
   "execution_count": 128,
   "id": "a97d8938",
   "metadata": {},
   "outputs": [],
   "source": [
    "train_filtered.to_csv('train_clean.csv')"
   ]
  },
  {
   "cell_type": "code",
   "execution_count": 129,
   "id": "4b7c1d3c",
   "metadata": {},
   "outputs": [],
   "source": [
    "test_filtered.to_csv('test_clean.csv')"
   ]
  },
  {
   "cell_type": "code",
   "execution_count": 133,
   "id": "cde74f57",
   "metadata": {},
   "outputs": [
    {
     "ename": "AttributeError",
     "evalue": "'DataFrame' object has no attribute 'target'",
     "output_type": "error",
     "traceback": [
      "\u001b[0;31m---------------------------------------------------------------------------\u001b[0m",
      "\u001b[0;31mAttributeError\u001b[0m                            Traceback (most recent call last)",
      "\u001b[0;32m/var/folders/9k/40q0t1nx76d67lgtpsph6gr40000gp/T/ipykernel_27573/3052456912.py\u001b[0m in \u001b[0;36m<module>\u001b[0;34m\u001b[0m\n\u001b[0;32m----> 1\u001b[0;31m \u001b[0mtest_filtered\u001b[0m\u001b[0;34m.\u001b[0m\u001b[0mtarget\u001b[0m\u001b[0;34m\u001b[0m\u001b[0;34m\u001b[0m\u001b[0m\n\u001b[0m",
      "\u001b[0;32m~/opt/anaconda3/lib/python3.9/site-packages/pandas/core/generic.py\u001b[0m in \u001b[0;36m__getattr__\u001b[0;34m(self, name)\u001b[0m\n\u001b[1;32m   5573\u001b[0m         ):\n\u001b[1;32m   5574\u001b[0m             \u001b[0;32mreturn\u001b[0m \u001b[0mself\u001b[0m\u001b[0;34m[\u001b[0m\u001b[0mname\u001b[0m\u001b[0;34m]\u001b[0m\u001b[0;34m\u001b[0m\u001b[0;34m\u001b[0m\u001b[0m\n\u001b[0;32m-> 5575\u001b[0;31m         \u001b[0;32mreturn\u001b[0m \u001b[0mobject\u001b[0m\u001b[0;34m.\u001b[0m\u001b[0m__getattribute__\u001b[0m\u001b[0;34m(\u001b[0m\u001b[0mself\u001b[0m\u001b[0;34m,\u001b[0m \u001b[0mname\u001b[0m\u001b[0;34m)\u001b[0m\u001b[0;34m\u001b[0m\u001b[0;34m\u001b[0m\u001b[0m\n\u001b[0m\u001b[1;32m   5576\u001b[0m \u001b[0;34m\u001b[0m\u001b[0m\n\u001b[1;32m   5577\u001b[0m     \u001b[0;32mdef\u001b[0m \u001b[0m__setattr__\u001b[0m\u001b[0;34m(\u001b[0m\u001b[0mself\u001b[0m\u001b[0;34m,\u001b[0m \u001b[0mname\u001b[0m\u001b[0;34m:\u001b[0m \u001b[0mstr\u001b[0m\u001b[0;34m,\u001b[0m \u001b[0mvalue\u001b[0m\u001b[0;34m)\u001b[0m \u001b[0;34m->\u001b[0m \u001b[0;32mNone\u001b[0m\u001b[0;34m:\u001b[0m\u001b[0;34m\u001b[0m\u001b[0;34m\u001b[0m\u001b[0m\n",
      "\u001b[0;31mAttributeError\u001b[0m: 'DataFrame' object has no attribute 'target'"
     ]
    }
   ],
   "source": [
    "test_filtered.target"
   ]
  },
  {
   "cell_type": "markdown",
   "id": "5b8e4c5f",
   "metadata": {},
   "source": [
    "# Bagging"
   ]
  },
  {
   "cell_type": "code",
   "execution_count": null,
   "id": "b44453d8",
   "metadata": {},
   "outputs": [],
   "source": [
    "# Separating the predictors and response\n",
    "y = train_filtered.target\n",
    "X = "
   ]
  }
 ],
 "metadata": {
  "kernelspec": {
   "display_name": "Python 3 (ipykernel)",
   "language": "python",
   "name": "python3"
  },
  "language_info": {
   "codemirror_mode": {
    "name": "ipython",
    "version": 3
   },
   "file_extension": ".py",
   "mimetype": "text/x-python",
   "name": "python",
   "nbconvert_exporter": "python",
   "pygments_lexer": "ipython3",
   "version": "3.9.15"
  }
 },
 "nbformat": 4,
 "nbformat_minor": 5
}
