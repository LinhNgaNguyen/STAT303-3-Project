{
 "cells": [
  {
   "cell_type": "code",
   "execution_count": 81,
   "id": "0c7a6c23",
   "metadata": {},
   "outputs": [],
   "source": [
    "import pandas as pd\n",
    "import numpy as np\n",
    "import seaborn as sns\n",
    "import matplotlib.pyplot as plt\n",
    "from sklearn.metrics import mean_squared_error\n",
    "from sklearn.model_selection import cross_val_score,train_test_split\n",
    "from sklearn.model_selection import KFold\n",
    "from sklearn.tree import DecisionTreeRegressor,DecisionTreeClassifier\n",
    "from sklearn.model_selection import GridSearchCV, ParameterGrid\n",
    "from sklearn.ensemble import BaggingRegressor,BaggingClassifier\n",
    "from sklearn.linear_model import LinearRegression,LogisticRegression\n",
    "from sklearn.neighbors import KNeighborsRegressor\n",
    "from sklearn.metrics import roc_curve, precision_recall_curve, auc, make_scorer, recall_score, \\\n",
    "accuracy_score, precision_score, confusion_matrix, mean_squared_error, r2_score\n",
    "from sklearn.impute import KNNImputer"
   ]
  },
  {
   "cell_type": "markdown",
   "id": "d499b33c",
   "metadata": {},
   "source": [
    "# Data Cleaning"
   ]
  },
  {
   "cell_type": "code",
   "execution_count": 82,
   "id": "df20d1cc",
   "metadata": {},
   "outputs": [],
   "source": [
    "train = pd.read_csv('train_subset.csv')"
   ]
  },
  {
   "cell_type": "code",
   "execution_count": 83,
   "id": "e03678f9",
   "metadata": {},
   "outputs": [],
   "source": [
    "test = pd.read_csv('test_subset.csv')"
   ]
  },
  {
   "cell_type": "code",
   "execution_count": 84,
   "id": "0405bf06",
   "metadata": {},
   "outputs": [],
   "source": [
    "y = pd.read_csv('train_labels.csv')"
   ]
  },
  {
   "cell_type": "code",
   "execution_count": 85,
   "id": "dbabe89c",
   "metadata": {},
   "outputs": [],
   "source": [
    "# merge response + predictors in train data\n",
    "train = pd.merge(train, y)"
   ]
  },
  {
   "cell_type": "code",
   "execution_count": 86,
   "id": "1d1f62b7",
   "metadata": {},
   "outputs": [],
   "source": [
    "train_filtered = train.drop(['Unnamed: 0','customer_ID','S_2','D_63','D_64'],axis=1)"
   ]
  },
  {
   "cell_type": "code",
   "execution_count": 87,
   "id": "b33ee908",
   "metadata": {},
   "outputs": [],
   "source": [
    "test_filtered = test.drop(['Unnamed: 0','customer_ID','S_2','D_63','D_64'],axis=1)"
   ]
  },
  {
   "cell_type": "code",
   "execution_count": 88,
   "id": "fe4b0133",
   "metadata": {},
   "outputs": [],
   "source": [
    "# storing missing values for each column in train\n",
    "val_train = train_filtered.isna().sum()\n",
    "\n",
    "# storing missing values for each column in test\n",
    "val_test = test_filtered.isna().sum()"
   ]
  },
  {
   "cell_type": "code",
   "execution_count": 89,
   "id": "9bba02bc",
   "metadata": {},
   "outputs": [],
   "source": [
    "# creating dataframe to store how many values are missing in each column for both train and test\n",
    "na_df = pd.DataFrame(columns = train_filtered.columns)\n",
    "na_df.loc['Train'] = val_train\n",
    "na_df.loc['Test'] = val_test"
   ]
  },
  {
   "cell_type": "code",
   "execution_count": 90,
   "id": "2da17383",
   "metadata": {},
   "outputs": [],
   "source": [
    "# identify predictors with large number of missing values \n",
    "col_missing = []\n",
    "for col in na_df.columns:\n",
    "    if na_df.loc['Train',col]/10000 > .8:\n",
    "        col_missing.append(col)"
   ]
  },
  {
   "cell_type": "code",
   "execution_count": 91,
   "id": "29dc1b80",
   "metadata": {},
   "outputs": [],
   "source": [
    "# drop predictors with more than 80% missing values\n",
    "train_filtered = train_filtered.drop(col_missing,axis=1)"
   ]
  },
  {
   "cell_type": "code",
   "execution_count": 92,
   "id": "34655e06",
   "metadata": {},
   "outputs": [],
   "source": [
    "test_filtered = test_filtered.drop(col_missing,axis=1)"
   ]
  },
  {
   "cell_type": "code",
   "execution_count": 93,
   "id": "5a1e43e3",
   "metadata": {},
   "outputs": [],
   "source": [
    "imputer = KNNImputer(n_neighbors=1)"
   ]
  },
  {
   "cell_type": "code",
   "execution_count": 94,
   "id": "33e0a986",
   "metadata": {},
   "outputs": [],
   "source": [
    "train_filtered = pd.DataFrame(imputer.fit_transform(train_filtered),columns = train_filtered.columns)"
   ]
  },
  {
   "cell_type": "code",
   "execution_count": 95,
   "id": "57215e30",
   "metadata": {},
   "outputs": [],
   "source": [
    "test_filtered = pd.DataFrame(imputer.fit_transform(test_filtered),columns = test_filtered.columns)"
   ]
  },
  {
   "cell_type": "code",
   "execution_count": 96,
   "id": "19e9a21a",
   "metadata": {},
   "outputs": [],
   "source": [
    "train_filtered.to_csv('train_clean.csv')"
   ]
  },
  {
   "cell_type": "code",
   "execution_count": 97,
   "id": "48122fb2",
   "metadata": {},
   "outputs": [],
   "source": [
    "test_filtered.to_csv('test_clean.csv')"
   ]
  },
  {
   "cell_type": "markdown",
   "id": "2b01a825",
   "metadata": {},
   "source": [
    "# Bagging"
   ]
  },
  {
   "cell_type": "code",
   "execution_count": null,
   "id": "7abe9321",
   "metadata": {},
   "outputs": [],
   "source": [
    "# Separating the predictors and response\n",
    "y = train_filtered.target\n",
    "X = "
   ]
  }
 ],
 "metadata": {
  "kernelspec": {
   "display_name": "Python 3 (ipykernel)",
   "language": "python",
   "name": "python3"
  },
  "language_info": {
   "codemirror_mode": {
    "name": "ipython",
    "version": 3
   },
   "file_extension": ".py",
   "mimetype": "text/x-python",
   "name": "python",
   "nbconvert_exporter": "python",
   "pygments_lexer": "ipython3",
   "version": "3.9.15"
  }
 },
 "nbformat": 4,
 "nbformat_minor": 5
}
