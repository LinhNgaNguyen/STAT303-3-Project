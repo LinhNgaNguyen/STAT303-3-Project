{
 "cells": [
  {
   "cell_type": "code",
   "execution_count": 185,
   "id": "11aea576",
   "metadata": {},
   "outputs": [],
   "source": [
    "import pandas as pd\n",
    "import numpy as np\n",
    "import seaborn as sns\n",
    "import matplotlib.pyplot as plt\n",
    "from sklearn.metrics import mean_squared_error\n",
    "from sklearn.model_selection import cross_val_score,train_test_split\n",
    "from sklearn.model_selection import KFold\n",
    "from sklearn.tree import DecisionTreeRegressor,DecisionTreeClassifier\n",
    "from sklearn.model_selection import GridSearchCV, ParameterGrid\n",
    "from sklearn.ensemble import BaggingRegressor,BaggingClassifier\n",
    "from sklearn.linear_model import LinearRegression,LogisticRegression\n",
    "from sklearn.neighbors import KNeighborsRegressor\n",
    "from sklearn.metrics import roc_curve, precision_recall_curve, auc, make_scorer, recall_score, \\\n",
    "accuracy_score, precision_score, confusion_matrix, mean_squared_error, r2_score\n",
    "from sklearn.impute import KNNImputer\n",
    "from pyearth import Earth"
   ]
  },
  {
   "cell_type": "markdown",
   "id": "e8c11134",
   "metadata": {},
   "source": [
    "# Data Cleaning"
   ]
  },
  {
   "cell_type": "code",
   "execution_count": 145,
   "id": "efcbea36",
   "metadata": {},
   "outputs": [],
   "source": [
    "train = pd.read_csv('train_subset.csv')"
   ]
  },
  {
   "cell_type": "code",
   "execution_count": 146,
   "id": "1823ec12",
   "metadata": {},
   "outputs": [],
   "source": [
    "test = pd.read_csv('test_subset.csv')"
   ]
  },
  {
   "cell_type": "code",
   "execution_count": 147,
   "id": "339c3aef",
   "metadata": {},
   "outputs": [],
   "source": [
    "y = pd.read_csv('train_labels.csv')"
   ]
  },
  {
   "cell_type": "code",
   "execution_count": 148,
   "id": "92e9eabe",
   "metadata": {},
   "outputs": [],
   "source": [
    "# merge response + predictors\n",
    "train = pd.merge(train, y)\n",
    "test = pd.merge(test, y)"
   ]
  },
  {
   "cell_type": "code",
   "execution_count": 149,
   "id": "3a52faf9",
   "metadata": {},
   "outputs": [],
   "source": [
    "train_filtered = train.drop(['Unnamed: 0','customer_ID','S_2','D_63','D_64'],axis=1)"
   ]
  },
  {
   "cell_type": "code",
   "execution_count": 150,
   "id": "860f1798",
   "metadata": {},
   "outputs": [],
   "source": [
    "test_filtered = test.drop(['Unnamed: 0','customer_ID','S_2','D_63','D_64'],axis=1)"
   ]
  },
  {
   "cell_type": "code",
   "execution_count": 151,
   "id": "2f303638",
   "metadata": {},
   "outputs": [],
   "source": [
    "# storing missing values for each column in train\n",
    "val_train = train_filtered.isna().sum()\n",
    "\n",
    "# storing missing values for each column in test\n",
    "val_test = test_filtered.isna().sum()"
   ]
  },
  {
   "cell_type": "code",
   "execution_count": 152,
   "id": "06b20678",
   "metadata": {},
   "outputs": [],
   "source": [
    "# creating dataframe to store how many values are missing in each column for both train and test\n",
    "na_df = pd.DataFrame(columns = train_filtered.columns)\n",
    "test_na_df = pd.DataFrame(columns = test_filtered.columns)\n",
    "test_na_df.loc['Train'] = val_train\n",
    "test_na_df.loc['Test'] = val_test\n",
    "na_df.loc['Train'] = val_train\n",
    "na_df.loc['Test'] = val_test"
   ]
  },
  {
   "cell_type": "code",
   "execution_count": 155,
   "id": "4e5a9b31",
   "metadata": {},
   "outputs": [],
   "source": [
    "# identify predictors with large number of missing values \n",
    "col_missing = []\n",
    "for col in na_df.columns:\n",
    "    if na_df.loc['Train',col]/10000 > .8:\n",
    "        col_missing.append(col)"
   ]
  },
  {
   "cell_type": "code",
   "execution_count": 156,
   "id": "4cb3660e",
   "metadata": {},
   "outputs": [],
   "source": [
    "# identify predictors with large number of missing values \n",
    "test_col_missing = []\n",
    "for col in test_na_df.columns:\n",
    "    if test_na_df.loc['Train',col]/10000 > .8:\n",
    "        test_col_missing.append(col)"
   ]
  },
  {
   "cell_type": "code",
   "execution_count": 157,
   "id": "bc473ef0",
   "metadata": {},
   "outputs": [],
   "source": [
    "# drop predictors with more than 80% missing values\n",
    "train_filtered = train_filtered.drop(col_missing,axis=1)"
   ]
  },
  {
   "cell_type": "code",
   "execution_count": 160,
   "id": "3cfb7658",
   "metadata": {},
   "outputs": [],
   "source": [
    "test_filtered = test_filtered.drop(test_col_missing,axis=1)"
   ]
  },
  {
   "cell_type": "code",
   "execution_count": 162,
   "id": "e558944c",
   "metadata": {},
   "outputs": [],
   "source": [
    "imputer = KNNImputer(n_neighbors=1)"
   ]
  },
  {
   "cell_type": "code",
   "execution_count": 163,
   "id": "9d97955f",
   "metadata": {},
   "outputs": [],
   "source": [
    "train_filtered = pd.DataFrame(imputer.fit_transform(train_filtered),columns = train_filtered.columns)"
   ]
  },
  {
   "cell_type": "code",
   "execution_count": 164,
   "id": "0dd33476",
   "metadata": {},
   "outputs": [],
   "source": [
    "test_filtered = pd.DataFrame(imputer.fit_transform(test_filtered),columns = test_filtered.columns)"
   ]
  },
  {
   "cell_type": "code",
   "execution_count": 167,
   "id": "b343b26c",
   "metadata": {},
   "outputs": [],
   "source": [
    "train_filtered.to_csv('train_clean.csv')"
   ]
  },
  {
   "cell_type": "code",
   "execution_count": 168,
   "id": "c9db8123",
   "metadata": {},
   "outputs": [],
   "source": [
    "test_filtered.to_csv('test_clean.csv')"
   ]
  },
  {
   "cell_type": "markdown",
   "id": "62124cc9",
   "metadata": {},
   "source": [
    "# Bagging"
   ]
  },
  {
   "cell_type": "code",
   "execution_count": 170,
   "id": "f2cc1def",
   "metadata": {},
   "outputs": [],
   "source": [
    "# Separating the predictors and response\n",
    "y_train = train_filtered.target\n",
    "X_train = train_filtered.drop('target',axis =1)\n",
    "y_test = test_filtered.target\n",
    "X_test = test_filtered.drop('target',axis=1)"
   ]
  },
  {
   "cell_type": "code",
   "execution_count": 177,
   "id": "2fef83d4",
   "metadata": {},
   "outputs": [],
   "source": [
    "#Bagging the results of 10 decision trees\n",
    "bag_model = BaggingClassifier(estimator=DecisionTreeClassifier(), n_estimators=50, random_state=1,\n",
    "                        n_jobs=-1).fit(X_train, y_train)"
   ]
  },
  {
   "cell_type": "code",
   "execution_count": 178,
   "id": "e73ca492",
   "metadata": {},
   "outputs": [
    {
     "name": "stdout",
     "output_type": "stream",
     "text": [
      "Accuracy:  83.02000000000001\n",
      "ROC-AUC:  0.9116062371417913\n",
      "Precision:  0.6465914915427986\n",
      "Recall:  0.8877551020408163\n"
     ]
    },
    {
     "data": {
      "image/png": "[encoded data removed]",
      "text/plain": [
       "<Figure size 640x480 with 2 Axes>"
      ]
     },
     "metadata": {},
     "output_type": "display_data"
    }
   ],
   "source": [
    "# Performance metrics computation for the optimum decision threshold probability\n",
    "desired_threshold = 0.23\n",
    "\n",
    "y_pred_prob = bag_model.predict_proba(X_test)[:,1] \n",
    "\n",
    "# Classifying observations in the positive class (y = 1) if the predicted probability is greater\n",
    "# than the desired decision threshold probability\n",
    "y_pred = y_pred_prob > desired_threshold\n",
    "y_pred = y_pred.astype(int)\n",
    "\n",
    "#Computing the accuracy\n",
    "print(\"Accuracy: \",accuracy_score(y_pred, y_test)*100)  \n",
    "\n",
    "#Computing the ROC-AUC\n",
    "fpr, tpr, auc_thresholds = roc_curve(y_test, y_pred_prob)\n",
    "print(\"ROC-AUC: \",auc(fpr, tpr))# AUC of ROC\n",
    "\n",
    "#Computing the precision and recall\n",
    "print(\"Precision: \", precision_score(y_test, y_pred))\n",
    "print(\"Recall: \", recall_score(y_test, y_pred))\n",
    "\n",
    "#Confusion matrix\n",
    "cm = pd.DataFrame(confusion_matrix(y_test, y_pred), \n",
    "                  columns=['Predicted 0', 'Predicted 1'], index = ['Actual 0', 'Actual 1'])\n",
    "sns.heatmap(cm, annot=True, cmap='Blues', fmt='g');"
   ]
  },
  {
   "cell_type": "code",
   "execution_count": 190,
   "id": "3d75da03",
   "metadata": {},
   "outputs": [
    {
     "name": "stdout",
     "output_type": "stream",
     "text": [
      "Fitting 2 folds for each of 16 candidates, totalling 32 fits\n",
      "Train accuracy : 1.000\n",
      "Test accuracy : 0.864\n",
      "Best accuracy Through Grid Search : 0.922\n",
      "Best Parameters :  {'bootstrap': False, 'bootstrap_features': True, 'max_features': 0.5, 'max_samples': 1.0}\n"
     ]
    }
   ],
   "source": [
    "params = {'max_samples': [0.5,1.0],\n",
    "          'max_features': [0.5,1.0],\n",
    "          'bootstrap': [True, False],\n",
    "          'bootstrap_features': [True, False]}\n",
    "\n",
    "cv = KFold(n_splits=2,shuffle=True,random_state=1)\n",
    "bagging_classifier_grid = GridSearchCV(BaggingClassifier(estimator = DecisionTreeClassifier(random_state = 1),\n",
    "                                                         n_estimators=250, random_state=1, n_jobs=-1),\n",
    "                                       param_grid =params, cv=cv, n_jobs=-1, verbose=1,\n",
    "                                       scoring = ['accuracy', 'recall'], refit='recall')\n",
    "bagging_classifier_grid.fit(X_train, y_train)\n",
    "\n",
    "print('Train accuracy : %.3f'%bagging_classifier_grid.best_estimator_.score(X_train, y_train))\n",
    "print('Test accuracy : %.3f'%bagging_classifier_grid.best_estimator_.score(X_test, y_test))\n",
    "print('Best accuracy Through Grid Search : %.3f'%bagging_classifier_grid.best_score_)\n",
    "print('Best Parameters : ',bagging_classifier_grid.best_params_)"
   ]
  },
  {
   "cell_type": "code",
   "execution_count": 195,
   "id": "886e7524",
   "metadata": {},
   "outputs": [],
   "source": [
    "#Bagging the results of 10 decision trees\n",
    "# opt_bag_model = BaggingClassifier(estimator=DecisionTreeClassifier(random_state=1), \n",
    "#                                   n_estimators=250, \n",
    "#                                   random_state=1,\n",
    "#                                   n_jobs=-1,\n",
    "#                                   bootstrap = False,\n",
    "#                                   booststrap_features=True,\n",
    "#                                   max_features=0.5,\n",
    "#                                   max_samples=1.0).fit(X_train, y_train)\n",
    "opt_bag_model = BaggingClassifier(estimator=DecisionTreeClassifier(random_state=1),\n",
    "                          n_estimators=250,\n",
    "                          random_state=1,\n",
    "                          max_features=0.5,\n",
    "                          max_samples=1.0,\n",
    "                          n_jobs=-1,\n",
    "                          bootstrap=True,\n",
    "                          bootstrap_features=False,\n",
    "                                 oob_score=True).fit(X_train, y_train)"
   ]
  },
  {
   "cell_type": "code",
   "execution_count": null,
   "id": "29a3d8da",
   "metadata": {},
   "outputs": [],
   "source": []
  },
  {
   "cell_type": "code",
   "execution_count": null,
   "id": "1a084b94",
   "metadata": {},
   "outputs": [],
   "source": []
  },
  {
   "cell_type": "code",
   "execution_count": null,
   "id": "38fd6d80",
   "metadata": {},
   "outputs": [],
   "source": []
  }
 ],
 "metadata": {
  "kernelspec": {
   "display_name": "Python 3 (ipykernel)",
   "language": "python",
   "name": "python3"
  },
  "language_info": {
   "codemirror_mode": {
    "name": "ipython",
    "version": 3
   },
   "file_extension": ".py",
   "mimetype": "text/x-python",
   "name": "python",
   "nbconvert_exporter": "python",
   "pygments_lexer": "ipython3",
   "version": "3.9.15"
  }
 },
 "nbformat": 4,
 "nbformat_minor": 5
}
