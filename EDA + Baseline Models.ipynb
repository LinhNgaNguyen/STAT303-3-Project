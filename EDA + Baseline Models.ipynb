{
 "cells": [
  {
   "cell_type": "code",
   "execution_count": 8,
   "id": "a1e8cd20",
   "metadata": {},
   "outputs": [],
   "source": [
    "# importing libraries\n",
    "import pandas as pd\n",
    "import numpy as np\n",
    "import seaborn as sns\n",
    "import matplotlib.pyplot as plt\n",
    "import itertools as it\n",
    "from sklearn.metrics import mean_squared_error\n",
    "from sklearn.model_selection import cross_val_score,train_test_split,cross_val_predict\n",
    "from sklearn.model_selection import KFold,StratifiedKFold\n",
    "from sklearn.tree import DecisionTreeRegressor,DecisionTreeClassifier\n",
    "from sklearn.model_selection import GridSearchCV, ParameterGrid\n",
    "from sklearn.ensemble import BaggingRegressor,BaggingClassifier,RandomForestRegressor,RandomForestClassifier\n",
    "from sklearn.linear_model import LinearRegression,LogisticRegression\n",
    "from sklearn.neighbors import KNeighborsRegressor\n",
    "from sklearn.metrics import roc_curve, precision_recall_curve, auc, make_scorer, recall_score, \\\n",
    "accuracy_score, precision_score, confusion_matrix, mean_squared_error, r2_score, mean_absolute_error\n",
    "\n",
    "import warnings\n",
    "warnings.filterwarnings(\"ignore\")"
   ]
  },
  {
   "cell_type": "code",
   "execution_count": 28,
   "id": "98b9934a",
   "metadata": {},
   "outputs": [],
   "source": [
    "# reading in train data \n",
    "train = pd.read_csv('train_data.csv', nrows=10000) #can change nrows value to make train/test datasets bigger"
   ]
  },
  {
   "cell_type": "code",
   "execution_count": 29,
   "id": "0c67232f",
   "metadata": {},
   "outputs": [],
   "source": [
    "# reading in test data\n",
    "test = pd.read_csv('test_data.csv', nrows = 10000)"
   ]
  },
  {
   "cell_type": "code",
   "execution_count": 30,
   "id": "94e1bb1b",
   "metadata": {},
   "outputs": [],
   "source": [
    "# storing missing values for each column in train\n",
    "val_train = train.isna().sum()\n",
    "\n",
    "# storing missing values for each column in test\n",
    "val_test = test.isna().sum()"
   ]
  },
  {
   "cell_type": "code",
   "execution_count": 31,
   "id": "510296e3",
   "metadata": {},
   "outputs": [
    {
     "data": {
      "text/html": [
       "<div>\n",
       "<style scoped>\n",
       "    .dataframe tbody tr th:only-of-type {\n",
       "        vertical-align: middle;\n",
       "    }\n",
       "\n",
       "    .dataframe tbody tr th {\n",
       "        vertical-align: top;\n",
       "    }\n",
       "\n",
       "    .dataframe thead th {\n",
       "        text-align: right;\n",
       "    }\n",
       "</style>\n",
       "<table border=\"1\" class=\"dataframe\">\n",
       "  <thead>\n",
       "    <tr style=\"text-align: right;\">\n",
       "      <th></th>\n",
       "      <th>customer_ID</th>\n",
       "      <th>S_2</th>\n",
       "      <th>P_2</th>\n",
       "      <th>D_39</th>\n",
       "      <th>B_1</th>\n",
       "      <th>B_2</th>\n",
       "      <th>R_1</th>\n",
       "      <th>S_3</th>\n",
       "      <th>D_41</th>\n",
       "      <th>B_3</th>\n",
       "      <th>...</th>\n",
       "      <th>D_136</th>\n",
       "      <th>D_137</th>\n",
       "      <th>D_138</th>\n",
       "      <th>D_139</th>\n",
       "      <th>D_140</th>\n",
       "      <th>D_141</th>\n",
       "      <th>D_142</th>\n",
       "      <th>D_143</th>\n",
       "      <th>D_144</th>\n",
       "      <th>D_145</th>\n",
       "    </tr>\n",
       "  </thead>\n",
       "  <tbody>\n",
       "    <tr>\n",
       "      <th>Train</th>\n",
       "      <td>0</td>\n",
       "      <td>0</td>\n",
       "      <td>64</td>\n",
       "      <td>0</td>\n",
       "      <td>0</td>\n",
       "      <td>0</td>\n",
       "      <td>0</td>\n",
       "      <td>1752</td>\n",
       "      <td>0</td>\n",
       "      <td>0</td>\n",
       "      <td>...</td>\n",
       "      <td>9628</td>\n",
       "      <td>9628</td>\n",
       "      <td>9628</td>\n",
       "      <td>153</td>\n",
       "      <td>63</td>\n",
       "      <td>153</td>\n",
       "      <td>8428</td>\n",
       "      <td>153</td>\n",
       "      <td>63</td>\n",
       "      <td>153</td>\n",
       "    </tr>\n",
       "    <tr>\n",
       "      <th>Test</th>\n",
       "      <td>0</td>\n",
       "      <td>0</td>\n",
       "      <td>41</td>\n",
       "      <td>0</td>\n",
       "      <td>0</td>\n",
       "      <td>6</td>\n",
       "      <td>0</td>\n",
       "      <td>1672</td>\n",
       "      <td>6</td>\n",
       "      <td>6</td>\n",
       "      <td>...</td>\n",
       "      <td>9706</td>\n",
       "      <td>9706</td>\n",
       "      <td>9706</td>\n",
       "      <td>86</td>\n",
       "      <td>29</td>\n",
       "      <td>86</td>\n",
       "      <td>8189</td>\n",
       "      <td>86</td>\n",
       "      <td>29</td>\n",
       "      <td>86</td>\n",
       "    </tr>\n",
       "  </tbody>\n",
       "</table>\n",
       "<p>2 rows × 190 columns</p>\n",
       "</div>"
      ],
      "text/plain": [
       "       customer_ID  S_2  P_2  D_39  B_1  B_2  R_1   S_3  D_41  B_3  ...  \\\n",
       "Train            0    0   64     0    0    0    0  1752     0    0  ...   \n",
       "Test             0    0   41     0    0    6    0  1672     6    6  ...   \n",
       "\n",
       "       D_136  D_137  D_138  D_139  D_140  D_141  D_142  D_143  D_144  D_145  \n",
       "Train   9628   9628   9628    153     63    153   8428    153     63    153  \n",
       "Test    9706   9706   9706     86     29     86   8189     86     29     86  \n",
       "\n",
       "[2 rows x 190 columns]"
      ]
     },
     "execution_count": 31,
     "metadata": {},
     "output_type": "execute_result"
    }
   ],
   "source": [
    "# creating dataframe to store how many values are missing in each column for both train and test\n",
    "na_df = pd.DataFrame(columns = train.columns)\n",
    "na_df.loc['Train'] = val_train\n",
    "na_df.loc['Test'] = val_test\n",
    "na_df"
   ]
  },
  {
   "cell_type": "code",
   "execution_count": null,
   "id": "2f7de16b",
   "metadata": {},
   "outputs": [],
   "source": []
  }
 ],
 "metadata": {
  "kernelspec": {
   "display_name": "Python 3 (ipykernel)",
   "language": "python",
   "name": "python3"
  },
  "language_info": {
   "codemirror_mode": {
    "name": "ipython",
    "version": 3
   },
   "file_extension": ".py",
   "mimetype": "text/x-python",
   "name": "python",
   "nbconvert_exporter": "python",
   "pygments_lexer": "ipython3",
   "version": "3.9.15"
  }
 },
 "nbformat": 4,
 "nbformat_minor": 5
}
