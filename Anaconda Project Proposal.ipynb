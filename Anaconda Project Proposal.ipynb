{
 "cells": [
  {
   "cell_type": "raw",
   "id": "33dd6c4c",
   "metadata": {},
   "source": [
    "---\n",
    "title: \"Project proposal\"\n",
    "format: \n",
    "  html:\n",
    "    toc: true\n",
    "    toc-title: Contents\n",
    "    code-fold: show\n",
    "    self-contained: true\n",
    "jupyter: python3\n",
    "---"
   ]
  },
  {
   "cell_type": "markdown",
   "id": "0116f49b",
   "metadata": {},
   "source": [
    "## Instructions {-}\n",
    "\n",
    "1. Please answer the following questions as part of your project proposal.\n",
    "\n",
    "2. Write your answers in the *Markdown* cells of the Jupyter notebook. You don't need to write any code, but if you want to, you may use the *Code* cells.\n",
    "\n",
    "3. Use [Quarto](https://quarto.org/docs/output-formats/html-basics.html) to print the *.ipynb* file as HTML. You will need to open the command prompt, navigate to the directory containing the file, and use the command: `quarto render filename.ipynb --to html`. Submit the HTML file.\n",
    "\n",
    "4. The project proposal is worth 8 points, and is due on **18th April 2023 at 11:59 pm**. \n",
    "\n",
    "5. You must make one submission as a group, and not individually.\n",
    "\n",
    "6. Maintaining a GitHub repository is optional, though encouraged for the project.\n",
    "\n",
    "7. Share the link of your project's GitHub repository [here](https://docs.google.com/spreadsheets/d/1khao3unpj_vsx4kOSg_Zzo77YK1UWL2w73Oa0aAirOo/edit#gid=0) (optional)."
   ]
  },
  {
   "cell_type": "markdown",
   "id": "fe7ea9bb",
   "metadata": {},
   "source": [
    "# 1) Team name\n",
    "Mention your team name.\n",
    "\n",
    "*(0 points)*"
   ]
  },
  {
   "cell_type": "markdown",
   "id": "53f9ceca",
   "metadata": {},
   "source": [
    "Anaconda"
   ]
  },
  {
   "cell_type": "markdown",
   "id": "16fccc9b",
   "metadata": {},
   "source": [
    "# 2) Member names\n",
    "Mention the names of your team members.\n",
    "\n",
    "*(0 points)*"
   ]
  },
  {
   "cell_type": "markdown",
   "id": "0a2984e6",
   "metadata": {},
   "source": [
    "Hoda Fakhari, Elena Llaguno, Luna Nguyen, Kiara Villalobos-Hernandez"
   ]
  },
  {
   "cell_type": "markdown",
   "id": "220a6528",
   "metadata": {},
   "source": [
    "# 3) Link to the GitHub repository (optional)\n",
    "Share the link of the team's project repository on GitHub.\n",
    "\n",
    "Also, put the link of your project's GitHub repository [here](https://docs.google.com/spreadsheets/d/1khao3unpj_vsx4kOSg_Zzo77YK1UWL2w73Oa0aAirOo/edit#gid=0).\n",
    "\n",
    "We believe there is no harm in having other teams view your GitHub repository. However, if you don't want anyone to see your team's work, you may make the repository *Private* and add your instructor and graduate TA as *Colloborators* in it.\n",
    "\n",
    "*(0 points)*"
   ]
  },
  {
   "cell_type": "markdown",
   "id": "fc74b727",
   "metadata": {},
   "source": [
    "https://github.com/kiaravillalobos303/STAT303-3-Project"
   ]
  },
  {
   "cell_type": "markdown",
   "id": "16c1a490",
   "metadata": {},
   "source": [
    "# 4) Topic\n",
    "Mention the topic of your course project.\n",
    "\n",
    "*(0 points)*"
   ]
  },
  {
   "cell_type": "markdown",
   "id": "245c2a31",
   "metadata": {},
   "source": [
    "Predicitng the amount of money the Mission Hospital spends on an individual patient given a variety of clinical factors. Some of these factors include, \"length of stay\", \"diagnosis\", and \"type of admission\". "
   ]
  },
  {
   "cell_type": "markdown",
   "id": "9403cdfb",
   "metadata": {},
   "source": [
    "# 5) Problem statement\n",
    "\n",
    "*(4 points)*\n",
    "\n",
    "Explain the problem statement. The problem statement must include:\n",
    "\n",
    "## 5a) The problem"
   ]
  },
  {
   "cell_type": "markdown",
   "id": "51f92c1a",
   "metadata": {},
   "source": [
    "The problem is varying costs of treatment per patient depending on different clinical factors. There is no consistency across the different factors so hospitals have no way of immediately knowing how much they’ll need to spend on each patient. "
   ]
  },
  {
   "cell_type": "markdown",
   "id": "9a0dee45",
   "metadata": {},
   "source": [
    "## 5b) Type of response\n",
    "Is it about predicting a continuous response or a binary response or a combination of both?"
   ]
  },
  {
   "cell_type": "markdown",
   "id": "59f32e40",
   "metadata": {},
   "source": [
    "The response is continous as it is the amount of money the Mission Hospital spent on an individual patient (the price of treatment)."
   ]
  },
  {
   "cell_type": "markdown",
   "id": "2c8cb75b",
   "metadata": {},
   "source": [
    "## 5c) Performance metric\n",
    "How will you assess model accuracy?\n",
    "\n",
    "  - If it is a classification problem, then which measure(s) will you optimize for your model – precision, recall, false negative rate (FNR), accuracy, ROC-AUC etc., and why?\n",
    "  - If it is a regression problem, then which measure(s) will you optimize for your model – RMSE (Root mean squared error), MAE (mean absolute error), maximum absolute error etc., and why?"
   ]
  },
  {
   "cell_type": "markdown",
   "id": "b82be59b",
   "metadata": {},
   "source": [
    "We will optimize RMSE because we want to penalize larger errors. Since we will be predicting costs for the hospital, we don’t want to penalize a 50 dlls error in our prediction in the same way we would penalize a 4,000 dlls error in our prediction, so we will use RMSE to assess our model accuracy."
   ]
  },
  {
   "cell_type": "markdown",
   "id": "57701e9e",
   "metadata": {},
   "source": [
    "## 5d) Naive model accuracy\n",
    "What is the accuracy of the naive model (Standard deviation of response in case of continuous response / proportion of the majority class in case of classification model)"
   ]
  },
  {
   "cell_type": "markdown",
   "id": "f4b1e6f0",
   "metadata": {},
   "source": [
    "The root mean squared error of the naive model is 43909.0675 dlls. (Since we are doing linear regression we are going to be focusing on this metric). \n",
    "\n",
    "The standard deviation we get using the naive model is 107169.2958 dlls. "
   ]
  },
  {
   "cell_type": "markdown",
   "id": "3eb2d4f2",
   "metadata": {},
   "source": [
    "# 6) Data\n",
    "\n",
    "## 6a) Source\n",
    "What data sources will you use, and how will the data help solve the problem? Explain.\n",
    "If the data is open source, share the link of the data.\n",
    "\n",
    "*(0.5 point)*"
   ]
  },
  {
   "cell_type": "markdown",
   "id": "03bbfe1f",
   "metadata": {},
   "source": [
    "We found the data in a github repository: https://github.com/rashidesai24/Package-Pricing-at-Mission-Hospital/blob/main/Package%20Pricing%20at%20Mission%20Hospital%20-%20Data%20Supplement.xlsx\n",
    "\n",
    "The file includes the data of 250 patients including the cost of their time in the hospital due to a variety of clinical factors. This data will allow us to create a model to predict how much a hospital spends on a particular patient and therefore can provide an estimate to the patient being admitted and financially prepare both the hospital and the patient being treated. "
   ]
  },
  {
   "cell_type": "markdown",
   "id": "87bee818",
   "metadata": {},
   "source": [
    "## 6b) Response & predictors\n",
    "What is the response, and mention some of the predictors.\n",
    "\n",
    "*(0.5 point)*"
   ]
  },
  {
   "cell_type": "markdown",
   "id": "196fb4fd",
   "metadata": {},
   "source": [
    "The response is \"Total Cost to Hospital\" which indicates the cost of the patient's treatment at the Mission Hospital. Some of the predictors include \"the mode of arrival\" (wether the patient took an abulence or not), \"gender\", \"past medical history\", \"type of admission\" (emergency or not), \"HR Pulse\", \"Key Complaints\" and more. "
   ]
  },
  {
   "cell_type": "markdown",
   "id": "8eb561c3",
   "metadata": {},
   "source": [
    "## 6c) Size\n",
    "What is the number of continuous predictors, categorical predictors, and observations in your dataset(s). If you are using multiple datasets, please provide the information for each dataset. When counting predictors, count only those that have sufficient non-missing values, and will be useful.\n",
    "\n",
    "*(1 point)*"
   ]
  },
  {
   "cell_type": "markdown",
   "id": "7341246e",
   "metadata": {},
   "source": [
    "**Number of observations**: 248\n",
    "\n",
    "**Number of continous predictors**: 14\n",
    "\n",
    "**Number of categorical predictors**: 8 "
   ]
  },
  {
   "cell_type": "markdown",
   "id": "0450286f",
   "metadata": {},
   "source": [
    "# 7) Exisiting solutions\n",
    "Are there existing solutions of your problem? Almost all Kaggle datasets have exisiting solutions. If yes, then how do you plan to build up on those solutions? **What is the highest model accuracy / performance achieved in the existing solutions?**\n",
    "\n",
    "*(1 point)*"
   ]
  },
  {
   "cell_type": "markdown",
   "id": "30a1bf79",
   "metadata": {},
   "source": [
    "There are not existing solutions to our problem, the authors created a model whose objective was to explore the relationship between the predictors and the total cost of a patient's hospital stay using a Logistic Regression model which is not the same objective as we have nor the same regression model we plan on using. "
   ]
  },
  {
   "cell_type": "markdown",
   "id": "cb8a845f",
   "metadata": {},
   "source": [
    "# 8) Stakeholders"
   ]
  },
  {
   "cell_type": "markdown",
   "id": "d39c782c",
   "metadata": {},
   "source": [
    "Who are the stakeholders, and how will your project benefit them? Explain.\n",
    "\n",
    "*(1 point)*"
   ]
  },
  {
   "cell_type": "markdown",
   "id": "ff74ba59",
   "metadata": {},
   "source": [
    "Our key stakeholder in this scenario is Mission Hospital. Our project will benefit them by providing the best model to predict hospital costs from a variety of advanced models that we’ll test. This is beneficial to Mission Hospital because it can help them financially prepare for patients since they will be able to predict how much their treatment will cost the hospital.\n",
    "\n",
    "Another stakeholder we are considering is health insurance companies. These companies could benefit from our project if they work with patients at Mission Hospital. Our ability to predict treatment costs can help insurance companies prepare for the cost of covering certain patients at Mission Hospital depending on their clinical factors."
   ]
  },
  {
   "cell_type": "markdown",
   "id": "0c874b4f",
   "metadata": {},
   "source": [
    "# 9) Work-split\n",
    "*(This question is answered for you)*\n",
    "\n",
    "How do you plan to split the project work amongst individual team members?\n",
    "\n",
    "We will learn to develop and tune the following models in the STAT303 sequence:\n",
    "\n",
    "1. MARS\n",
    "\n",
    "2. Decision trees with cost-complexity pruning\n",
    "\n",
    "3. Bagging (Bagging MARS / decision trees)\n",
    "\n",
    "4. Random Forests\n",
    "\n",
    "5. AdaBoost\n",
    "\n",
    "6. Gradient boosting\n",
    "\n",
    "7. XGBoost\n",
    "\n",
    "8. Lasso / Ridge / Stepwise selection \n",
    "\n",
    "Each team member is required to develop and tune at least one of the above models. In the end, the team will combine all the developed models to create a model more accurate than each of the individual models.\n",
    "\n",
    "*(0 points)*"
   ]
  },
  {
   "cell_type": "markdown",
   "id": "e238be0f",
   "metadata": {},
   "source": [
    "Each team member will be responsible for two of the models above. \n",
    "\n",
    "**Luna**: MARS and Decision trees with cost-complexity pruning\n",
    "    \n",
    "**Kiara**: Bagging (Bagging MARS / decision trees) and Random Forests\n",
    "    \n",
    "**Hoda**: AdaBoost and Gradient boosting\n",
    "\n",
    "**Elena**: XGBoost and Lasso / Ridge / Stepwise selection\n",
    "\n",
    "All team members will be responsible of communicating the results from each of the models produced and work together to combine the models and get the most accurate results. "
   ]
  },
  {
   "cell_type": "code",
   "execution_count": null,
   "id": "dff865b9",
   "metadata": {},
   "outputs": [],
   "source": []
  }
 ],
 "metadata": {
  "kernelspec": {
   "display_name": "Python 3 (ipykernel)",
   "language": "python",
   "name": "python3"
  },
  "language_info": {
   "codemirror_mode": {
    "name": "ipython",
    "version": 3
   },
   "file_extension": ".py",
   "mimetype": "text/x-python",
   "name": "python",
   "nbconvert_exporter": "python",
   "pygments_lexer": "ipython3",
   "version": "3.9.12"
  }
 },
 "nbformat": 4,
 "nbformat_minor": 5
}
