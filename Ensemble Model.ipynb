{
 "cells": [
  {
   "cell_type": "code",
   "execution_count": 17,
   "id": "b89ebd4a",
   "metadata": {},
   "outputs": [],
   "source": [
    "from sklearn.ensemble import VotingClassifier\n",
    "import xgboost as xgb\n",
    "import pandas as pd\n",
    "from sklearn.tree import DecisionTreeClassifier, DecisionTreeRegressor\n",
    "from sklearn.metrics import roc_curve, precision_recall_curve, auc, make_scorer, recall_score, \\\n",
    "accuracy_score, precision_score, confusion_matrix, mean_squared_error, r2_score, mean_absolute_error\n",
    "from sklearn.preprocessing import StandardScaler \n",
    "from sklearn.ensemble import BaggingRegressor,BaggingClassifier,RandomForestRegressor,RandomForestClassifier, AdaBoostClassifier, GradientBoostingClassifier"
   ]
  },
  {
   "cell_type": "markdown",
   "id": "71d75b95",
   "metadata": {},
   "source": [
    "# Ensemble Model"
   ]
  },
  {
   "cell_type": "markdown",
   "id": "30b9c5ab",
   "metadata": {},
   "source": [
    "### Importing Data"
   ]
  },
  {
   "cell_type": "code",
   "execution_count": 18,
   "id": "64160892",
   "metadata": {},
   "outputs": [],
   "source": [
    "train = pd.read_csv('train_clean.csv')\n",
    "train = train.drop(['Unnamed: 0'],axis=1)\n",
    "y_train = train['target']\n",
    "X_train = train.drop('target',axis =1)"
   ]
  },
  {
   "cell_type": "code",
   "execution_count": 19,
   "id": "3095adab",
   "metadata": {},
   "outputs": [],
   "source": [
    "test = pd.read_csv('test_clean.csv')\n",
    "test = test.drop(['Unnamed: 0'],axis=1)\n",
    "y_test = test['target']\n",
    "X_test = test.drop('target',axis =1)"
   ]
  },
  {
   "cell_type": "code",
   "execution_count": 20,
   "id": "1561fae9",
   "metadata": {},
   "outputs": [],
   "source": [
    "# Scale the data\n",
    "scaler = StandardScaler().fit(X_train)\n",
    "X_train_scaled = pd.DataFrame(scaler.transform(X_train), columns = X_train.columns)\n",
    "X_test_scaled = pd.DataFrame(scaler.transform(X_test), columns = X_train.columns)"
   ]
  },
  {
   "cell_type": "markdown",
   "id": "5d379429",
   "metadata": {},
   "source": [
    "### Using Voting Regressor"
   ]
  },
  {
   "cell_type": "code",
   "execution_count": null,
   "id": "80b7e9ae",
   "metadata": {},
   "outputs": [],
   "source": [
    "#Tuned Adaboost model\n",
    "model_ada = AdaBoostClassifier(random_state=1, n_estimators=600, learning_rate=0.2, base_estimator=DecisionTreeClassifier(max_depth=3)).fit(X_train,y_train)\n",
    "test_accuracy_ada = model_ada.score(X_test,y_test)\n",
    "    \n",
    "#Tuned Random forest model\n",
    "model_rf = RandomForestClassifier(random_state=1, max_depth = 17, max_leaf_nodes=37,max_features=20).fit(X_train, y_train)\n",
    "test_accuracy_rf = model_rf.score(X_test,y_test) \n",
    "    \n",
    "#Tuned gradient boosting model\n",
    "model_gb = GradientBoostingClassifier(random_state=1, max_depth=7,n_estimators=600,learning_rate=0.1, subsample=1.0).fit(X_train,y_train)\n",
    "test_accuracy_gb = model_gb.score(X_test,y_test) \n",
    "\n",
    "#Tuned XGBoost model\n",
    "model_xgb = xgb.XGBClassifier(gamma= 0, learning_rate = 0.1, max_depth = 7, n_estimators = 650, reg_lambda = 0, subsample = 1).fit(X_train, y_train)\n",
    "test_accuracy_xgb = model_xgb.score(X_test,y_test) \n",
    "\n",
    "# Baseline model\n",
    "logistic_regression = LogisticRegression(random_state=1).fit(X_train, y_train)\n",
    "log_reg_accuracy = logistic_regression.score(X_test, y_test)\n",
    "\n",
    "\n",
    "print(\"Adaboost accuracy = \",test_accuracy_ada)\n",
    "print(\"Random forest accuracy = \",test_accuracy_rf)\n",
    "print(\"Gradient boost accuracy = \",test_accuracy_gb)\n",
    "print(\"XGBoost model accuracy = \",test_accuracy_xgb)\n",
    "print(\"Logistic Regression model accuracy = \",log_reg_accuracy)"
   ]
  },
  {
   "cell_type": "markdown",
   "id": "c913686a",
   "metadata": {},
   "source": [
    "### Hard Voting"
   ]
  },
  {
   "cell_type": "code",
   "execution_count": null,
   "id": "4f5aa207",
   "metadata": {},
   "outputs": [],
   "source": [
    "ensemble_model_hard = VotingClassifier(estimators=[('ada',model_ada),('rf',model_rf),('gb',model_gb),('xgb',model_xgb), ('logreg', logistic_regression)])\n",
    "ensemble_model_hard.fit(X_train,y_train)\n",
    "y_pred = ensemble_model_hard.predict(X_test)\n",
    "print(\"Test accuracy : \", ensemble_model_hard.score(X_test, y_test)*100, '%')\n",
    "print(\"Recall on Test Data: \", recall_score(y_test, y_pred)*100 , '%')"
   ]
  },
  {
   "cell_type": "markdown",
   "id": "2e005821",
   "metadata": {},
   "source": [
    "### Soft Voting"
   ]
  },
  {
   "cell_type": "code",
   "execution_count": null,
   "id": "6dc81c02",
   "metadata": {},
   "outputs": [],
   "source": [
    "ensemble_model_soft = VotingClassifier(estimators=[('ada',model_ada),('rf',model_rf),('gb',model_gb),('xgb',model_xgb), ('logreg', logistic_regression)],\n",
    "                                 voting='soft')\n",
    "ensemble_model_soft.fit(X_train,y_train)\n",
    "y_pred = ensemble_model_soft.predict(X_test)\n",
    "print(\"Test accuracy = \", ensemble_model_soft.score(X_test, y_test)*100, '%')\n",
    "print(\"Recall on Test Data: \", recall_score(y_test, y_pred)*100 , '%')"
   ]
  },
  {
   "cell_type": "markdown",
   "id": "49c2729b",
   "metadata": {},
   "source": [
    "## Stacking Classifier"
   ]
  },
  {
   "cell_type": "code",
   "execution_count": null,
   "id": "03e5dcff",
   "metadata": {},
   "outputs": [],
   "source": []
  },
  {
   "cell_type": "markdown",
   "id": "a50f86a2",
   "metadata": {},
   "source": [
    "## Tuning all Models Simultaneously"
   ]
  },
  {
   "cell_type": "code",
   "execution_count": null,
   "id": "58ea0d56",
   "metadata": {},
   "outputs": [],
   "source": []
  }
 ],
 "metadata": {
  "kernelspec": {
   "display_name": "Python 3 (ipykernel)",
   "language": "python",
   "name": "python3"
  },
  "language_info": {
   "codemirror_mode": {
    "name": "ipython",
    "version": 3
   },
   "file_extension": ".py",
   "mimetype": "text/x-python",
   "name": "python",
   "nbconvert_exporter": "python",
   "pygments_lexer": "ipython3",
   "version": "3.9.12"
  }
 },
 "nbformat": 4,
 "nbformat_minor": 5
}
