{
 "cells": [
  {
   "cell_type": "markdown",
   "id": "a7bb212d",
   "metadata": {},
   "source": [
    "---\n",
    "title: \"Data Cleaning, Bagged trees & Random forest Code\"\n",
    "subtitle: Anaconda \n",
    "author: Kiara Villalobos-Hernandez\n",
    "date: 06/07/2023\n",
    "number-sections: true\n",
    "abstract: This file contains the Data Preparation, Bagged Trees and Gradient Boost Code for the project on AMEX Default, as part of the STAT303-3 course in Spring 2023.\n",
    "format: \n",
    "  html:\n",
    "    toc: true\n",
    "    toc-title: Contents\n",
    "    self-contained: true\n",
    "    font-size: 100%\n",
    "    toc-depth: 4\n",
    "    mainfont: serif\n",
    "\n",
    "execute: \n",
    "    warning: false\n",
    "    error: false\n",
    "    \n",
    "jupyter: python3\n",
    "\n",
    "---"
   ]
  },
  {
   "cell_type": "code",
   "execution_count": 1,
   "id": "65683aee",
   "metadata": {},
   "outputs": [],
   "source": [
    "import pandas as pd\n",
    "import numpy as np\n",
    "import seaborn as sns\n",
    "import matplotlib.pyplot as plt\n",
    "from sklearn.metrics import mean_squared_error\n",
    "from sklearn.model_selection import cross_val_score,train_test_split, cross_val_predict\n",
    "from sklearn.model_selection import KFold,StratifiedKFold\n",
    "from sklearn.tree import DecisionTreeRegressor,DecisionTreeClassifier\n",
    "from sklearn.model_selection import GridSearchCV, ParameterGrid, RandomizedSearchCV\n",
    "from sklearn.ensemble import BaggingRegressor,BaggingClassifier,RandomForestClassifier\n",
    "from sklearn.linear_model import LinearRegression,LogisticRegression\n",
    "from sklearn.neighbors import KNeighborsRegressor\n",
    "from sklearn.metrics import roc_curve, precision_recall_curve, auc, make_scorer, recall_score, \\\n",
    "accuracy_score, precision_score, confusion_matrix, mean_squared_error, r2_score\n",
    "from sklearn.impute import KNNImputer\n",
    "from pyearth import Earth\n",
    "import time as time"
   ]
  },
  {
   "cell_type": "markdown",
   "id": "d99a5f4e",
   "metadata": {},
   "source": [
    "# Data Cleaning\n",
    "*By Kiara Villalobos-Hernandez and Hoda Fakhari* "
   ]
  },
  {
   "cell_type": "code",
   "execution_count": 2,
   "id": "813707d5",
   "metadata": {},
   "outputs": [],
   "source": [
    "train = pd.read_csv('train_subset.csv')"
   ]
  },
  {
   "cell_type": "code",
   "execution_count": 3,
   "id": "749a49d4",
   "metadata": {},
   "outputs": [],
   "source": [
    "test = pd.read_csv('test_subset.csv')"
   ]
  },
  {
   "cell_type": "code",
   "execution_count": 4,
   "id": "4202ec5c",
   "metadata": {},
   "outputs": [],
   "source": [
    "y = pd.read_csv('train_labels.csv')"
   ]
  },
  {
   "cell_type": "code",
   "execution_count": 5,
   "id": "d9753fcc",
   "metadata": {},
   "outputs": [],
   "source": [
    "# merge response + predictors\n",
    "train = pd.merge(train, y)\n",
    "test = pd.merge(test, y)"
   ]
  },
  {
   "cell_type": "code",
   "execution_count": 6,
   "id": "790809f6",
   "metadata": {},
   "outputs": [],
   "source": [
    "train_filtered = train.drop(['Unnamed: 0','customer_ID','S_2','D_63','D_64'],axis=1)"
   ]
  },
  {
   "cell_type": "code",
   "execution_count": 7,
   "id": "9169c9ab",
   "metadata": {},
   "outputs": [],
   "source": [
    "test_filtered = test.drop(['Unnamed: 0','customer_ID','S_2','D_63','D_64'],axis=1)"
   ]
  },
  {
   "cell_type": "code",
   "execution_count": 8,
   "id": "c106fffc",
   "metadata": {},
   "outputs": [],
   "source": [
    "# storing missing values for each column in train\n",
    "val_train = train_filtered.isna().sum()\n",
    "\n",
    "# storing missing values for each column in test\n",
    "val_test = test_filtered.isna().sum()"
   ]
  },
  {
   "cell_type": "code",
   "execution_count": 152,
   "id": "39df5b46",
   "metadata": {},
   "outputs": [],
   "source": [
    "# creating dataframe to store how many values are missing in each column for both train and test\n",
    "na_df = pd.DataFrame(columns = train_filtered.columns)\n",
    "test_na_df = pd.DataFrame(columns = test_filtered.columns)\n",
    "test_na_df.loc['Train'] = val_train\n",
    "test_na_df.loc['Test'] = val_test\n",
    "na_df.loc['Train'] = val_train\n",
    "na_df.loc['Test'] = val_test"
   ]
  },
  {
   "cell_type": "code",
   "execution_count": 155,
   "id": "57a63e30",
   "metadata": {},
   "outputs": [],
   "source": [
    "# identify predictors with large number of missing values \n",
    "col_missing = []\n",
    "for col in na_df.columns:\n",
    "    if na_df.loc['Train',col]/10000 > .8:\n",
    "        col_missing.append(col)"
   ]
  },
  {
   "cell_type": "code",
   "execution_count": 156,
   "id": "195c3a01",
   "metadata": {},
   "outputs": [],
   "source": [
    "# identify predictors with large number of missing values \n",
    "test_col_missing = []\n",
    "for col in test_na_df.columns:\n",
    "    if test_na_df.loc['Train',col]/10000 > .8:\n",
    "        test_col_missing.append(col)"
   ]
  },
  {
   "cell_type": "code",
   "execution_count": 157,
   "id": "80082835",
   "metadata": {},
   "outputs": [],
   "source": [
    "# drop predictors with more than 80% missing values\n",
    "train_filtered = train_filtered.drop(col_missing,axis=1)"
   ]
  },
  {
   "cell_type": "code",
   "execution_count": 160,
   "id": "b2faedf7",
   "metadata": {},
   "outputs": [],
   "source": [
    "test_filtered = test_filtered.drop(test_col_missing,axis=1)"
   ]
  },
  {
   "cell_type": "code",
   "execution_count": 162,
   "id": "1b712f3f",
   "metadata": {},
   "outputs": [],
   "source": [
    "imputer = KNNImputer(n_neighbors=1)"
   ]
  },
  {
   "cell_type": "code",
   "execution_count": 163,
   "id": "38c6396b",
   "metadata": {},
   "outputs": [],
   "source": [
    "train_filtered = pd.DataFrame(imputer.fit_transform(train_filtered),columns = train_filtered.columns)"
   ]
  },
  {
   "cell_type": "code",
   "execution_count": 164,
   "id": "917462b2",
   "metadata": {},
   "outputs": [],
   "source": [
    "test_filtered = pd.DataFrame(imputer.fit_transform(test_filtered),columns = test_filtered.columns)"
   ]
  },
  {
   "cell_type": "code",
   "execution_count": 167,
   "id": "0d61ff03",
   "metadata": {},
   "outputs": [],
   "source": [
    "train_filtered.to_csv('train_clean.csv')"
   ]
  },
  {
   "cell_type": "code",
   "execution_count": 168,
   "id": "44381c7f",
   "metadata": {},
   "outputs": [],
   "source": [
    "test_filtered.to_csv('test_clean.csv')"
   ]
  },
  {
   "cell_type": "code",
   "execution_count": 196,
   "id": "5cfb00a6",
   "metadata": {},
   "outputs": [
    {
     "data": {
      "text/html": [
       "<div>\n",
       "<style scoped>\n",
       "    .dataframe tbody tr th:only-of-type {\n",
       "        vertical-align: middle;\n",
       "    }\n",
       "\n",
       "    .dataframe tbody tr th {\n",
       "        vertical-align: top;\n",
       "    }\n",
       "\n",
       "    .dataframe thead th {\n",
       "        text-align: right;\n",
       "    }\n",
       "</style>\n",
       "<table border=\"1\" class=\"dataframe\">\n",
       "  <thead>\n",
       "    <tr style=\"text-align: right;\">\n",
       "      <th></th>\n",
       "      <th>P_2</th>\n",
       "      <th>D_39</th>\n",
       "      <th>B_1</th>\n",
       "      <th>B_2</th>\n",
       "      <th>R_1</th>\n",
       "      <th>S_3</th>\n",
       "      <th>D_41</th>\n",
       "      <th>B_3</th>\n",
       "      <th>D_43</th>\n",
       "      <th>D_44</th>\n",
       "      <th>...</th>\n",
       "      <th>D_131</th>\n",
       "      <th>D_133</th>\n",
       "      <th>R_28</th>\n",
       "      <th>D_139</th>\n",
       "      <th>D_140</th>\n",
       "      <th>D_141</th>\n",
       "      <th>D_143</th>\n",
       "      <th>D_144</th>\n",
       "      <th>D_145</th>\n",
       "      <th>target</th>\n",
       "    </tr>\n",
       "  </thead>\n",
       "  <tbody>\n",
       "    <tr>\n",
       "      <th>0</th>\n",
       "      <td>0.910519</td>\n",
       "      <td>0.003323</td>\n",
       "      <td>0.002007</td>\n",
       "      <td>0.813010</td>\n",
       "      <td>0.000483</td>\n",
       "      <td>0.164135</td>\n",
       "      <td>0.008578</td>\n",
       "      <td>0.005668</td>\n",
       "      <td>0.015702</td>\n",
       "      <td>0.002834</td>\n",
       "      <td>...</td>\n",
       "      <td>0.001487</td>\n",
       "      <td>0.008845</td>\n",
       "      <td>0.003424</td>\n",
       "      <td>0.005055</td>\n",
       "      <td>0.003387</td>\n",
       "      <td>0.006381</td>\n",
       "      <td>0.009071</td>\n",
       "      <td>0.000452</td>\n",
       "      <td>0.009093</td>\n",
       "      <td>0.0</td>\n",
       "    </tr>\n",
       "    <tr>\n",
       "      <th>1</th>\n",
       "      <td>0.916596</td>\n",
       "      <td>0.002949</td>\n",
       "      <td>0.007152</td>\n",
       "      <td>0.810892</td>\n",
       "      <td>0.007676</td>\n",
       "      <td>0.164135</td>\n",
       "      <td>0.004424</td>\n",
       "      <td>0.007180</td>\n",
       "      <td>0.015702</td>\n",
       "      <td>0.002115</td>\n",
       "      <td>...</td>\n",
       "      <td>0.000661</td>\n",
       "      <td>0.001575</td>\n",
       "      <td>0.004340</td>\n",
       "      <td>0.009045</td>\n",
       "      <td>0.005062</td>\n",
       "      <td>0.008398</td>\n",
       "      <td>0.009962</td>\n",
       "      <td>0.009318</td>\n",
       "      <td>0.003389</td>\n",
       "      <td>0.0</td>\n",
       "    </tr>\n",
       "    <tr>\n",
       "      <th>2</th>\n",
       "      <td>0.913374</td>\n",
       "      <td>0.000478</td>\n",
       "      <td>0.002182</td>\n",
       "      <td>0.815958</td>\n",
       "      <td>0.000189</td>\n",
       "      <td>0.164135</td>\n",
       "      <td>0.003844</td>\n",
       "      <td>0.006892</td>\n",
       "      <td>0.015702</td>\n",
       "      <td>0.005679</td>\n",
       "      <td>...</td>\n",
       "      <td>0.007952</td>\n",
       "      <td>0.001629</td>\n",
       "      <td>0.006936</td>\n",
       "      <td>0.002448</td>\n",
       "      <td>0.006637</td>\n",
       "      <td>0.002498</td>\n",
       "      <td>0.002704</td>\n",
       "      <td>0.009881</td>\n",
       "      <td>0.006629</td>\n",
       "      <td>0.0</td>\n",
       "    </tr>\n",
       "    <tr>\n",
       "      <th>3</th>\n",
       "      <td>0.907133</td>\n",
       "      <td>0.009843</td>\n",
       "      <td>0.009453</td>\n",
       "      <td>0.819477</td>\n",
       "      <td>0.008656</td>\n",
       "      <td>0.164135</td>\n",
       "      <td>0.001826</td>\n",
       "      <td>0.000576</td>\n",
       "      <td>0.015702</td>\n",
       "      <td>0.004294</td>\n",
       "      <td>...</td>\n",
       "      <td>0.005089</td>\n",
       "      <td>0.000058</td>\n",
       "      <td>0.000533</td>\n",
       "      <td>0.008992</td>\n",
       "      <td>0.002036</td>\n",
       "      <td>0.000650</td>\n",
       "      <td>0.007807</td>\n",
       "      <td>0.007089</td>\n",
       "      <td>0.009498</td>\n",
       "      <td>0.0</td>\n",
       "    </tr>\n",
       "    <tr>\n",
       "      <th>4</th>\n",
       "      <td>0.871219</td>\n",
       "      <td>0.009839</td>\n",
       "      <td>0.000488</td>\n",
       "      <td>0.814127</td>\n",
       "      <td>0.003975</td>\n",
       "      <td>0.164135</td>\n",
       "      <td>0.002952</td>\n",
       "      <td>0.001971</td>\n",
       "      <td>0.015702</td>\n",
       "      <td>0.003254</td>\n",
       "      <td>...</td>\n",
       "      <td>0.007130</td>\n",
       "      <td>0.005932</td>\n",
       "      <td>0.004834</td>\n",
       "      <td>0.000094</td>\n",
       "      <td>0.006466</td>\n",
       "      <td>0.006941</td>\n",
       "      <td>0.000021</td>\n",
       "      <td>0.009241</td>\n",
       "      <td>0.008565</td>\n",
       "      <td>0.0</td>\n",
       "    </tr>\n",
       "    <tr>\n",
       "      <th>...</th>\n",
       "      <td>...</td>\n",
       "      <td>...</td>\n",
       "      <td>...</td>\n",
       "      <td>...</td>\n",
       "      <td>...</td>\n",
       "      <td>...</td>\n",
       "      <td>...</td>\n",
       "      <td>...</td>\n",
       "      <td>...</td>\n",
       "      <td>...</td>\n",
       "      <td>...</td>\n",
       "      <td>...</td>\n",
       "      <td>...</td>\n",
       "      <td>...</td>\n",
       "      <td>...</td>\n",
       "      <td>...</td>\n",
       "      <td>...</td>\n",
       "      <td>...</td>\n",
       "      <td>...</td>\n",
       "      <td>...</td>\n",
       "      <td>...</td>\n",
       "    </tr>\n",
       "    <tr>\n",
       "      <th>9995</th>\n",
       "      <td>0.923459</td>\n",
       "      <td>0.038349</td>\n",
       "      <td>0.034290</td>\n",
       "      <td>1.007538</td>\n",
       "      <td>0.003336</td>\n",
       "      <td>0.074092</td>\n",
       "      <td>0.000943</td>\n",
       "      <td>0.009005</td>\n",
       "      <td>0.035222</td>\n",
       "      <td>0.002907</td>\n",
       "      <td>...</td>\n",
       "      <td>0.008891</td>\n",
       "      <td>0.000086</td>\n",
       "      <td>0.000409</td>\n",
       "      <td>0.007934</td>\n",
       "      <td>0.005344</td>\n",
       "      <td>0.006785</td>\n",
       "      <td>0.002709</td>\n",
       "      <td>0.005027</td>\n",
       "      <td>0.008763</td>\n",
       "      <td>0.0</td>\n",
       "    </tr>\n",
       "    <tr>\n",
       "      <th>9996</th>\n",
       "      <td>0.968773</td>\n",
       "      <td>0.682007</td>\n",
       "      <td>0.033532</td>\n",
       "      <td>1.004179</td>\n",
       "      <td>0.005582</td>\n",
       "      <td>0.068700</td>\n",
       "      <td>0.001663</td>\n",
       "      <td>0.002438</td>\n",
       "      <td>0.034049</td>\n",
       "      <td>0.007320</td>\n",
       "      <td>...</td>\n",
       "      <td>0.004538</td>\n",
       "      <td>0.005462</td>\n",
       "      <td>0.001390</td>\n",
       "      <td>0.000122</td>\n",
       "      <td>0.002820</td>\n",
       "      <td>0.002444</td>\n",
       "      <td>0.006658</td>\n",
       "      <td>0.003938</td>\n",
       "      <td>0.005537</td>\n",
       "      <td>0.0</td>\n",
       "    </tr>\n",
       "    <tr>\n",
       "      <th>9997</th>\n",
       "      <td>0.994103</td>\n",
       "      <td>0.237832</td>\n",
       "      <td>0.028541</td>\n",
       "      <td>1.008582</td>\n",
       "      <td>0.002640</td>\n",
       "      <td>0.055308</td>\n",
       "      <td>0.004520</td>\n",
       "      <td>0.005361</td>\n",
       "      <td>0.031825</td>\n",
       "      <td>0.009472</td>\n",
       "      <td>...</td>\n",
       "      <td>0.000662</td>\n",
       "      <td>0.003891</td>\n",
       "      <td>0.004251</td>\n",
       "      <td>0.001989</td>\n",
       "      <td>0.006962</td>\n",
       "      <td>0.000827</td>\n",
       "      <td>0.003828</td>\n",
       "      <td>0.008829</td>\n",
       "      <td>0.000494</td>\n",
       "      <td>0.0</td>\n",
       "    </tr>\n",
       "    <tr>\n",
       "      <th>9998</th>\n",
       "      <td>0.971680</td>\n",
       "      <td>0.802516</td>\n",
       "      <td>0.037812</td>\n",
       "      <td>1.007390</td>\n",
       "      <td>0.006115</td>\n",
       "      <td>0.026462</td>\n",
       "      <td>0.007735</td>\n",
       "      <td>0.003908</td>\n",
       "      <td>0.031825</td>\n",
       "      <td>0.001587</td>\n",
       "      <td>...</td>\n",
       "      <td>0.004761</td>\n",
       "      <td>0.006838</td>\n",
       "      <td>0.009980</td>\n",
       "      <td>0.004796</td>\n",
       "      <td>0.005723</td>\n",
       "      <td>0.002804</td>\n",
       "      <td>0.004543</td>\n",
       "      <td>0.004120</td>\n",
       "      <td>0.000063</td>\n",
       "      <td>0.0</td>\n",
       "    </tr>\n",
       "    <tr>\n",
       "      <th>9999</th>\n",
       "      <td>0.990912</td>\n",
       "      <td>0.009236</td>\n",
       "      <td>0.019213</td>\n",
       "      <td>1.002660</td>\n",
       "      <td>0.005935</td>\n",
       "      <td>-0.035923</td>\n",
       "      <td>0.007416</td>\n",
       "      <td>0.007344</td>\n",
       "      <td>0.031825</td>\n",
       "      <td>0.005237</td>\n",
       "      <td>...</td>\n",
       "      <td>0.001046</td>\n",
       "      <td>0.003594</td>\n",
       "      <td>0.004140</td>\n",
       "      <td>0.003087</td>\n",
       "      <td>0.009291</td>\n",
       "      <td>0.008839</td>\n",
       "      <td>0.000551</td>\n",
       "      <td>0.006786</td>\n",
       "      <td>0.007417</td>\n",
       "      <td>0.0</td>\n",
       "    </tr>\n",
       "  </tbody>\n",
       "</table>\n",
       "<p>10000 rows × 164 columns</p>\n",
       "</div>"
      ],
      "text/plain": [
       "           P_2      D_39       B_1       B_2       R_1       S_3      D_41  \\\n",
       "0     0.910519  0.003323  0.002007  0.813010  0.000483  0.164135  0.008578   \n",
       "1     0.916596  0.002949  0.007152  0.810892  0.007676  0.164135  0.004424   \n",
       "2     0.913374  0.000478  0.002182  0.815958  0.000189  0.164135  0.003844   \n",
       "3     0.907133  0.009843  0.009453  0.819477  0.008656  0.164135  0.001826   \n",
       "4     0.871219  0.009839  0.000488  0.814127  0.003975  0.164135  0.002952   \n",
       "...        ...       ...       ...       ...       ...       ...       ...   \n",
       "9995  0.923459  0.038349  0.034290  1.007538  0.003336  0.074092  0.000943   \n",
       "9996  0.968773  0.682007  0.033532  1.004179  0.005582  0.068700  0.001663   \n",
       "9997  0.994103  0.237832  0.028541  1.008582  0.002640  0.055308  0.004520   \n",
       "9998  0.971680  0.802516  0.037812  1.007390  0.006115  0.026462  0.007735   \n",
       "9999  0.990912  0.009236  0.019213  1.002660  0.005935 -0.035923  0.007416   \n",
       "\n",
       "           B_3      D_43      D_44  ...     D_131     D_133      R_28  \\\n",
       "0     0.005668  0.015702  0.002834  ...  0.001487  0.008845  0.003424   \n",
       "1     0.007180  0.015702  0.002115  ...  0.000661  0.001575  0.004340   \n",
       "2     0.006892  0.015702  0.005679  ...  0.007952  0.001629  0.006936   \n",
       "3     0.000576  0.015702  0.004294  ...  0.005089  0.000058  0.000533   \n",
       "4     0.001971  0.015702  0.003254  ...  0.007130  0.005932  0.004834   \n",
       "...        ...       ...       ...  ...       ...       ...       ...   \n",
       "9995  0.009005  0.035222  0.002907  ...  0.008891  0.000086  0.000409   \n",
       "9996  0.002438  0.034049  0.007320  ...  0.004538  0.005462  0.001390   \n",
       "9997  0.005361  0.031825  0.009472  ...  0.000662  0.003891  0.004251   \n",
       "9998  0.003908  0.031825  0.001587  ...  0.004761  0.006838  0.009980   \n",
       "9999  0.007344  0.031825  0.005237  ...  0.001046  0.003594  0.004140   \n",
       "\n",
       "         D_139     D_140     D_141     D_143     D_144     D_145  target  \n",
       "0     0.005055  0.003387  0.006381  0.009071  0.000452  0.009093     0.0  \n",
       "1     0.009045  0.005062  0.008398  0.009962  0.009318  0.003389     0.0  \n",
       "2     0.002448  0.006637  0.002498  0.002704  0.009881  0.006629     0.0  \n",
       "3     0.008992  0.002036  0.000650  0.007807  0.007089  0.009498     0.0  \n",
       "4     0.000094  0.006466  0.006941  0.000021  0.009241  0.008565     0.0  \n",
       "...        ...       ...       ...       ...       ...       ...     ...  \n",
       "9995  0.007934  0.005344  0.006785  0.002709  0.005027  0.008763     0.0  \n",
       "9996  0.000122  0.002820  0.002444  0.006658  0.003938  0.005537     0.0  \n",
       "9997  0.001989  0.006962  0.000827  0.003828  0.008829  0.000494     0.0  \n",
       "9998  0.004796  0.005723  0.002804  0.004543  0.004120  0.000063     0.0  \n",
       "9999  0.003087  0.009291  0.008839  0.000551  0.006786  0.007417     0.0  \n",
       "\n",
       "[10000 rows x 164 columns]"
      ]
     },
     "execution_count": 196,
     "metadata": {},
     "output_type": "execute_result"
    }
   ],
   "source": [
    "test_filtered"
   ]
  },
  {
   "cell_type": "markdown",
   "id": "495b7719",
   "metadata": {},
   "source": [
    "# Tuning Decision Tree Classifier\n",
    "*By Kiara Villalobos-Hernandez*"
   ]
  },
  {
   "cell_type": "code",
   "execution_count": 12,
   "id": "58ef82b7",
   "metadata": {},
   "outputs": [],
   "source": [
    "# building model\n",
    "model = DecisionTreeClassifier(random_state=1).fit(X_train, y_train)"
   ]
  },
  {
   "cell_type": "code",
   "execution_count": 13,
   "id": "0602937e",
   "metadata": {},
   "outputs": [],
   "source": [
    "pred = model.predict(X_test)"
   ]
  },
  {
   "cell_type": "code",
   "execution_count": 15,
   "id": "ee94ce9e",
   "metadata": {},
   "outputs": [
    {
     "name": "stdout",
     "output_type": "stream",
     "text": [
      "Maximum tree depth = 25\n",
      "Maximum leaves = 328\n"
     ]
    }
   ],
   "source": [
    "print(\"Maximum tree depth =\", model.get_depth())\n",
    "\n",
    "print(\"Maximum leaves =\", model.get_n_leaves())"
   ]
  },
  {
   "cell_type": "code",
   "execution_count": 20,
   "id": "d5d207d7",
   "metadata": {},
   "outputs": [
    {
     "name": "stdout",
     "output_type": "stream",
     "text": [
      "Fitting 5 folds for each of 4560 candidates, totalling 22800 fits\n",
      "Best params for recall\n",
      "{'max_depth': 2, 'max_features': 5, 'max_leaf_nodes': 2}\n"
     ]
    }
   ],
   "source": [
    "param_grid = {'max_depth':range(2,25,5),\n",
    "              'max_leaf_nodes':range(2,50), \n",
    "              'max_features':range(1,20)}\n",
    "\n",
    "skf = StratifiedKFold(n_splits=5)\n",
    "\n",
    "# grid search to find optimal parameter values\n",
    "grid_search = GridSearchCV(DecisionTreeClassifier(random_state=45), param_grid,\n",
    "                           scoring=['recall', 'accuracy'], \n",
    "                           refit=\"recall\", cv=skf, n_jobs=-1, verbose = True)\n",
    "grid_search.fit(X_train, y_train)\n",
    "\n",
    "print('Best params for recall')\n",
    "print(grid_search.best_params_)\n"
   ]
  },
  {
   "cell_type": "code",
   "execution_count": 24,
   "id": "23c51bf4",
   "metadata": {},
   "outputs": [],
   "source": [
    "# fitting model w/ optimal parameter values\n",
    "classmodel = DecisionTreeClassifier(random_state=1, max_depth = 2, max_leaf_nodes=2,\n",
    "                                    max_features=5).fit(X_train, y_train)\n",
    "\n",
    "cross_val_ypred = cross_val_predict(DecisionTreeClassifier(random_state=1, max_depth = 2, \n",
    "                                                        max_leaf_nodes=2, max_features=5), X_train, \n",
    "                                              y_train, cv = 5, method = 'predict_proba')\n",
    "\n",
    "# data underlying accuracy/recall/threshold plot\n",
    "metrics = pd.DataFrame()\n",
    "i = 0\n",
    "threshold_hyperparam = np.arange(0, 1.01, 0.001)\n",
    "\n",
    "for threshold in threshold_hyperparam:\n",
    "  predicted = cross_val_ypred[:, 1] > threshold\n",
    "  predicted = predicted.astype(int)\n",
    "\n",
    "  accuracy = accuracy_score(predicted, y_train)*100\n",
    "  metrics.loc[i, 'threshold'] = threshold\n",
    "  metrics.loc[i, 'accuracy'] = accuracy\n",
    "  metrics.loc[i, 'recall'] = recall_score(y_train, predicted)*100\n",
    "  \n",
    "  i = i + 1"
   ]
  },
  {
   "cell_type": "code",
   "execution_count": 25,
   "id": "44d652f8",
   "metadata": {},
   "outputs": [
    {
     "data": {
      "text/plain": [
       "<matplotlib.legend.Legend at 0x7fb4175268e0>"
      ]
     },
     "execution_count": 25,
     "metadata": {},
     "output_type": "execute_result"
    },
    {
     "data": {
      "image/png": "[encoded data removed]",
      "text/plain": [
       "<Figure size 640x480 with 1 Axes>"
      ]
     },
     "metadata": {},
     "output_type": "display_data"
    }
   ],
   "source": [
    "# plotting accuracy, recall, against threshold\n",
    "plt.plot(metrics.threshold,metrics.accuracy, label = \"accuracy\")\n",
    "plt.plot(metrics.threshold,metrics.recall, label = \"recall\")\n",
    "plt.xlabel('Threshold')\n",
    "plt.ylabel('Score')\n",
    "plt.legend()"
   ]
  },
  {
   "cell_type": "code",
   "execution_count": 39,
   "id": "55a3dcd0",
   "metadata": {},
   "outputs": [
    {
     "data": {
      "text/plain": [
       "threshold     0.112000\n",
       "accuracy     72.860000\n",
       "recall       75.558167\n",
       "Name: 112, dtype: float64"
      ]
     },
     "execution_count": 39,
     "metadata": {},
     "output_type": "execute_result"
    }
   ],
   "source": [
    "# finding optimal threshold\n",
    "metrics.loc[(metrics.accuracy>=72.0) & (metrics.recall>=75.0), :].sort_values(by = 'recall',\n",
    "                                                                              ascending = False).iloc[0,:]"
   ]
  },
  {
   "cell_type": "code",
   "execution_count": 40,
   "id": "08ebbfcf",
   "metadata": {},
   "outputs": [
    {
     "name": "stdout",
     "output_type": "stream",
     "text": [
      "Train Accuracy:  72.87\n",
      "Train Recall:  75.5973364669017\n",
      "Test Accuracy:  77.09\n",
      "Test Recall:  79.6622097114708\n"
     ]
    }
   ],
   "source": [
    "# Performance metrics computation for the optimum decision threshold probability\n",
    "desired_threshold = 0.112\n",
    "\n",
    "y_pred_prob = classmodel.predict_proba(X_train)[:,1] \n",
    "\n",
    "# Classifying observations uaing desired threshold\n",
    "y_pred = y_pred_prob > desired_threshold\n",
    "y_pred = y_pred.astype(int)\n",
    "\n",
    "#Computing the train accuracy\n",
    "print(\"Train Accuracy: \",accuracy_score(y_pred, y_train)*100)  \n",
    "\n",
    "#Computing train recall\n",
    "print(\"Train Recall: \", recall_score(y_train, y_pred)*100)\n",
    "\n",
    "# resetting predictions\n",
    "y_pred_prob = classmodel.predict_proba(X_test)[:,1] \n",
    "\n",
    "# Classifying observations using desired threshold\n",
    "y_pred = y_pred_prob > desired_threshold\n",
    "y_pred = y_pred.astype(int)\n",
    "\n",
    "#Computing the test accuracy\n",
    "print(\"Test Accuracy: \",accuracy_score(y_pred, y_test)*100)  \n",
    "\n",
    "#Computing the test recall\n",
    "print(\"Test Recall: \", recall_score(y_test, y_pred)*100)"
   ]
  },
  {
   "cell_type": "markdown",
   "id": "c2ad5ac6",
   "metadata": {},
   "source": [
    "# BaggingClassifier w/ Tuned Decision Tree Classifier\n",
    "*By Kiara Villalobos-Hernandez*"
   ]
  },
  {
   "cell_type": "code",
   "execution_count": 47,
   "id": "f025a41b",
   "metadata": {},
   "outputs": [],
   "source": [
    "bag_model = BaggingClassifier(classmodel, n_estimators=50, random_state=1,\n",
    "                        n_jobs=-1, oob_score=True).fit(X_train, y_train)"
   ]
  },
  {
   "cell_type": "code",
   "execution_count": 48,
   "id": "ccaa8823",
   "metadata": {},
   "outputs": [],
   "source": [
    "ypred = bag_model.predict_proba(X_train)[:,1]"
   ]
  },
  {
   "cell_type": "code",
   "execution_count": 50,
   "id": "e71f0873",
   "metadata": {},
   "outputs": [],
   "source": [
    "cross_val_ypred = cross_val_predict(BaggingClassifier(classmodel, n_estimators=50, random_state=1,\n",
    "                        n_jobs=-1, oob_score=True), X_train, \n",
    "                                              y_train, cv = 5, method = 'predict_proba')\n",
    "\n",
    "\n",
    "\n",
    "# data underlying accuracy/recall/threshold plot\n",
    "metrics = pd.DataFrame()\n",
    "i = 0\n",
    "threshold_hyperparam = np.arange(0, 1.01, 0.001)\n",
    "\n",
    "for threshold in threshold_hyperparam:\n",
    "  predicted = cross_val_ypred[:, 1] > threshold\n",
    "  predicted = predicted.astype(int)\n",
    "\n",
    "  accuracy = accuracy_score(predicted, y_train)*100\n",
    "  metrics.loc[i, 'threshold'] = threshold\n",
    "  metrics.loc[i, 'accuracy'] = accuracy\n",
    "  metrics.loc[i, 'recall'] = recall_score(y_train, predicted)*100\n",
    "  \n",
    "  i = i + 1"
   ]
  },
  {
   "cell_type": "code",
   "execution_count": 51,
   "id": "5d9c7637",
   "metadata": {},
   "outputs": [
    {
     "data": {
      "text/plain": [
       "<matplotlib.legend.Legend at 0x7fb4175f8e80>"
      ]
     },
     "execution_count": 51,
     "metadata": {},
     "output_type": "execute_result"
    },
    {
     "data": {
      "image/png": "[encoded data removed]",
      "text/plain": [
       "<Figure size 640x480 with 1 Axes>"
      ]
     },
     "metadata": {},
     "output_type": "display_data"
    }
   ],
   "source": [
    "# plotting accuracy, recall, against threshold\n",
    "plt.plot(metrics.threshold,metrics.accuracy, label = \"accuracy\")\n",
    "plt.plot(metrics.threshold,metrics.recall, label = \"recall\")\n",
    "plt.xlabel('Threshold')\n",
    "plt.ylabel('Score')\n",
    "plt.legend()"
   ]
  },
  {
   "cell_type": "code",
   "execution_count": 64,
   "id": "2dc0ca9a",
   "metadata": {},
   "outputs": [
    {
     "data": {
      "text/plain": [
       "threshold     0.288000\n",
       "accuracy     82.050000\n",
       "recall       82.804544\n",
       "Name: 288, dtype: float64"
      ]
     },
     "execution_count": 64,
     "metadata": {},
     "output_type": "execute_result"
    }
   ],
   "source": [
    "# finding optimal threshold\n",
    "metrics.loc[(metrics.accuracy>=82.0) & (metrics.recall>=82.0), :].sort_values(by = 'recall',\n",
    "                                                                              ascending = False).iloc[0,:]"
   ]
  },
  {
   "cell_type": "code",
   "execution_count": 90,
   "id": "3acd0fa0",
   "metadata": {},
   "outputs": [
    {
     "name": "stdout",
     "output_type": "stream",
     "text": [
      "Train Accuracy:  82.28999999999999\n",
      "Train Recall:  84.37132784958872\n",
      "Test Accuracy:  81.87\n",
      "Test Recall:  81.31597466572836\n"
     ]
    }
   ],
   "source": [
    "# Performance metrics computation for the optimum decision threshold probability\n",
    "desired_threshold = 0.288\n",
    "\n",
    "y_pred_prob = bag_model.predict_proba(X_train)[:,1] \n",
    "\n",
    "# Classifying observations uaing desired threshold\n",
    "y_pred = y_pred_prob > desired_threshold\n",
    "y_pred = y_pred.astype(int)\n",
    "\n",
    "#Computing the train accuracy\n",
    "print(\"Train Accuracy: \",accuracy_score(y_pred, y_train)*100)  \n",
    "\n",
    "#Computing train recall\n",
    "print(\"Train Recall: \", recall_score(y_train, y_pred)*100)\n",
    "\n",
    "# resetting predictions\n",
    "y_pred_prob = bag_model.predict_proba(X_test)[:,1] \n",
    "\n",
    "# Classifying observations using desired threshold\n",
    "y_pred = y_pred_prob > desired_threshold\n",
    "y_pred = y_pred.astype(int)\n",
    "\n",
    "#Computing the test accuracy\n",
    "print(\"Test Accuracy: \",accuracy_score(y_pred, y_test)*100)  \n",
    "\n",
    "#Computing the test recall\n",
    "print(\"Test Recall: \", recall_score(y_test, y_pred)*100)"
   ]
  },
  {
   "cell_type": "markdown",
   "id": "052d58d9",
   "metadata": {},
   "source": [
    "# Tuning Bagging Classifier\n",
    "*By Kiara Villalobos-Hernandez*"
   ]
  },
  {
   "cell_type": "code",
   "execution_count": 68,
   "id": "d7e407b1",
   "metadata": {},
   "outputs": [
    {
     "name": "stdout",
     "output_type": "stream",
     "text": [
      "Fitting 2 folds for each of 18 candidates, totalling 36 fits\n",
      "Train accuracy : 0.753\n",
      "Test accuracy : 0.727\n",
      "Best accuracy Through Grid Search : 0.049\n",
      "Best Parameters :  {'bootstrap_features': True, 'max_features': 0.5, 'max_samples': 0.1}\n"
     ]
    }
   ],
   "source": [
    "params = {'max_samples': [0.1,0.5,1.0],\n",
    "          'max_features': [0.1,0.5,1.0],\n",
    "          'bootstrap_features': [True, False]}\n",
    "\n",
    "cv = KFold(n_splits=2,shuffle=True,random_state=1)\n",
    "bagging_classifier_grid = GridSearchCV(BaggingClassifier(estimator = classmodel,\n",
    "                                                         n_estimators=250, random_state=1, n_jobs=-1, bootstrap=True),\n",
    "                                       param_grid =params, cv=cv, n_jobs=-1, verbose=1,\n",
    "                                       scoring = ['accuracy', 'recall'], refit='recall')\n",
    "bagging_classifier_grid.fit(X_train, y_train)\n",
    "\n",
    "print('Train accuracy : %.3f'%bagging_classifier_grid.best_estimator_.score(X_train, y_train))\n",
    "print('Test accuracy : %.3f'%bagging_classifier_grid.best_estimator_.score(X_test, y_test))\n",
    "print('Best accuracy Through Grid Search : %.3f'%bagging_classifier_grid.best_score_)\n",
    "print('Best Parameters : ',bagging_classifier_grid.best_params_)"
   ]
  },
  {
   "cell_type": "code",
   "execution_count": 74,
   "id": "3fbb7221",
   "metadata": {},
   "outputs": [
    {
     "name": "stdout",
     "output_type": "stream",
     "text": [
      "Fitting 2 folds for each of 18 candidates, totalling 36 fits\n",
      "Train accuracy : 0.757\n",
      "Test accuracy : 0.730\n",
      "Best accuracy Through Grid Search : 0.125\n",
      "Best Parameters :  {'bootstrap_features': False, 'max_features': 0.48, 'max_samples': 0.035}\n"
     ]
    }
   ],
   "source": [
    "params = {'max_samples': [0.03,0.035,0.04],\n",
    "          'max_features': [0.46,0.48,0.5],\n",
    "          'bootstrap_features': [True, False]}\n",
    "\n",
    "cv = KFold(n_splits=2,shuffle=True,random_state=1)\n",
    "bagging_classifier_grid = GridSearchCV(BaggingClassifier(estimator = classmodel,\n",
    "                                                         n_estimators=250, random_state=1, n_jobs=-1, bootstrap=True),\n",
    "                                       param_grid =params, cv=cv, n_jobs=-1, verbose=1,\n",
    "                                       scoring = ['accuracy', 'recall'], refit='recall')\n",
    "bagging_classifier_grid.fit(X_train, y_train)\n",
    "\n",
    "print('Train accuracy : %.3f'%bagging_classifier_grid.best_estimator_.score(X_train, y_train))\n",
    "print('Test accuracy : %.3f'%bagging_classifier_grid.best_estimator_.score(X_test, y_test))\n",
    "print('Best accuracy Through Grid Search : %.3f'%bagging_classifier_grid.best_score_)\n",
    "print('Best Parameters : ',bagging_classifier_grid.best_params_)"
   ]
  },
  {
   "cell_type": "code",
   "execution_count": 75,
   "id": "5d80e9a2",
   "metadata": {},
   "outputs": [],
   "source": [
    "opt_bag_model = BaggingClassifier(classmodel, \n",
    "                                  n_estimators=250,\n",
    "                                  random_state=1,\n",
    "                                  n_jobs=-1,\n",
    "                                  oob_score=True,\n",
    "                                 bootstrap_features=False,\n",
    "                                 max_features=0.48,\n",
    "                                 max_samples=0.035).fit(X_train, y_train)"
   ]
  },
  {
   "cell_type": "code",
   "execution_count": 77,
   "id": "71251822",
   "metadata": {},
   "outputs": [],
   "source": [
    "ypred = opt_bag_model.predict_proba(X_train)[:,1]"
   ]
  },
  {
   "cell_type": "code",
   "execution_count": 80,
   "id": "f7bbf91b",
   "metadata": {},
   "outputs": [],
   "source": [
    "cross_val_ypred = cross_val_predict(BaggingClassifier(classmodel, \n",
    "                                  n_estimators=250,\n",
    "                                  random_state=1,\n",
    "                                  n_jobs=-1,\n",
    "                                  oob_score=True,\n",
    "                                 bootstrap_features=False,\n",
    "                                 max_features=0.48,\n",
    "                                 max_samples=0.035), X_train, \n",
    "                                              y_train, cv = 5, method = 'predict_proba')\n",
    "\n",
    "\n",
    "\n",
    "# data underlying accuracy/recall/threshold plot\n",
    "metrics = pd.DataFrame()\n",
    "i = 0\n",
    "threshold_hyperparam = np.arange(0, 1.01, 0.001)\n",
    "\n",
    "for threshold in threshold_hyperparam:\n",
    "  predicted = cross_val_ypred[:, 1] > threshold\n",
    "  predicted = predicted.astype(int)\n",
    "\n",
    "  accuracy = accuracy_score(predicted, y_train)*100\n",
    "  metrics.loc[i, 'threshold'] = threshold\n",
    "  metrics.loc[i, 'accuracy'] = accuracy\n",
    "  metrics.loc[i, 'recall'] = recall_score(y_train, predicted)*100\n",
    "  \n",
    "  i = i + 1"
   ]
  },
  {
   "cell_type": "code",
   "execution_count": 81,
   "id": "b5865a4c",
   "metadata": {},
   "outputs": [
    {
     "data": {
      "text/plain": [
       "<matplotlib.legend.Legend at 0x7fb4173fcfd0>"
      ]
     },
     "execution_count": 81,
     "metadata": {},
     "output_type": "execute_result"
    },
    {
     "data": {
      "image/png": "[encoded data removed]",
      "text/plain": [
       "<Figure size 640x480 with 1 Axes>"
      ]
     },
     "metadata": {},
     "output_type": "display_data"
    }
   ],
   "source": [
    "# plotting accuracy, recall, against threshold\n",
    "plt.plot(metrics.threshold,metrics.accuracy, label = \"accuracy\")\n",
    "plt.plot(metrics.threshold,metrics.recall, label = \"recall\")\n",
    "plt.xlabel('Threshold')\n",
    "plt.ylabel('Score')\n",
    "plt.legend()"
   ]
  },
  {
   "cell_type": "code",
   "execution_count": 86,
   "id": "2cffb1a5",
   "metadata": {},
   "outputs": [
    {
     "data": {
      "text/plain": [
       "threshold     0.299000\n",
       "accuracy     83.090000\n",
       "recall       83.705445\n",
       "Name: 299, dtype: float64"
      ]
     },
     "execution_count": 86,
     "metadata": {},
     "output_type": "execute_result"
    }
   ],
   "source": [
    "# finding optimal threshold\n",
    "metrics.loc[(metrics.accuracy>=83.0) & (metrics.recall>=82.0), :].sort_values(by = 'recall',\n",
    "                                                                              ascending = False).iloc[0,:]"
   ]
  },
  {
   "cell_type": "code",
   "execution_count": 89,
   "id": "fa59d016",
   "metadata": {},
   "outputs": [
    {
     "name": "stdout",
     "output_type": "stream",
     "text": [
      "Train Accuracy:  83.67\n",
      "Train Recall:  83.78378378378379\n",
      "Test Accuracy:  83.47\n",
      "Test Recall:  81.06966924700914\n"
     ]
    }
   ],
   "source": [
    "# Performance metrics computation for the optimum decision threshold probability\n",
    "desired_threshold = 0.299\n",
    "\n",
    "y_pred_prob = opt_bag_model.predict_proba(X_train)[:,1] \n",
    "\n",
    "# Classifying observations uaing desired threshold\n",
    "y_pred = y_pred_prob > desired_threshold\n",
    "y_pred = y_pred.astype(int)\n",
    "\n",
    "#Computing the train accuracy\n",
    "print(\"Train Accuracy: \",accuracy_score(y_pred, y_train)*100)  \n",
    "\n",
    "#Computing train recall\n",
    "print(\"Train Recall: \", recall_score(y_train, y_pred)*100)\n",
    "\n",
    "# resetting predictions\n",
    "y_pred_prob = opt_bag_model.predict_proba(X_test)[:,1] \n",
    "\n",
    "# Classifying observations using desired threshold\n",
    "y_pred = y_pred_prob > desired_threshold\n",
    "y_pred = y_pred.astype(int)\n",
    "\n",
    "#Computing the test accuracy\n",
    "print(\"Test Accuracy: \",accuracy_score(y_pred, y_test)*100)  \n",
    "\n",
    "#Computing the test recall\n",
    "print(\"Test Recall: \", recall_score(y_test, y_pred)*100)"
   ]
  },
  {
   "cell_type": "code",
   "execution_count": 91,
   "id": "77c02145",
   "metadata": {},
   "outputs": [
    {
     "data": {
      "image/png": "[encoded data removed]",
      "text/plain": [
       "<Figure size 640x480 with 2 Axes>"
      ]
     },
     "metadata": {},
     "output_type": "display_data"
    }
   ],
   "source": [
    "#Confusion matrix\n",
    "cm = pd.DataFrame(confusion_matrix(y_test, y_pred), \n",
    "                  columns=['Predicted 0', 'Predicted 1'], index = ['Actual 0', 'Actual 1'])\n",
    "sns.heatmap(cm, annot=True, cmap='Blues', fmt='g');"
   ]
  },
  {
   "cell_type": "markdown",
   "id": "f9223391",
   "metadata": {},
   "source": [
    "# Random Forest\n",
    "*By Kiara Villalobos-Hernandez*"
   ]
  },
  {
   "cell_type": "code",
   "execution_count": 11,
   "id": "39e9074c",
   "metadata": {},
   "outputs": [
    {
     "name": "stdout",
     "output_type": "stream",
     "text": [
      "Fitting 5 folds for each of 20 candidates, totalling 100 fits\n",
      "0.7136648632055561 {'max_leaf_nodes': 38, 'max_features': 15, 'max_depth': 22}\n"
     ]
    }
   ],
   "source": [
    "# coarse grid search\n",
    "parameters = {'max_depth':range(2,25, 5),\n",
    "              'max_leaf_nodes':range(2,45,9),\n",
    "              'max_features': range(1,20)}\n",
    "\n",
    "skf = StratifiedKFold(n_splits=5)\n",
    "\n",
    "forest_grid = RandomizedSearchCV(RandomForestClassifier(random_state=1), parameters, n_jobs=-1,verbose=True,cv=skf,\n",
    "                    scoring=['recall', 'accuracy'], refit = 'recall', n_iter=20)\n",
    "\n",
    "forest_grid.fit(X_train, y_train)\n",
    "\n",
    "print (forest_grid.best_score_, forest_grid.best_params_) "
   ]
  },
  {
   "cell_type": "code",
   "execution_count": 12,
   "id": "5608756e",
   "metadata": {},
   "outputs": [
    {
     "name": "stdout",
     "output_type": "stream",
     "text": [
      "Fitting 5 folds for each of 20 candidates, totalling 100 fits\n",
      "0.7113226660527225 {'max_leaf_nodes': 29, 'max_features': 17, 'max_depth': 24}\n"
     ]
    }
   ],
   "source": [
    "# coarse grid search\n",
    "parameters = {'max_depth':range(18,26, 3),\n",
    "              'max_leaf_nodes':range(2,40,9),\n",
    "              'max_features': range(10,20)}\n",
    "\n",
    "skf = StratifiedKFold(n_splits=5)\n",
    "\n",
    "forest_grid = RandomizedSearchCV(RandomForestClassifier(random_state=1), parameters, n_jobs=-1,verbose=True,cv=skf,\n",
    "                    scoring=['recall', 'accuracy'], refit = 'recall', n_iter=20)\n",
    "\n",
    "forest_grid.fit(X_train, y_train)\n",
    "\n",
    "print (forest_grid.best_score_, forest_grid.best_params_)"
   ]
  },
  {
   "cell_type": "code",
   "execution_count": 14,
   "id": "aa95cbe1",
   "metadata": {},
   "outputs": [
    {
     "name": "stdout",
     "output_type": "stream",
     "text": [
      "Fitting 5 folds for each of 50 candidates, totalling 250 fits\n",
      "0.7211112390161544 {'max_leaf_nodes': 35, 'max_features': 19, 'max_depth': 20}\n"
     ]
    }
   ],
   "source": [
    "# coarse grid search\n",
    "parameters = {'max_depth':range(20,25),\n",
    "              'max_leaf_nodes':range(25,40,5),\n",
    "              'max_features': range(15,20)}\n",
    "\n",
    "skf = StratifiedKFold(n_splits=5)\n",
    "\n",
    "forest_grid = RandomizedSearchCV(RandomForestClassifier(random_state=1), parameters, n_jobs=-1,verbose=True,cv=skf,\n",
    "                    scoring=['recall', 'accuracy'], refit = 'recall', n_iter=50)\n",
    "\n",
    "forest_grid.fit(X_train, y_train)\n",
    "\n",
    "print (forest_grid.best_score_, forest_grid.best_params_) "
   ]
  },
  {
   "cell_type": "code",
   "execution_count": 16,
   "id": "d0bb83b0",
   "metadata": {},
   "outputs": [
    {
     "name": "stdout",
     "output_type": "stream",
     "text": [
      "Fitting 5 folds for each of 40 candidates, totalling 200 fits\n",
      "0.7211112390161544 {'max_depth': 20, 'max_features': 19, 'max_leaf_nodes': 35}\n"
     ]
    }
   ],
   "source": [
    "# coarse grid search\n",
    "parameters = {'max_depth':range(20,24),\n",
    "              'max_leaf_nodes':range(30,40,5),\n",
    "              'max_features': range(15,20)}\n",
    "\n",
    "skf = StratifiedKFold(n_splits=5)\n",
    "\n",
    "forest_grid = GridSearchCV(RandomForestClassifier(random_state=1), parameters, n_jobs=-1,verbose=True,cv=skf,\n",
    "                    scoring=['recall', 'accuracy'], refit = 'recall')\n",
    "\n",
    "forest_grid.fit(X_train, y_train)\n",
    "\n",
    "print (forest_grid.best_score_, forest_grid.best_params_) "
   ]
  },
  {
   "cell_type": "code",
   "execution_count": 17,
   "id": "6915be2f",
   "metadata": {},
   "outputs": [
    {
     "name": "stdout",
     "output_type": "stream",
     "text": [
      "Fitting 5 folds for each of 27 candidates, totalling 135 fits\n",
      "0.7261993016384636 {'max_depth': 19, 'max_features': 20, 'max_leaf_nodes': 36}\n"
     ]
    }
   ],
   "source": [
    "# coarse grid search\n",
    "parameters = {'max_depth':[19,20,21],\n",
    "              'max_leaf_nodes':[34,35,36],\n",
    "              'max_features': [18,19,20]}\n",
    "\n",
    "skf = StratifiedKFold(n_splits=5)\n",
    "\n",
    "forest_grid = GridSearchCV(RandomForestClassifier(random_state=1), parameters, n_jobs=-1,verbose=True,cv=skf,\n",
    "                    scoring=['recall', 'accuracy'], refit = 'recall')\n",
    "\n",
    "forest_grid.fit(X_train, y_train)\n",
    "\n",
    "print (forest_grid.best_score_, forest_grid.best_params_) "
   ]
  },
  {
   "cell_type": "code",
   "execution_count": 19,
   "id": "bb48c5b8",
   "metadata": {},
   "outputs": [
    {
     "name": "stdout",
     "output_type": "stream",
     "text": [
      "Fitting 5 folds for each of 27 candidates, totalling 135 fits\n",
      "0.7293319519588658 {'max_depth': 17, 'max_features': 20, 'max_leaf_nodes': 37}\n"
     ]
    }
   ],
   "source": [
    "# coarse grid search\n",
    "parameters = {'max_depth':[17,18,19],\n",
    "              'max_leaf_nodes':[36,37,38],\n",
    "              'max_features': [19,20,21]}\n",
    "\n",
    "skf = StratifiedKFold(n_splits=5)\n",
    "\n",
    "forest_grid = GridSearchCV(RandomForestClassifier(random_state=1), parameters, n_jobs=-1,verbose=True,cv=skf,\n",
    "                    scoring=['recall', 'accuracy'], refit = 'recall')\n",
    "\n",
    "forest_grid.fit(X_train, y_train)\n",
    "\n",
    "print (forest_grid.best_score_, forest_grid.best_params_) "
   ]
  },
  {
   "cell_type": "code",
   "execution_count": 20,
   "id": "fbe31c30",
   "metadata": {},
   "outputs": [
    {
     "data": {
      "text/plain": [
       "Text(0, 0.5, 'Accuracy')"
      ]
     },
     "execution_count": 20,
     "metadata": {},
     "output_type": "execute_result"
    },
    {
     "data": {
      "image/png": "[encoded data removed]",
      "text/plain": [
       "<Figure size 2000x500 with 3 Axes>"
      ]
     },
     "metadata": {},
     "output_type": "display_data"
    }
   ],
   "source": [
    "#Detailed results of k-fold cross validation\n",
    "cv_results = pd.DataFrame(forest_grid.cv_results_)\n",
    "\n",
    "fig, axes = plt.subplots(1,3,figsize=(20,5))\n",
    "plt.subplots_adjust(wspace=0.2)\n",
    "\n",
    "axes[0].plot(cv_results.param_max_depth, cv_results.mean_test_accuracy, 'o')\n",
    "axes[0].set_ylim([0.85, 0.9])\n",
    "axes[0].set_xlabel('Max_Depth')\n",
    "axes[0].set_ylabel('Accuracy')\n",
    "\n",
    "axes[1].plot(cv_results.param_max_leaf_nodes, cv_results.mean_test_accuracy, 'o')\n",
    "axes[0].set_ylim([0.85, 0.9])\n",
    "axes[1].set_xlabel('Leaf Nodes')\n",
    "axes[1].set_ylabel('Accuracy')\n",
    "\n",
    "axes[2].plot(cv_results.param_max_features, cv_results.mean_test_accuracy, 'o')\n",
    "axes[2].set_ylim([0.85, 0.9])\n",
    "axes[2].set_xlabel('Max_Features')\n",
    "axes[2].set_ylabel('Accuracy')"
   ]
  },
  {
   "cell_type": "code",
   "execution_count": 21,
   "id": "99da5c98",
   "metadata": {},
   "outputs": [],
   "source": [
    "# fitting model with optimal hyperparameter values\n",
    "forestmodel = RandomForestClassifier(random_state=1, max_depth = 17, max_leaf_nodes=37,\n",
    "                                      max_features=20).fit(X_train, y_train)\n",
    "\n",
    "cross_val_ypred = cross_val_predict(RandomForestClassifier(random_state=1, max_depth = 17,\n",
    "                                                           max_leaf_nodes=37, max_features=20), X_train,\n",
    "                                    y_train, cv = 5, method = 'predict_proba')\n",
    "\n",
    "# data underlying accuracy/recall/threshold plot\n",
    "metrics = pd.DataFrame()\n",
    "i = 0\n",
    "threshold_hyperparam = np.arange(0, 1.01, 0.001)\n",
    "\n",
    "for threshold in threshold_hyperparam:\n",
    "  predicted = cross_val_ypred[:, 1] > threshold\n",
    "  predicted = predicted.astype(int)\n",
    "\n",
    " # accuracy = accuracy_score(predicted, y_train)*100\n",
    "  metrics.loc[i, 'threshold'] = threshold\n",
    "  metrics.loc[i, 'accuracy'] = accuracy_score(y_train, predicted)*100\n",
    "  metrics.loc[i, 'recall'] = recall_score(y_train, predicted)*100\n",
    "  \n",
    "  i = i + 1"
   ]
  },
  {
   "cell_type": "code",
   "execution_count": 22,
   "id": "186f7e8c",
   "metadata": {},
   "outputs": [
    {
     "data": {
      "text/plain": [
       "<matplotlib.legend.Legend at 0x7f972385e880>"
      ]
     },
     "execution_count": 22,
     "metadata": {},
     "output_type": "execute_result"
    },
    {
     "data": {
      "image/png": "[encoded data removed]",
      "text/plain": [
       "<Figure size 640x480 with 1 Axes>"
      ]
     },
     "metadata": {},
     "output_type": "display_data"
    }
   ],
   "source": [
    "# plotting accuracy, recall, against threshold\n",
    "plt.plot(metrics.threshold,metrics.accuracy, label = \"accuracy\")\n",
    "plt.plot(metrics.threshold,metrics.recall, label = \"recall\")\n",
    "plt.xlabel('Threshold')\n",
    "plt.ylabel('Score')\n",
    "plt.legend()"
   ]
  },
  {
   "cell_type": "code",
   "execution_count": 27,
   "id": "a4b4ee08",
   "metadata": {},
   "outputs": [
    {
     "data": {
      "text/plain": [
       "threshold     0.285000\n",
       "accuracy     85.010000\n",
       "recall       88.209949\n",
       "Name: 285, dtype: float64"
      ]
     },
     "execution_count": 27,
     "metadata": {},
     "output_type": "execute_result"
    }
   ],
   "source": [
    "# finding optimal threshold\n",
    "metrics.loc[(metrics.accuracy>=85.0) & (metrics.recall>=85.0), :].sort_values(by = 'recall',\n",
    "                                                                              ascending = False).iloc[0,:]"
   ]
  },
  {
   "cell_type": "code",
   "execution_count": 28,
   "id": "71950cca",
   "metadata": {
    "scrolled": true
   },
   "outputs": [
    {
     "name": "stdout",
     "output_type": "stream",
     "text": [
      "Train Accuracy:  91.21000000000001\n",
      "Train Recall:  95.53466509988249\n",
      "Test Accuracy:  84.82\n",
      "Test Recall:  85.08092892329346\n"
     ]
    }
   ],
   "source": [
    "# Performance metrics computation for the optimum decision threshold probability\n",
    "desired_threshold = 0.285\n",
    "\n",
    "y_pred_prob = forestmodel.predict_proba(X_train)[:,1] \n",
    "\n",
    "# Classifying observations uaing desired threshold\n",
    "y_pred = y_pred_prob > desired_threshold\n",
    "y_pred = y_pred.astype(int)\n",
    "\n",
    "#Computing the train accuracy\n",
    "print(\"Train Accuracy: \",accuracy_score(y_pred, y_train)*100)  \n",
    "\n",
    "#Computing train recall\n",
    "print(\"Train Recall: \", recall_score(y_train, y_pred)*100)\n",
    "\n",
    "# resetting predictions\n",
    "y_pred_prob = forestmodel.predict_proba(X_test)[:,1] \n",
    "\n",
    "# Classifying observations using desired threshold\n",
    "y_pred = y_pred_prob > desired_threshold\n",
    "y_pred = y_pred.astype(int)\n",
    "\n",
    "#Computing the test accuracy\n",
    "print(\"Test Accuracy: \",accuracy_score(y_pred, y_test)*100)  \n",
    "\n",
    "#Computing the test recall\n",
    "print(\"Test Recall: \", recall_score(y_test, y_pred)*100)"
   ]
  },
  {
   "cell_type": "code",
   "execution_count": 29,
   "id": "bb6e4fe6",
   "metadata": {},
   "outputs": [
    {
     "data": {
      "image/png": "[encoded data removed]",
      "text/plain": [
       "<Figure size 640x480 with 2 Axes>"
      ]
     },
     "metadata": {},
     "output_type": "display_data"
    }
   ],
   "source": [
    "#Confusion matrix\n",
    "cm = pd.DataFrame(confusion_matrix(y_test, y_pred), \n",
    "                  columns=['Predicted 0', 'Predicted 1'], index = ['Actual 0', 'Actual 1'])\n",
    "sns.heatmap(cm, annot=True, cmap='Blues', fmt='g');"
   ]
  }
 ],
 "metadata": {
  "kernelspec": {
   "display_name": "Python 3 (ipykernel)",
   "language": "python",
   "name": "python3"
  },
  "language_info": {
   "codemirror_mode": {
    "name": "ipython",
    "version": 3
   },
   "file_extension": ".py",
   "mimetype": "text/x-python",
   "name": "python",
   "nbconvert_exporter": "python",
   "pygments_lexer": "ipython3",
   "version": "3.9.15"
  }
 },
 "nbformat": 4,
 "nbformat_minor": 5
}
