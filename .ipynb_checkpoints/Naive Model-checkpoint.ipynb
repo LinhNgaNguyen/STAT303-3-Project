{
 "cells": [
  {
   "cell_type": "code",
   "execution_count": 1,
   "id": "0c081b65",
   "metadata": {
    "ExecuteTime": {
     "end_time": "2023-04-16T19:24:32.062897Z",
     "start_time": "2023-04-16T19:24:28.167775Z"
    }
   },
   "outputs": [],
   "source": [
    "import pandas as pd\n",
    "import numpy as np\n",
    "import matplotlib.pyplot as plt\n",
    "import seaborn as sns\n",
    "\n",
    "from sklearn.linear_model import LogisticRegression, LinearRegression\n",
    "\n",
    "from sklearn.model_selection import train_test_split, cross_val_predict, cross_val_score\n",
    "\n",
    "from sklearn.preprocessing import StandardScaler\n",
    "\n",
    "from sklearn.metrics import accuracy_score, mean_absolute_error, mean_squared_error, r2_score, \\\n",
    "roc_curve, auc, precision_score, recall_score, confusion_matrix"
   ]
  },
  {
   "cell_type": "code",
   "execution_count": 4,
   "id": "ff800724",
   "metadata": {
    "ExecuteTime": {
     "end_time": "2023-04-16T19:30:50.930999Z",
     "start_time": "2023-04-16T19:30:50.646764Z"
    }
   },
   "outputs": [
    {
     "data": {
      "text/html": [
       "<div>\n",
       "<style scoped>\n",
       "    .dataframe tbody tr th:only-of-type {\n",
       "        vertical-align: middle;\n",
       "    }\n",
       "\n",
       "    .dataframe tbody tr th {\n",
       "        vertical-align: top;\n",
       "    }\n",
       "\n",
       "    .dataframe thead th {\n",
       "        text-align: right;\n",
       "    }\n",
       "</style>\n",
       "<table border=\"1\" class=\"dataframe\">\n",
       "  <thead>\n",
       "    <tr style=\"text-align: right;\">\n",
       "      <th></th>\n",
       "      <th>SL.</th>\n",
       "      <th>AGE</th>\n",
       "      <th>GENDER</th>\n",
       "      <th>MALE</th>\n",
       "      <th>MARITAL STATUS</th>\n",
       "      <th>UNMARRIED</th>\n",
       "      <th>KEY COMPLAINTS -CODE</th>\n",
       "      <th>ACHD</th>\n",
       "      <th>CAD-DVD</th>\n",
       "      <th>CAD-SVD</th>\n",
       "      <th>...</th>\n",
       "      <th>TYPE OF ADMSN</th>\n",
       "      <th>ELECTIVE</th>\n",
       "      <th>TOTAL COST TO HOSPITAL</th>\n",
       "      <th>Ln(Total Cost)</th>\n",
       "      <th>TOTAL LENGTH OF STAY</th>\n",
       "      <th>LENGTH OF STAY - ICU</th>\n",
       "      <th>LENGTH OF STAY- WARD</th>\n",
       "      <th>IMPLANT USED (Y/N)</th>\n",
       "      <th>IMPLANT</th>\n",
       "      <th>COST OF IMPLANT</th>\n",
       "    </tr>\n",
       "  </thead>\n",
       "  <tbody>\n",
       "    <tr>\n",
       "      <th>0</th>\n",
       "      <td>1</td>\n",
       "      <td>58.0</td>\n",
       "      <td>M</td>\n",
       "      <td>0</td>\n",
       "      <td>MARRIED</td>\n",
       "      <td>0</td>\n",
       "      <td>other- heart</td>\n",
       "      <td>0</td>\n",
       "      <td>0</td>\n",
       "      <td>0</td>\n",
       "      <td>...</td>\n",
       "      <td>EMERGENCY</td>\n",
       "      <td>0</td>\n",
       "      <td>660293.0</td>\n",
       "      <td>13.400439</td>\n",
       "      <td>25</td>\n",
       "      <td>12</td>\n",
       "      <td>13</td>\n",
       "      <td>Y</td>\n",
       "      <td>1</td>\n",
       "      <td>38000</td>\n",
       "    </tr>\n",
       "    <tr>\n",
       "      <th>1</th>\n",
       "      <td>2</td>\n",
       "      <td>59.0</td>\n",
       "      <td>M</td>\n",
       "      <td>0</td>\n",
       "      <td>MARRIED</td>\n",
       "      <td>0</td>\n",
       "      <td>CAD-DVD</td>\n",
       "      <td>0</td>\n",
       "      <td>1</td>\n",
       "      <td>0</td>\n",
       "      <td>...</td>\n",
       "      <td>EMERGENCY</td>\n",
       "      <td>0</td>\n",
       "      <td>809130.0</td>\n",
       "      <td>13.603715</td>\n",
       "      <td>41</td>\n",
       "      <td>20</td>\n",
       "      <td>21</td>\n",
       "      <td>Y</td>\n",
       "      <td>1</td>\n",
       "      <td>39690</td>\n",
       "    </tr>\n",
       "    <tr>\n",
       "      <th>2</th>\n",
       "      <td>3</td>\n",
       "      <td>82.0</td>\n",
       "      <td>M</td>\n",
       "      <td>0</td>\n",
       "      <td>MARRIED</td>\n",
       "      <td>0</td>\n",
       "      <td>CAD-TVD</td>\n",
       "      <td>0</td>\n",
       "      <td>0</td>\n",
       "      <td>0</td>\n",
       "      <td>...</td>\n",
       "      <td>ELECTIVE</td>\n",
       "      <td>1</td>\n",
       "      <td>362231.0</td>\n",
       "      <td>12.800037</td>\n",
       "      <td>18</td>\n",
       "      <td>9</td>\n",
       "      <td>9</td>\n",
       "      <td>N</td>\n",
       "      <td>0</td>\n",
       "      <td>0</td>\n",
       "    </tr>\n",
       "    <tr>\n",
       "      <th>3</th>\n",
       "      <td>4</td>\n",
       "      <td>46.0</td>\n",
       "      <td>M</td>\n",
       "      <td>0</td>\n",
       "      <td>MARRIED</td>\n",
       "      <td>0</td>\n",
       "      <td>CAD-DVD</td>\n",
       "      <td>0</td>\n",
       "      <td>1</td>\n",
       "      <td>0</td>\n",
       "      <td>...</td>\n",
       "      <td>EMERGENCY</td>\n",
       "      <td>0</td>\n",
       "      <td>629990.0</td>\n",
       "      <td>13.353459</td>\n",
       "      <td>14</td>\n",
       "      <td>13</td>\n",
       "      <td>1</td>\n",
       "      <td>Y</td>\n",
       "      <td>1</td>\n",
       "      <td>89450</td>\n",
       "    </tr>\n",
       "    <tr>\n",
       "      <th>4</th>\n",
       "      <td>5</td>\n",
       "      <td>60.0</td>\n",
       "      <td>M</td>\n",
       "      <td>0</td>\n",
       "      <td>MARRIED</td>\n",
       "      <td>0</td>\n",
       "      <td>CAD-DVD</td>\n",
       "      <td>0</td>\n",
       "      <td>1</td>\n",
       "      <td>0</td>\n",
       "      <td>...</td>\n",
       "      <td>EMERGENCY</td>\n",
       "      <td>0</td>\n",
       "      <td>444876.0</td>\n",
       "      <td>13.005551</td>\n",
       "      <td>24</td>\n",
       "      <td>12</td>\n",
       "      <td>12</td>\n",
       "      <td>N</td>\n",
       "      <td>0</td>\n",
       "      <td>0</td>\n",
       "    </tr>\n",
       "  </tbody>\n",
       "</table>\n",
       "<p>5 rows × 51 columns</p>\n",
       "</div>"
      ],
      "text/plain": [
       "   SL.   AGE GENDER  MALE MARITAL STATUS  UNMARRIED KEY COMPLAINTS -CODE  \\\n",
       "0    1  58.0      M     0        MARRIED          0         other- heart   \n",
       "1    2  59.0      M     0        MARRIED          0              CAD-DVD   \n",
       "2    3  82.0      M     0        MARRIED          0              CAD-TVD   \n",
       "3    4  46.0      M     0        MARRIED          0              CAD-DVD   \n",
       "4    5  60.0      M     0        MARRIED          0              CAD-DVD   \n",
       "\n",
       "   ACHD  CAD-DVD  CAD-SVD  ...  TYPE OF ADMSN  ELECTIVE  \\\n",
       "0     0        0        0  ...      EMERGENCY         0   \n",
       "1     0        1        0  ...      EMERGENCY         0   \n",
       "2     0        0        0  ...       ELECTIVE         1   \n",
       "3     0        1        0  ...      EMERGENCY         0   \n",
       "4     0        1        0  ...      EMERGENCY         0   \n",
       "\n",
       "   TOTAL COST TO HOSPITAL   Ln(Total Cost)  TOTAL LENGTH OF STAY  \\\n",
       "0                 660293.0       13.400439                    25   \n",
       "1                 809130.0       13.603715                    41   \n",
       "2                 362231.0       12.800037                    18   \n",
       "3                 629990.0       13.353459                    14   \n",
       "4                 444876.0       13.005551                    24   \n",
       "\n",
       "   LENGTH OF STAY - ICU  LENGTH OF STAY- WARD  IMPLANT USED (Y/N)  IMPLANT   \\\n",
       "0                    12                    13                   Y         1   \n",
       "1                    20                    21                   Y         1   \n",
       "2                     9                     9                   N         0   \n",
       "3                    13                     1                   Y         1   \n",
       "4                    12                    12                   N         0   \n",
       "\n",
       "   COST OF IMPLANT  \n",
       "0            38000  \n",
       "1            39690  \n",
       "2                0  \n",
       "3            89450  \n",
       "4                0  \n",
       "\n",
       "[5 rows x 51 columns]"
      ]
     },
     "execution_count": 4,
     "metadata": {},
     "output_type": "execute_result"
    }
   ],
   "source": [
    "#Reading data\n",
    "data = pd.read_excel('./hospital_data.xlsx')\n",
    "data.head()"
   ]
  },
  {
   "cell_type": "code",
   "execution_count": 10,
   "id": "766e7112",
   "metadata": {
    "ExecuteTime": {
     "end_time": "2023-04-16T19:40:05.065648Z",
     "start_time": "2023-04-16T19:40:05.054711Z"
    }
   },
   "outputs": [
    {
     "data": {
      "text/plain": [
       "Index(['SL.', 'AGE', 'GENDER', 'MALE', 'MARITAL STATUS', 'UNMARRIED',\n",
       "       'KEY COMPLAINTS -CODE', 'ACHD', 'CAD-DVD', 'CAD-SVD', 'CAD-TVD',\n",
       "       'CAD-VSD', 'OS-ASD', 'other- heart', 'other- respiratory',\n",
       "       'other-general', 'other-nervous', 'other-tertalogy', 'PM-VSD', 'RHD',\n",
       "       'BODY WEIGHT', 'BODY HEIGHT', 'HR PULSE', 'BP -HIGH', 'BP-LOW', 'RR',\n",
       "       'PAST MEDICAL HISTORY CODE', 'Diabetes1', 'Diabetes2', 'hypertension1',\n",
       "       'hypertension2', 'hypertension3', 'other', 'HB', 'UREA', 'CREATININE',\n",
       "       'MODE OF ARRIVAL', 'AMBULANCE', 'TRANSFERRED',\n",
       "       'STATE AT THE TIME OF ARRIVAL', 'ALERT', 'TYPE OF ADMSN', 'ELECTIVE',\n",
       "       'TOTAL COST TO HOSPITAL ', 'Ln(Total Cost)', 'TOTAL LENGTH OF STAY',\n",
       "       'LENGTH OF STAY - ICU', 'LENGTH OF STAY- WARD', 'IMPLANT USED (Y/N)',\n",
       "       'IMPLANT ', 'COST OF IMPLANT'],\n",
       "      dtype='object')"
      ]
     },
     "execution_count": 10,
     "metadata": {},
     "output_type": "execute_result"
    }
   ],
   "source": [
    "data.columns"
   ]
  },
  {
   "cell_type": "code",
   "execution_count": 12,
   "id": "dab9c32f",
   "metadata": {
    "ExecuteTime": {
     "end_time": "2023-04-16T19:40:22.997511Z",
     "start_time": "2023-04-16T19:40:22.980218Z"
    }
   },
   "outputs": [],
   "source": [
    "#drop \n",
    "data = data.drop([\"GENDER\", 'MARITAL STATUS', 'KEY COMPLAINTS -CODE', 'PAST MEDICAL HISTORY CODE', \n",
    "              'MODE OF ARRIVAL', 'STATE AT THE TIME OF ARRIVAL', 'TYPE OF ADMSN', 'Ln(Total Cost)', \n",
    "             'IMPLANT USED (Y/N)'], axis = 1)"
   ]
  },
  {
   "cell_type": "code",
   "execution_count": 24,
   "id": "e0bee3a7",
   "metadata": {
    "ExecuteTime": {
     "end_time": "2023-04-16T19:51:08.212939Z",
     "start_time": "2023-04-16T19:51:08.207630Z"
    }
   },
   "outputs": [
    {
     "data": {
      "text/plain": [
       "(248, 42)"
      ]
     },
     "execution_count": 24,
     "metadata": {},
     "output_type": "execute_result"
    }
   ],
   "source": [
    "data.shape"
   ]
  },
  {
   "cell_type": "code",
   "execution_count": 19,
   "id": "4e49546a",
   "metadata": {
    "ExecuteTime": {
     "end_time": "2023-04-16T19:42:52.069032Z",
     "start_time": "2023-04-16T19:42:52.053466Z"
    }
   },
   "outputs": [
    {
     "data": {
      "text/plain": [
       "SL.                         0\n",
       "AGE                         0\n",
       "MALE                        0\n",
       "UNMARRIED                   0\n",
       "ACHD                        0\n",
       "CAD-DVD                     0\n",
       "CAD-SVD                     0\n",
       "CAD-TVD                     0\n",
       "CAD-VSD                     0\n",
       "OS-ASD                      0\n",
       "other- heart                0\n",
       "other- respiratory          0\n",
       "other-general               0\n",
       "other-nervous               0\n",
       "other-tertalogy             0\n",
       "PM-VSD                      0\n",
       "RHD                         0\n",
       "BODY WEIGHT                 0\n",
       "BODY HEIGHT                 0\n",
       "HR PULSE                    0\n",
       "BP -HIGH                   23\n",
       "BP-LOW                     23\n",
       "RR                          0\n",
       "Diabetes1                   0\n",
       "Diabetes2                   0\n",
       "hypertension1               0\n",
       "hypertension2               0\n",
       "hypertension3               0\n",
       "other                       0\n",
       "HB                          2\n",
       "UREA                       13\n",
       "CREATININE                 33\n",
       "AMBULANCE                   0\n",
       "TRANSFERRED                 0\n",
       "ALERT                       0\n",
       "ELECTIVE                    0\n",
       "TOTAL COST TO HOSPITAL      0\n",
       "TOTAL LENGTH OF STAY        0\n",
       "LENGTH OF STAY - ICU        0\n",
       "LENGTH OF STAY- WARD        0\n",
       "IMPLANT                     0\n",
       "COST OF IMPLANT             0\n",
       "dtype: int64"
      ]
     },
     "execution_count": 19,
     "metadata": {},
     "output_type": "execute_result"
    }
   ],
   "source": [
    "#Number of missing values\n",
    "data.isnull().sum()"
   ]
  },
  {
   "cell_type": "code",
   "execution_count": 20,
   "id": "3faa51e2",
   "metadata": {
    "ExecuteTime": {
     "end_time": "2023-04-16T19:49:00.201276Z",
     "start_time": "2023-04-16T19:49:00.173771Z"
    }
   },
   "outputs": [
    {
     "data": {
      "text/plain": [
       "True"
      ]
     },
     "execution_count": 20,
     "metadata": {},
     "output_type": "execute_result"
    }
   ],
   "source": [
    "np.any(np.isnan(data))"
   ]
  },
  {
   "cell_type": "code",
   "execution_count": 22,
   "id": "0f384d69",
   "metadata": {
    "ExecuteTime": {
     "end_time": "2023-04-16T19:49:20.812784Z",
     "start_time": "2023-04-16T19:49:20.795707Z"
    }
   },
   "outputs": [
    {
     "data": {
      "text/plain": [
       "False"
      ]
     },
     "execution_count": 22,
     "metadata": {},
     "output_type": "execute_result"
    }
   ],
   "source": [
    "#chekcing infinite values\n",
    "np.all(np.isfinite(data))"
   ]
  },
  {
   "cell_type": "code",
   "execution_count": 25,
   "id": "824a7eac",
   "metadata": {
    "ExecuteTime": {
     "end_time": "2023-04-16T19:51:46.205484Z",
     "start_time": "2023-04-16T19:51:46.195801Z"
    }
   },
   "outputs": [],
   "source": [
    "#drop missing values\n",
    "data = data.dropna()"
   ]
  },
  {
   "cell_type": "code",
   "execution_count": 26,
   "id": "4a584880",
   "metadata": {
    "ExecuteTime": {
     "end_time": "2023-04-16T19:51:53.382201Z",
     "start_time": "2023-04-16T19:51:53.371814Z"
    }
   },
   "outputs": [
    {
     "data": {
      "text/plain": [
       "(191, 42)"
      ]
     },
     "execution_count": 26,
     "metadata": {},
     "output_type": "execute_result"
    }
   ],
   "source": [
    "data.shape"
   ]
  },
  {
   "cell_type": "code",
   "execution_count": 27,
   "id": "59313a98",
   "metadata": {
    "ExecuteTime": {
     "end_time": "2023-04-16T19:52:36.825457Z",
     "start_time": "2023-04-16T19:52:36.818004Z"
    }
   },
   "outputs": [],
   "source": [
    "# Separating the predictors and response \n",
    "y = data['TOTAL COST TO HOSPITAL ']\n",
    "X = data.drop(\"TOTAL COST TO HOSPITAL \", axis = 1)"
   ]
  },
  {
   "cell_type": "code",
   "execution_count": 28,
   "id": "f0bad115",
   "metadata": {
    "ExecuteTime": {
     "end_time": "2023-04-16T19:52:37.676718Z",
     "start_time": "2023-04-16T19:52:37.669085Z"
    }
   },
   "outputs": [],
   "source": [
    "# Creating training and test data\n",
    "X_train, X_test, y_train, y_test = train_test_split(X, y, test_size = 0.2, random_state = 45)"
   ]
  },
  {
   "cell_type": "code",
   "execution_count": 29,
   "id": "a0a64501",
   "metadata": {
    "ExecuteTime": {
     "end_time": "2023-04-16T19:52:38.827360Z",
     "start_time": "2023-04-16T19:52:38.744934Z"
    }
   },
   "outputs": [],
   "source": [
    "# Create a model object - not trained yet\n",
    "model = LinearRegression().fit(X_train, y_train)"
   ]
  },
  {
   "cell_type": "code",
   "execution_count": 30,
   "id": "dbec4b99",
   "metadata": {
    "ExecuteTime": {
     "end_time": "2023-04-16T19:55:27.651028Z",
     "start_time": "2023-04-16T19:55:27.618630Z"
    }
   },
   "outputs": [],
   "source": [
    "# Get predictions\n",
    "y_pred = model.predict(X_test)"
   ]
  },
  {
   "cell_type": "code",
   "execution_count": 36,
   "id": "cc942fd3",
   "metadata": {
    "ExecuteTime": {
     "end_time": "2023-04-16T20:04:41.107327Z",
     "start_time": "2023-04-16T20:04:41.098418Z"
    }
   },
   "outputs": [
    {
     "data": {
      "text/plain": [
       "107169.29582704589"
      ]
     },
     "execution_count": 36,
     "metadata": {},
     "output_type": "execute_result"
    }
   ],
   "source": [
    "#Standard deviation of response \n",
    "np.std(y_pred)"
   ]
  },
  {
   "cell_type": "code",
   "execution_count": 34,
   "id": "7b513565",
   "metadata": {
    "ExecuteTime": {
     "end_time": "2023-04-16T20:01:54.193338Z",
     "start_time": "2023-04-16T20:01:54.162494Z"
    }
   },
   "outputs": [
    {
     "data": {
      "text/plain": [
       "43909.06751213603"
      ]
     },
     "execution_count": 34,
     "metadata": {},
     "output_type": "execute_result"
    }
   ],
   "source": [
    "#Calculate RMSE\n",
    "mean_squared_error(y_test, y_pred, squared = False)"
   ]
  }
 ],
 "metadata": {
  "kernelspec": {
   "display_name": "Python 3 (ipykernel)",
   "language": "python",
   "name": "python3"
  },
  "language_info": {
   "codemirror_mode": {
    "name": "ipython",
    "version": 3
   },
   "file_extension": ".py",
   "mimetype": "text/x-python",
   "name": "python",
   "nbconvert_exporter": "python",
   "pygments_lexer": "ipython3",
   "version": "3.9.12"
  },
  "toc": {
   "base_numbering": 1,
   "nav_menu": {},
   "number_sections": true,
   "sideBar": true,
   "skip_h1_title": false,
   "title_cell": "Table of Contents",
   "title_sidebar": "Contents",
   "toc_cell": false,
   "toc_position": {},
   "toc_section_display": true,
   "toc_window_display": false
  },
  "varInspector": {
   "cols": {
    "lenName": 16,
    "lenType": 16,
    "lenVar": 40
   },
   "kernels_config": {
    "python": {
     "delete_cmd_postfix": "",
     "delete_cmd_prefix": "del ",
     "library": "var_list.py",
     "varRefreshCmd": "print(var_dic_list())"
    },
    "r": {
     "delete_cmd_postfix": ") ",
     "delete_cmd_prefix": "rm(",
     "library": "var_list.r",
     "varRefreshCmd": "cat(var_dic_list()) "
    }
   },
   "types_to_exclude": [
    "module",
    "function",
    "builtin_function_or_method",
    "instance",
    "_Feature"
   ],
   "window_display": false
  }
 },
 "nbformat": 4,
 "nbformat_minor": 5
}
