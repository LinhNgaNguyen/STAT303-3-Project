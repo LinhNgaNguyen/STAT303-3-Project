{
 "cells": [
  {
   "cell_type": "code",
   "execution_count": 185,
   "id": "65683aee",
   "metadata": {},
   "outputs": [],
   "source": [
    "import pandas as pd\n",
    "import numpy as np\n",
    "import seaborn as sns\n",
    "import matplotlib.pyplot as plt\n",
    "from sklearn.metrics import mean_squared_error\n",
    "from sklearn.model_selection import cross_val_score,train_test_split\n",
    "from sklearn.model_selection import KFold\n",
    "from sklearn.tree import DecisionTreeRegressor,DecisionTreeClassifier\n",
    "from sklearn.model_selection import GridSearchCV, ParameterGrid\n",
    "from sklearn.ensemble import BaggingRegressor,BaggingClassifier\n",
    "from sklearn.linear_model import LinearRegression,LogisticRegression\n",
    "from sklearn.neighbors import KNeighborsRegressor\n",
    "from sklearn.metrics import roc_curve, precision_recall_curve, auc, make_scorer, recall_score, \\\n",
    "accuracy_score, precision_score, confusion_matrix, mean_squared_error, r2_score\n",
    "from sklearn.impute import KNNImputer\n",
    "from pyearth import Earth"
   ]
  },
  {
   "cell_type": "markdown",
   "id": "d99a5f4e",
   "metadata": {},
   "source": [
    "# Data Cleaning"
   ]
  },
  {
   "cell_type": "code",
   "execution_count": 145,
   "id": "813707d5",
   "metadata": {},
   "outputs": [],
   "source": [
    "train = pd.read_csv('train_subset.csv')"
   ]
  },
  {
   "cell_type": "code",
   "execution_count": 146,
   "id": "749a49d4",
   "metadata": {},
   "outputs": [],
   "source": [
    "test = pd.read_csv('test_subset.csv')"
   ]
  },
  {
   "cell_type": "code",
   "execution_count": 147,
   "id": "4202ec5c",
   "metadata": {},
   "outputs": [],
   "source": [
    "y = pd.read_csv('train_labels.csv')"
   ]
  },
  {
   "cell_type": "code",
   "execution_count": 148,
   "id": "d9753fcc",
   "metadata": {},
   "outputs": [],
   "source": [
    "# merge response + predictors\n",
    "train = pd.merge(train, y)\n",
    "test = pd.merge(test, y)"
   ]
  },
  {
   "cell_type": "code",
   "execution_count": 149,
   "id": "790809f6",
   "metadata": {},
   "outputs": [],
   "source": [
    "train_filtered = train.drop(['Unnamed: 0','customer_ID','S_2','D_63','D_64'],axis=1)"
   ]
  },
  {
   "cell_type": "code",
   "execution_count": 150,
   "id": "9169c9ab",
   "metadata": {},
   "outputs": [],
   "source": [
    "test_filtered = test.drop(['Unnamed: 0','customer_ID','S_2','D_63','D_64'],axis=1)"
   ]
  },
  {
   "cell_type": "code",
   "execution_count": 151,
   "id": "c106fffc",
   "metadata": {},
   "outputs": [],
   "source": [
    "# storing missing values for each column in train\n",
    "val_train = train_filtered.isna().sum()\n",
    "\n",
    "# storing missing values for each column in test\n",
    "val_test = test_filtered.isna().sum()"
   ]
  },
  {
   "cell_type": "code",
   "execution_count": 152,
   "id": "39df5b46",
   "metadata": {},
   "outputs": [],
   "source": [
    "# creating dataframe to store how many values are missing in each column for both train and test\n",
    "na_df = pd.DataFrame(columns = train_filtered.columns)\n",
    "test_na_df = pd.DataFrame(columns = test_filtered.columns)\n",
    "test_na_df.loc['Train'] = val_train\n",
    "test_na_df.loc['Test'] = val_test\n",
    "na_df.loc['Train'] = val_train\n",
    "na_df.loc['Test'] = val_test"
   ]
  },
  {
   "cell_type": "code",
   "execution_count": 155,
   "id": "57a63e30",
   "metadata": {},
   "outputs": [],
   "source": [
    "# identify predictors with large number of missing values \n",
    "col_missing = []\n",
    "for col in na_df.columns:\n",
    "    if na_df.loc['Train',col]/10000 > .8:\n",
    "        col_missing.append(col)"
   ]
  },
  {
   "cell_type": "code",
   "execution_count": 156,
   "id": "195c3a01",
   "metadata": {},
   "outputs": [],
   "source": [
    "# identify predictors with large number of missing values \n",
    "test_col_missing = []\n",
    "for col in test_na_df.columns:\n",
    "    if test_na_df.loc['Train',col]/10000 > .8:\n",
    "        test_col_missing.append(col)"
   ]
  },
  {
   "cell_type": "code",
   "execution_count": 157,
   "id": "80082835",
   "metadata": {},
   "outputs": [],
   "source": [
    "# drop predictors with more than 80% missing values\n",
    "train_filtered = train_filtered.drop(col_missing,axis=1)"
   ]
  },
  {
   "cell_type": "code",
   "execution_count": 160,
   "id": "b2faedf7",
   "metadata": {},
   "outputs": [],
   "source": [
    "test_filtered = test_filtered.drop(test_col_missing,axis=1)"
   ]
  },
  {
   "cell_type": "code",
   "execution_count": 162,
   "id": "1b712f3f",
   "metadata": {},
   "outputs": [],
   "source": [
    "imputer = KNNImputer(n_neighbors=1)"
   ]
  },
  {
   "cell_type": "code",
   "execution_count": 163,
   "id": "38c6396b",
   "metadata": {},
   "outputs": [],
   "source": [
    "train_filtered = pd.DataFrame(imputer.fit_transform(train_filtered),columns = train_filtered.columns)"
   ]
  },
  {
   "cell_type": "code",
   "execution_count": 164,
   "id": "917462b2",
   "metadata": {},
   "outputs": [],
   "source": [
    "test_filtered = pd.DataFrame(imputer.fit_transform(test_filtered),columns = test_filtered.columns)"
   ]
  },
  {
   "cell_type": "code",
   "execution_count": 167,
   "id": "0d61ff03",
   "metadata": {},
   "outputs": [],
   "source": [
    "train_filtered.to_csv('train_clean.csv')"
   ]
  },
  {
   "cell_type": "code",
   "execution_count": 168,
   "id": "44381c7f",
   "metadata": {},
   "outputs": [],
   "source": [
    "test_filtered.to_csv('test_clean.csv')"
   ]
  },
  {
   "cell_type": "code",
   "execution_count": 196,
   "id": "5cfb00a6",
   "metadata": {},
   "outputs": [
    {
     "data": {
      "text/html": [
       "<div>\n",
       "<style scoped>\n",
       "    .dataframe tbody tr th:only-of-type {\n",
       "        vertical-align: middle;\n",
       "    }\n",
       "\n",
       "    .dataframe tbody tr th {\n",
       "        vertical-align: top;\n",
       "    }\n",
       "\n",
       "    .dataframe thead th {\n",
       "        text-align: right;\n",
       "    }\n",
       "</style>\n",
       "<table border=\"1\" class=\"dataframe\">\n",
       "  <thead>\n",
       "    <tr style=\"text-align: right;\">\n",
       "      <th></th>\n",
       "      <th>P_2</th>\n",
       "      <th>D_39</th>\n",
       "      <th>B_1</th>\n",
       "      <th>B_2</th>\n",
       "      <th>R_1</th>\n",
       "      <th>S_3</th>\n",
       "      <th>D_41</th>\n",
       "      <th>B_3</th>\n",
       "      <th>D_43</th>\n",
       "      <th>D_44</th>\n",
       "      <th>...</th>\n",
       "      <th>D_131</th>\n",
       "      <th>D_133</th>\n",
       "      <th>R_28</th>\n",
       "      <th>D_139</th>\n",
       "      <th>D_140</th>\n",
       "      <th>D_141</th>\n",
       "      <th>D_143</th>\n",
       "      <th>D_144</th>\n",
       "      <th>D_145</th>\n",
       "      <th>target</th>\n",
       "    </tr>\n",
       "  </thead>\n",
       "  <tbody>\n",
       "    <tr>\n",
       "      <th>0</th>\n",
       "      <td>0.910519</td>\n",
       "      <td>0.003323</td>\n",
       "      <td>0.002007</td>\n",
       "      <td>0.813010</td>\n",
       "      <td>0.000483</td>\n",
       "      <td>0.164135</td>\n",
       "      <td>0.008578</td>\n",
       "      <td>0.005668</td>\n",
       "      <td>0.015702</td>\n",
       "      <td>0.002834</td>\n",
       "      <td>...</td>\n",
       "      <td>0.001487</td>\n",
       "      <td>0.008845</td>\n",
       "      <td>0.003424</td>\n",
       "      <td>0.005055</td>\n",
       "      <td>0.003387</td>\n",
       "      <td>0.006381</td>\n",
       "      <td>0.009071</td>\n",
       "      <td>0.000452</td>\n",
       "      <td>0.009093</td>\n",
       "      <td>0.0</td>\n",
       "    </tr>\n",
       "    <tr>\n",
       "      <th>1</th>\n",
       "      <td>0.916596</td>\n",
       "      <td>0.002949</td>\n",
       "      <td>0.007152</td>\n",
       "      <td>0.810892</td>\n",
       "      <td>0.007676</td>\n",
       "      <td>0.164135</td>\n",
       "      <td>0.004424</td>\n",
       "      <td>0.007180</td>\n",
       "      <td>0.015702</td>\n",
       "      <td>0.002115</td>\n",
       "      <td>...</td>\n",
       "      <td>0.000661</td>\n",
       "      <td>0.001575</td>\n",
       "      <td>0.004340</td>\n",
       "      <td>0.009045</td>\n",
       "      <td>0.005062</td>\n",
       "      <td>0.008398</td>\n",
       "      <td>0.009962</td>\n",
       "      <td>0.009318</td>\n",
       "      <td>0.003389</td>\n",
       "      <td>0.0</td>\n",
       "    </tr>\n",
       "    <tr>\n",
       "      <th>2</th>\n",
       "      <td>0.913374</td>\n",
       "      <td>0.000478</td>\n",
       "      <td>0.002182</td>\n",
       "      <td>0.815958</td>\n",
       "      <td>0.000189</td>\n",
       "      <td>0.164135</td>\n",
       "      <td>0.003844</td>\n",
       "      <td>0.006892</td>\n",
       "      <td>0.015702</td>\n",
       "      <td>0.005679</td>\n",
       "      <td>...</td>\n",
       "      <td>0.007952</td>\n",
       "      <td>0.001629</td>\n",
       "      <td>0.006936</td>\n",
       "      <td>0.002448</td>\n",
       "      <td>0.006637</td>\n",
       "      <td>0.002498</td>\n",
       "      <td>0.002704</td>\n",
       "      <td>0.009881</td>\n",
       "      <td>0.006629</td>\n",
       "      <td>0.0</td>\n",
       "    </tr>\n",
       "    <tr>\n",
       "      <th>3</th>\n",
       "      <td>0.907133</td>\n",
       "      <td>0.009843</td>\n",
       "      <td>0.009453</td>\n",
       "      <td>0.819477</td>\n",
       "      <td>0.008656</td>\n",
       "      <td>0.164135</td>\n",
       "      <td>0.001826</td>\n",
       "      <td>0.000576</td>\n",
       "      <td>0.015702</td>\n",
       "      <td>0.004294</td>\n",
       "      <td>...</td>\n",
       "      <td>0.005089</td>\n",
       "      <td>0.000058</td>\n",
       "      <td>0.000533</td>\n",
       "      <td>0.008992</td>\n",
       "      <td>0.002036</td>\n",
       "      <td>0.000650</td>\n",
       "      <td>0.007807</td>\n",
       "      <td>0.007089</td>\n",
       "      <td>0.009498</td>\n",
       "      <td>0.0</td>\n",
       "    </tr>\n",
       "    <tr>\n",
       "      <th>4</th>\n",
       "      <td>0.871219</td>\n",
       "      <td>0.009839</td>\n",
       "      <td>0.000488</td>\n",
       "      <td>0.814127</td>\n",
       "      <td>0.003975</td>\n",
       "      <td>0.164135</td>\n",
       "      <td>0.002952</td>\n",
       "      <td>0.001971</td>\n",
       "      <td>0.015702</td>\n",
       "      <td>0.003254</td>\n",
       "      <td>...</td>\n",
       "      <td>0.007130</td>\n",
       "      <td>0.005932</td>\n",
       "      <td>0.004834</td>\n",
       "      <td>0.000094</td>\n",
       "      <td>0.006466</td>\n",
       "      <td>0.006941</td>\n",
       "      <td>0.000021</td>\n",
       "      <td>0.009241</td>\n",
       "      <td>0.008565</td>\n",
       "      <td>0.0</td>\n",
       "    </tr>\n",
       "    <tr>\n",
       "      <th>...</th>\n",
       "      <td>...</td>\n",
       "      <td>...</td>\n",
       "      <td>...</td>\n",
       "      <td>...</td>\n",
       "      <td>...</td>\n",
       "      <td>...</td>\n",
       "      <td>...</td>\n",
       "      <td>...</td>\n",
       "      <td>...</td>\n",
       "      <td>...</td>\n",
       "      <td>...</td>\n",
       "      <td>...</td>\n",
       "      <td>...</td>\n",
       "      <td>...</td>\n",
       "      <td>...</td>\n",
       "      <td>...</td>\n",
       "      <td>...</td>\n",
       "      <td>...</td>\n",
       "      <td>...</td>\n",
       "      <td>...</td>\n",
       "      <td>...</td>\n",
       "    </tr>\n",
       "    <tr>\n",
       "      <th>9995</th>\n",
       "      <td>0.923459</td>\n",
       "      <td>0.038349</td>\n",
       "      <td>0.034290</td>\n",
       "      <td>1.007538</td>\n",
       "      <td>0.003336</td>\n",
       "      <td>0.074092</td>\n",
       "      <td>0.000943</td>\n",
       "      <td>0.009005</td>\n",
       "      <td>0.035222</td>\n",
       "      <td>0.002907</td>\n",
       "      <td>...</td>\n",
       "      <td>0.008891</td>\n",
       "      <td>0.000086</td>\n",
       "      <td>0.000409</td>\n",
       "      <td>0.007934</td>\n",
       "      <td>0.005344</td>\n",
       "      <td>0.006785</td>\n",
       "      <td>0.002709</td>\n",
       "      <td>0.005027</td>\n",
       "      <td>0.008763</td>\n",
       "      <td>0.0</td>\n",
       "    </tr>\n",
       "    <tr>\n",
       "      <th>9996</th>\n",
       "      <td>0.968773</td>\n",
       "      <td>0.682007</td>\n",
       "      <td>0.033532</td>\n",
       "      <td>1.004179</td>\n",
       "      <td>0.005582</td>\n",
       "      <td>0.068700</td>\n",
       "      <td>0.001663</td>\n",
       "      <td>0.002438</td>\n",
       "      <td>0.034049</td>\n",
       "      <td>0.007320</td>\n",
       "      <td>...</td>\n",
       "      <td>0.004538</td>\n",
       "      <td>0.005462</td>\n",
       "      <td>0.001390</td>\n",
       "      <td>0.000122</td>\n",
       "      <td>0.002820</td>\n",
       "      <td>0.002444</td>\n",
       "      <td>0.006658</td>\n",
       "      <td>0.003938</td>\n",
       "      <td>0.005537</td>\n",
       "      <td>0.0</td>\n",
       "    </tr>\n",
       "    <tr>\n",
       "      <th>9997</th>\n",
       "      <td>0.994103</td>\n",
       "      <td>0.237832</td>\n",
       "      <td>0.028541</td>\n",
       "      <td>1.008582</td>\n",
       "      <td>0.002640</td>\n",
       "      <td>0.055308</td>\n",
       "      <td>0.004520</td>\n",
       "      <td>0.005361</td>\n",
       "      <td>0.031825</td>\n",
       "      <td>0.009472</td>\n",
       "      <td>...</td>\n",
       "      <td>0.000662</td>\n",
       "      <td>0.003891</td>\n",
       "      <td>0.004251</td>\n",
       "      <td>0.001989</td>\n",
       "      <td>0.006962</td>\n",
       "      <td>0.000827</td>\n",
       "      <td>0.003828</td>\n",
       "      <td>0.008829</td>\n",
       "      <td>0.000494</td>\n",
       "      <td>0.0</td>\n",
       "    </tr>\n",
       "    <tr>\n",
       "      <th>9998</th>\n",
       "      <td>0.971680</td>\n",
       "      <td>0.802516</td>\n",
       "      <td>0.037812</td>\n",
       "      <td>1.007390</td>\n",
       "      <td>0.006115</td>\n",
       "      <td>0.026462</td>\n",
       "      <td>0.007735</td>\n",
       "      <td>0.003908</td>\n",
       "      <td>0.031825</td>\n",
       "      <td>0.001587</td>\n",
       "      <td>...</td>\n",
       "      <td>0.004761</td>\n",
       "      <td>0.006838</td>\n",
       "      <td>0.009980</td>\n",
       "      <td>0.004796</td>\n",
       "      <td>0.005723</td>\n",
       "      <td>0.002804</td>\n",
       "      <td>0.004543</td>\n",
       "      <td>0.004120</td>\n",
       "      <td>0.000063</td>\n",
       "      <td>0.0</td>\n",
       "    </tr>\n",
       "    <tr>\n",
       "      <th>9999</th>\n",
       "      <td>0.990912</td>\n",
       "      <td>0.009236</td>\n",
       "      <td>0.019213</td>\n",
       "      <td>1.002660</td>\n",
       "      <td>0.005935</td>\n",
       "      <td>-0.035923</td>\n",
       "      <td>0.007416</td>\n",
       "      <td>0.007344</td>\n",
       "      <td>0.031825</td>\n",
       "      <td>0.005237</td>\n",
       "      <td>...</td>\n",
       "      <td>0.001046</td>\n",
       "      <td>0.003594</td>\n",
       "      <td>0.004140</td>\n",
       "      <td>0.003087</td>\n",
       "      <td>0.009291</td>\n",
       "      <td>0.008839</td>\n",
       "      <td>0.000551</td>\n",
       "      <td>0.006786</td>\n",
       "      <td>0.007417</td>\n",
       "      <td>0.0</td>\n",
       "    </tr>\n",
       "  </tbody>\n",
       "</table>\n",
       "<p>10000 rows × 164 columns</p>\n",
       "</div>"
      ],
      "text/plain": [
       "           P_2      D_39       B_1       B_2       R_1       S_3      D_41  \\\n",
       "0     0.910519  0.003323  0.002007  0.813010  0.000483  0.164135  0.008578   \n",
       "1     0.916596  0.002949  0.007152  0.810892  0.007676  0.164135  0.004424   \n",
       "2     0.913374  0.000478  0.002182  0.815958  0.000189  0.164135  0.003844   \n",
       "3     0.907133  0.009843  0.009453  0.819477  0.008656  0.164135  0.001826   \n",
       "4     0.871219  0.009839  0.000488  0.814127  0.003975  0.164135  0.002952   \n",
       "...        ...       ...       ...       ...       ...       ...       ...   \n",
       "9995  0.923459  0.038349  0.034290  1.007538  0.003336  0.074092  0.000943   \n",
       "9996  0.968773  0.682007  0.033532  1.004179  0.005582  0.068700  0.001663   \n",
       "9997  0.994103  0.237832  0.028541  1.008582  0.002640  0.055308  0.004520   \n",
       "9998  0.971680  0.802516  0.037812  1.007390  0.006115  0.026462  0.007735   \n",
       "9999  0.990912  0.009236  0.019213  1.002660  0.005935 -0.035923  0.007416   \n",
       "\n",
       "           B_3      D_43      D_44  ...     D_131     D_133      R_28  \\\n",
       "0     0.005668  0.015702  0.002834  ...  0.001487  0.008845  0.003424   \n",
       "1     0.007180  0.015702  0.002115  ...  0.000661  0.001575  0.004340   \n",
       "2     0.006892  0.015702  0.005679  ...  0.007952  0.001629  0.006936   \n",
       "3     0.000576  0.015702  0.004294  ...  0.005089  0.000058  0.000533   \n",
       "4     0.001971  0.015702  0.003254  ...  0.007130  0.005932  0.004834   \n",
       "...        ...       ...       ...  ...       ...       ...       ...   \n",
       "9995  0.009005  0.035222  0.002907  ...  0.008891  0.000086  0.000409   \n",
       "9996  0.002438  0.034049  0.007320  ...  0.004538  0.005462  0.001390   \n",
       "9997  0.005361  0.031825  0.009472  ...  0.000662  0.003891  0.004251   \n",
       "9998  0.003908  0.031825  0.001587  ...  0.004761  0.006838  0.009980   \n",
       "9999  0.007344  0.031825  0.005237  ...  0.001046  0.003594  0.004140   \n",
       "\n",
       "         D_139     D_140     D_141     D_143     D_144     D_145  target  \n",
       "0     0.005055  0.003387  0.006381  0.009071  0.000452  0.009093     0.0  \n",
       "1     0.009045  0.005062  0.008398  0.009962  0.009318  0.003389     0.0  \n",
       "2     0.002448  0.006637  0.002498  0.002704  0.009881  0.006629     0.0  \n",
       "3     0.008992  0.002036  0.000650  0.007807  0.007089  0.009498     0.0  \n",
       "4     0.000094  0.006466  0.006941  0.000021  0.009241  0.008565     0.0  \n",
       "...        ...       ...       ...       ...       ...       ...     ...  \n",
       "9995  0.007934  0.005344  0.006785  0.002709  0.005027  0.008763     0.0  \n",
       "9996  0.000122  0.002820  0.002444  0.006658  0.003938  0.005537     0.0  \n",
       "9997  0.001989  0.006962  0.000827  0.003828  0.008829  0.000494     0.0  \n",
       "9998  0.004796  0.005723  0.002804  0.004543  0.004120  0.000063     0.0  \n",
       "9999  0.003087  0.009291  0.008839  0.000551  0.006786  0.007417     0.0  \n",
       "\n",
       "[10000 rows x 164 columns]"
      ]
     },
     "execution_count": 196,
     "metadata": {},
     "output_type": "execute_result"
    }
   ],
   "source": [
    "test_filtered"
   ]
  },
  {
   "cell_type": "markdown",
   "id": "05d15e69",
   "metadata": {},
   "source": [
    "# Bagging"
   ]
  },
  {
   "cell_type": "code",
   "execution_count": 170,
   "id": "37fd8984",
   "metadata": {},
   "outputs": [],
   "source": [
    "# Separating the predictors and response\n",
    "y_train = train_filtered.target\n",
    "X_train = train_filtered.drop('target',axis =1)\n",
    "y_test = test_filtered.target\n",
    "X_test = test_filtered.drop('target',axis=1)"
   ]
  },
  {
   "cell_type": "code",
   "execution_count": 177,
   "id": "3a0a57dd",
   "metadata": {},
   "outputs": [],
   "source": [
    "#Bagging the results of 10 decision trees\n",
    "bag_model = BaggingClassifier(estimator=DecisionTreeClassifier(), n_estimators=50, random_state=1,\n",
    "                        n_jobs=-1).fit(X_train, y_train)"
   ]
  },
  {
   "cell_type": "code",
   "execution_count": 178,
   "id": "8de77d2d",
   "metadata": {},
   "outputs": [
    {
     "name": "stdout",
     "output_type": "stream",
     "text": [
      "Accuracy:  83.02000000000001\n",
      "ROC-AUC:  0.9116062371417913\n",
      "Precision:  0.6465914915427986\n",
      "Recall:  0.8877551020408163\n"
     ]
    },
    {
     "data": {
      "image/png": "[encoded data removed]",
      "text/plain": [
       "<Figure size 640x480 with 2 Axes>"
      ]
     },
     "metadata": {},
     "output_type": "display_data"
    }
   ],
   "source": [
    "# Performance metrics computation for the optimum decision threshold probability\n",
    "desired_threshold = 0.23\n",
    "\n",
    "y_pred_prob = bag_model.predict_proba(X_test)[:,1] \n",
    "\n",
    "# Classifying observations in the positive class (y = 1) if the predicted probability is greater\n",
    "# than the desired decision threshold probability\n",
    "y_pred = y_pred_prob > desired_threshold\n",
    "y_pred = y_pred.astype(int)\n",
    "\n",
    "#Computing the accuracy\n",
    "print(\"Accuracy: \",accuracy_score(y_pred, y_test)*100)  \n",
    "\n",
    "#Computing the ROC-AUC\n",
    "fpr, tpr, auc_thresholds = roc_curve(y_test, y_pred_prob)\n",
    "print(\"ROC-AUC: \",auc(fpr, tpr))# AUC of ROC\n",
    "\n",
    "#Computing the precision and recall\n",
    "print(\"Precision: \", precision_score(y_test, y_pred))\n",
    "print(\"Recall: \", recall_score(y_test, y_pred))\n",
    "\n",
    "#Confusion matrix\n",
    "cm = pd.DataFrame(confusion_matrix(y_test, y_pred), \n",
    "                  columns=['Predicted 0', 'Predicted 1'], index = ['Actual 0', 'Actual 1'])\n",
    "sns.heatmap(cm, annot=True, cmap='Blues', fmt='g');"
   ]
  },
  {
   "cell_type": "code",
   "execution_count": 190,
   "id": "c8d8e34e",
   "metadata": {},
   "outputs": [
    {
     "name": "stdout",
     "output_type": "stream",
     "text": [
      "Fitting 2 folds for each of 16 candidates, totalling 32 fits\n",
      "Train accuracy : 1.000\n",
      "Test accuracy : 0.864\n",
      "Best accuracy Through Grid Search : 0.922\n",
      "Best Parameters :  {'bootstrap': False, 'bootstrap_features': True, 'max_features': 0.5, 'max_samples': 1.0}\n"
     ]
    }
   ],
   "source": [
    "params = {'max_samples': [0.5,1.0],\n",
    "          'max_features': [0.5,1.0],\n",
    "          'bootstrap': [True, False],\n",
    "          'bootstrap_features': [True, False]}\n",
    "\n",
    "cv = KFold(n_splits=2,shuffle=True,random_state=1)\n",
    "bagging_classifier_grid = GridSearchCV(BaggingClassifier(estimator = DecisionTreeClassifier(random_state = 1),\n",
    "                                                         n_estimators=250, random_state=1, n_jobs=-1),\n",
    "                                       param_grid =params, cv=cv, n_jobs=-1, verbose=1,\n",
    "                                       scoring = ['accuracy', 'recall'], refit='recall')\n",
    "bagging_classifier_grid.fit(X_train, y_train)\n",
    "\n",
    "print('Train accuracy : %.3f'%bagging_classifier_grid.best_estimator_.score(X_train, y_train))\n",
    "print('Test accuracy : %.3f'%bagging_classifier_grid.best_estimator_.score(X_test, y_test))\n",
    "print('Best accuracy Through Grid Search : %.3f'%bagging_classifier_grid.best_score_)\n",
    "print('Best Parameters : ',bagging_classifier_grid.best_params_)"
   ]
  },
  {
   "cell_type": "code",
   "execution_count": 197,
   "id": "17fc01f6",
   "metadata": {},
   "outputs": [],
   "source": [
    "#Bagging the results of 10 decision trees\n",
    "opt_bag_model = BaggingClassifier(estimator=DecisionTreeClassifier(random_state=1),\n",
    "                          n_estimators=250,\n",
    "                          random_state=1,\n",
    "                          max_features=0.5,\n",
    "                          max_samples=1.0,\n",
    "                          n_jobs=-1,\n",
    "                          bootstrap=True,\n",
    "                          bootstrap_features=False,\n",
    "                                 oob_score=True).fit(X_train, y_train)"
   ]
  },
  {
   "cell_type": "code",
   "execution_count": 200,
   "id": "e6d33638",
   "metadata": {},
   "outputs": [],
   "source": [
    "ypred = model.predict_proba(X_train)[:,1]"
   ]
  },
  {
   "cell_type": "code",
   "execution_count": 201,
   "id": "12b8f532",
   "metadata": {},
   "outputs": [
    {
     "data": {
      "image/png": "[encoded data removed]",
      "text/plain": [
       "<Figure size 800x800 with 1 Axes>"
      ]
     },
     "metadata": {},
     "output_type": "display_data"
    }
   ],
   "source": [
    "ypred = model.oob_decision_function_[:,1]\n",
    "p, r, thresholds = precision_recall_curve(y_train, ypred)\n",
    "def plot_precision_recall_vs_threshold(precisions, recalls, thresholds):\n",
    "    plt.figure(figsize=(8, 8))\n",
    "    plt.title(\"Precision and Recall Scores as a function of the decision threshold\")\n",
    "    plt.plot(thresholds, precisions[:-1], \"b--\", label=\"Precision\")\n",
    "    plt.plot(thresholds, recalls[:-1], \"g-\", label=\"Recall\")\n",
    "    plt.plot(thresholds, precisions[:-1], \"o\", color = 'blue')\n",
    "    plt.plot(thresholds, recalls[:-1], \"o\", color = 'green')\n",
    "    plt.ylabel(\"Score\")\n",
    "    plt.xlabel(\"Decision Threshold\")\n",
    "    plt.legend(loc='best')\n",
    "    plt.legend()\n",
    "plot_precision_recall_vs_threshold(p, r, thresholds)"
   ]
  },
  {
   "cell_type": "code",
   "execution_count": null,
   "id": "c4b9fc33",
   "metadata": {},
   "outputs": [],
   "source": []
  },
  {
   "cell_type": "code",
   "execution_count": null,
   "id": "eb79753a",
   "metadata": {},
   "outputs": [],
   "source": []
  }
 ],
 "metadata": {
  "kernelspec": {
   "display_name": "Python 3 (ipykernel)",
   "language": "python",
   "name": "python3"
  },
  "language_info": {
   "codemirror_mode": {
    "name": "ipython",
    "version": 3
   },
   "file_extension": ".py",
   "mimetype": "text/x-python",
   "name": "python",
   "nbconvert_exporter": "python",
   "pygments_lexer": "ipython3",
   "version": "3.9.15"
  }
 },
 "nbformat": 4,
 "nbformat_minor": 5
}
