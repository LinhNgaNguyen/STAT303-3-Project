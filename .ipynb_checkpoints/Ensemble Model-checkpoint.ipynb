{
 "cells": [
  {
   "cell_type": "code",
   "execution_count": 1,
   "id": "78940833",
   "metadata": {},
   "outputs": [
    {
     "name": "stderr",
     "output_type": "stream",
     "text": [
      "/Users/elenallaguno/opt/anaconda3/lib/python3.9/site-packages/xgboost/compat.py:36: FutureWarning: pandas.Int64Index is deprecated and will be removed from pandas in a future version. Use pandas.Index with the appropriate dtype instead.\n",
      "  from pandas import MultiIndex, Int64Index\n"
     ]
    }
   ],
   "source": [
    "from sklearn.ensemble import VotingClassifier\n",
    "import xgboost as xgb\n",
    "import pandas as pd\n",
    "from sklearn.metrics import roc_curve, precision_recall_curve, auc, make_scorer, recall_score, \\\n",
    "accuracy_score, precision_score, confusion_matrix, mean_squared_error, r2_score, mean_absolute_error"
   ]
  },
  {
   "cell_type": "markdown",
   "id": "f599e861",
   "metadata": {},
   "source": [
    "# Ensemble Model"
   ]
  },
  {
   "cell_type": "markdown",
   "id": "454adc83",
   "metadata": {},
   "source": [
    "### Importing Data"
   ]
  },
  {
   "cell_type": "code",
   "execution_count": null,
   "id": "963a5235",
   "metadata": {},
   "outputs": [],
   "source": [
    "train = pd.read_csv('train_clean.csv')\n",
    "train = train.drop(['Unnamed: 0'],axis=1)\n",
    "y_train = train['target']\n",
    "X_train = train.drop('target',axis =1)"
   ]
  },
  {
   "cell_type": "code",
   "execution_count": null,
   "id": "f486608c",
   "metadata": {},
   "outputs": [],
   "source": [
    "test = pd.read_csv('test_clean.csv')\n",
    "test = test.drop(['Unnamed: 0'],axis=1)\n",
    "y_test = test['target']\n",
    "X_test = test.drop('target',axis =1)"
   ]
  },
  {
   "cell_type": "markdown",
   "id": "ad70423a",
   "metadata": {},
   "source": [
    "### Using Voting Regressor"
   ]
  },
  {
   "cell_type": "code",
   "execution_count": null,
   "id": "c3ffebaf",
   "metadata": {},
   "outputs": [],
   "source": [
    "#Tuned Adaboost model\n",
    "model_ada =  \n",
    "test_accuracy_ada = model_ada.score(X_test,y_test) #Returns the classification accuracy of the model on test data\n",
    "    \n",
    "#Tuned Random forest model\n",
    "model_rf = \n",
    "test_accuracy_rf = model_rf.score(X_test,y_test) #Returns the classification accuracy of the model on test data\n",
    "    \n",
    "#Tuned gradient boosting model\n",
    "model_gb = \n",
    "test_accuracy_gb = model_gb.score(X_test,y_test) #Returns the classification accuracy of the model on test data\n",
    "\n",
    "#Tuned XGBoost model\n",
    "model_xgb = xgb.XGBClassifier(gamma= 0, learning_rate = 0.1, max_depth = 7, n_estimators = 650, reg_lambda = 0, subsample = 1).fit(X_train, y_train)\n",
    "\n",
    "test_accuracy_xgb = model_xgb.score(X_test,y_test) #Returns the classification accuracy of the model on test data\n",
    "\n",
    "print(\"Adaboost accuracy = \",test_accuracy_ada)\n",
    "print(\"Random forest accuracy = \",test_accuracy_rf)\n",
    "print(\"Gradient boost accuracy = \",test_accuracy_gb)\n",
    "print(\"XGBoost model accuracy = \",test_accuracy_xgb)"
   ]
  },
  {
   "cell_type": "markdown",
   "id": "2b45d198",
   "metadata": {},
   "source": [
    "### Hard Voting"
   ]
  },
  {
   "cell_type": "code",
   "execution_count": null,
   "id": "50cf9258",
   "metadata": {},
   "outputs": [],
   "source": [
    "ensemble_model_hard = VotingClassifier(estimators=[('ada',model_ada),('rf',model_rf),('gb',model_gb),('xgb',model_xgb)])\n",
    "ensemble_model_hard.fit(X_train,y_train)\n",
    "y_pred = ensemble_model_hard.predict(X_test)\n",
    "print(\"Test accuracy : \", ensemble_model_hard.score(X_test, y_test)*100, '%')\n",
    "print(\"Recall on Test Data: \", recall_score(y_test, y_pred)*100 , '%')"
   ]
  },
  {
   "cell_type": "markdown",
   "id": "fbade1d6",
   "metadata": {},
   "source": [
    "### Soft Voting"
   ]
  },
  {
   "cell_type": "code",
   "execution_count": null,
   "id": "fd5dd9f1",
   "metadata": {},
   "outputs": [],
   "source": [
    "ensemble_model_soft = VotingClassifier(estimators=[('ada',model_ada),('rf',model_rf),('gb',model_gb),('xgb',model_xgb)],\n",
    "                                 voting='soft')\n",
    "ensemble_model_soft.fit(X_train,y_train)\n",
    "y_pred = ensemble_model_soft.predict(X_test)\n",
    "print(\"Test accuracy = \", ensemble_model_soft.score(X_test, y_test)*100, '%')\n",
    "print(\"Recall on Test Data: \", recall_score(y_test, y_pred)*100 , '%')"
   ]
  },
  {
   "cell_type": "markdown",
   "id": "243cf8d9",
   "metadata": {},
   "source": [
    "## Stacking Classifier"
   ]
  },
  {
   "cell_type": "code",
   "execution_count": null,
   "id": "1bc3eaf9",
   "metadata": {},
   "outputs": [],
   "source": []
  },
  {
   "cell_type": "markdown",
   "id": "1e6b4b59",
   "metadata": {},
   "source": [
    "## Tuning all Models Simultaneously"
   ]
  },
  {
   "cell_type": "code",
   "execution_count": null,
   "id": "c92279c6",
   "metadata": {},
   "outputs": [],
   "source": []
  }
 ],
 "metadata": {
  "kernelspec": {
   "display_name": "Python 3 (ipykernel)",
   "language": "python",
   "name": "python3"
  },
  "language_info": {
   "codemirror_mode": {
    "name": "ipython",
    "version": 3
   },
   "file_extension": ".py",
   "mimetype": "text/x-python",
   "name": "python",
   "nbconvert_exporter": "python",
   "pygments_lexer": "ipython3",
   "version": "3.9.12"
  }
 },
 "nbformat": 4,
 "nbformat_minor": 5
}
