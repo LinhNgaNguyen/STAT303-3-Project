{
  "nbformat": 4,
  "nbformat_minor": 0,
  "metadata": {
    "colab": {
      "provenance": []
    },
    "kernelspec": {
      "name": "python3",
      "display_name": "Python 3"
    },
    "language_info": {
      "name": "python"
    }
  },
  "cells": [
    {
      "cell_type": "code",
      "execution_count": 2,
      "metadata": {
        "id": "0ndUYhhw9X1G"
      },
      "outputs": [],
      "source": [
        "import pandas as pd\n",
        "import numpy as np\n",
        "import seaborn as sns\n",
        "import matplotlib.pyplot as plt\n",
        "import xgboost as xgb\n",
        "import itertools as it\n",
        "\n",
        "from sklearn.model_selection import train_test_split, cross_val_predict, cross_val_score, cross_validate\n",
        "from sklearn.linear_model import LogisticRegression, LinearRegression\n",
        "from sklearn.metrics import classification_report, confusion_matrix, roc_curve, auc, precision_recall_curve\n",
        "from sklearn.linear_model import Ridge, RidgeCV, Lasso, LassoCV\n",
        "from sklearn.preprocessing import StandardScaler \n",
        "from sklearn.metrics import r2_score\n",
        "from sklearn.metrics import mean_squared_error\n",
        "from sklearn.metrics import accuracy_score, roc_curve, auc, precision_score, recall_score, confusion_matrix\n",
        "from sklearn.model_selection import StratifiedKFold, KFold\n",
        "from sklearn.metrics import mean_absolute_error\n",
        "from sklearn.model_selection import GridSearchCV, cross_val_predict, RandomizedSearchCV\n",
        "from sklearn.ensemble import BaggingRegressor,BaggingClassifier,RandomForestRegressor,RandomForestClassifier, AdaBoostRegressor, AdaBoostClassifier, GradientBoostingRegressor, GradientBoostingClassifier\n",
        "from sklearn.neighbors import KNeighborsClassifier, KNeighborsRegressor\n",
        "from sklearn.tree import DecisionTreeClassifier, DecisionTreeRegressor\n",
        "from sklearn.impute import KNNImputer\n",
        "from sklearn import preprocessing\n",
        "from sklearn import metrics\n",
        "from sklearn.feature_selection import SequentialFeatureSelector, SelectKBest, f_regression\n",
        "import warnings\n",
        "np.warnings.filterwarnings('ignore')"
      ]
    },
    {
      "cell_type": "code",
      "source": [
        "# Loading test and train data\n",
        "train = pd.read_csv('train_clean.csv')\n",
        "test = pd.read_csv('test_clean.csv')"
      ],
      "metadata": {
        "id": "gaYP01Cu9jyr"
      },
      "execution_count": 3,
      "outputs": []
    },
    {
      "cell_type": "code",
      "source": [
        "train = train.drop(['Unnamed: 0'],axis=1)\n",
        "test = test.drop(['Unnamed: 0'],axis=1)"
      ],
      "metadata": {
        "id": "5tHqL1RoYVTb"
      },
      "execution_count": 75,
      "outputs": []
    },
    {
      "cell_type": "code",
      "source": [
        "# Separate into test and train\n",
        "y_train = train.target\n",
        "X_train = train.drop(\"target\", axis = 1)\n",
        "\n",
        "y_test = test.target\n",
        "X_test = test.drop('target', axis = 1)\n",
        "\n",
        "X_train_columns = X_train.columns\n",
        "X_test_columns = X_test.columns"
      ],
      "metadata": {
        "id": "fOKEGOr7MOzT"
      },
      "execution_count": 76,
      "outputs": []
    },
    {
      "cell_type": "code",
      "source": [
        "# Scale the data\n",
        "scaler = StandardScaler().fit(X_train)\n",
        "X_train = pd.DataFrame(scaler.transform(X_train), columns = X_train_columns)\n",
        "X_test = pd.DataFrame(scaler.transform(X_test), columns = X_train_columns)"
      ],
      "metadata": {
        "id": "hzecsW5lMSfJ"
      },
      "execution_count": 77,
      "outputs": []
    },
    {
      "cell_type": "code",
      "source": [
        "# Model without any restrictions\n",
        "model = DecisionTreeClassifier(random_state = 1)\n",
        "\n",
        "# Compute the pruning path during Minimal Cost-Complexity Pruning\n",
        "path= model.cost_complexity_pruning_path(X_train,y_train)"
      ],
      "metadata": {
        "id": "oCEoiMk4rnik"
      },
      "execution_count": 78,
      "outputs": []
    },
    {
      "cell_type": "code",
      "source": [
        "alphas=path['ccp_alphas']"
      ],
      "metadata": {
        "id": "B7ij_Wgyrnk5"
      },
      "execution_count": 79,
      "outputs": []
    },
    {
      "cell_type": "code",
      "source": [
        "len(alphas)"
      ],
      "metadata": {
        "colab": {
          "base_uri": "https://localhost:8080/"
        },
        "id": "zxmC7u5Arnm_",
        "outputId": "31dcd976-9a7e-4f8d-90f5-1133ca736c62"
      },
      "execution_count": 80,
      "outputs": [
        {
          "output_type": "execute_result",
          "data": {
            "text/plain": [
              "232"
            ]
          },
          "metadata": {},
          "execution_count": 80
        }
      ]
    },
    {
      "cell_type": "markdown",
      "source": [
        "## **Coarse Grid Search**"
      ],
      "metadata": {
        "id": "S4dw9JGcp57W"
      }
    },
    {
      "cell_type": "code",
      "source": [
        "param_grid = {    \n",
        "    'max_depth': range(0, 50),\n",
        "    'max_leaf_nodes': range(0, 50),\n",
        "    'max_features': range(1, 50),\n",
        "    'ccp_alpha':alphas\n",
        "}\n",
        "\n",
        "cv = StratifiedKFold(n_splits=5)\n",
        "\n",
        "grid_search_model = RandomizedSearchCV(DecisionTreeClassifier(random_state = 1), param_distributions = param_grid, \n",
        "                                       scoring = ['accuracy', 'recall'], refit = 'recall', n_jobs=-1, verbose=True,\n",
        "                                       cv=cv, n_iter = 1000)\n",
        "\n",
        "grid_search_model.fit(X_train, y_train)\n",
        "\n",
        "# make the predictions\n",
        "y_pred = grid_search_model.predict(X_test)\n",
        "\n",
        "print('Train accuracy : %.3f'%grid_search_model.best_estimator_.score(X_train, y_train))\n",
        "print('Test accuracy : %.3f'%grid_search_model.best_estimator_.score(X_test, y_test))\n",
        "print('Best accuracy Through Grid Search : %.3f'%grid_search_model.best_score_)\n",
        "\n",
        "print('Best params for recall')\n",
        "print(grid_search_model.best_params_)"
      ],
      "metadata": {
        "colab": {
          "base_uri": "https://localhost:8080/"
        },
        "id": "wD8rDuJ2MTti",
        "outputId": "badb364e-9e32-4b9b-db72-100acf596891"
      },
      "execution_count": 81,
      "outputs": [
        {
          "output_type": "stream",
          "name": "stdout",
          "text": [
            "Fitting 5 folds for each of 1000 candidates, totalling 5000 fits\n",
            "Train accuracy : 0.840\n",
            "Test accuracy : 0.818\n",
            "Best accuracy Through Grid Search : 0.819\n",
            "Best params for recall\n",
            "{'max_leaf_nodes': 47, 'max_features': 47, 'max_depth': 1, 'ccp_alpha': 0.0015143275631222565}\n"
          ]
        }
      ]
    },
    {
      "cell_type": "code",
      "source": [
        "tree = DecisionTreeClassifier(random_state=1, max_depth = 14, max_leaf_nodes=11, max_features=24, \n",
        "                              ccp_alpha = 0.00084).fit(X_train, y_train)\n",
        "\n",
        "cross_val_ypred = cross_val_predict(DecisionTreeClassifier(random_state=1, max_depth = 15, max_leaf_nodes=8, \n",
        "                                                           max_features=40, ccp_alpha = 0.000190909090909091), \n",
        "                                    X_train, y_train, cv = 5, method = 'predict_proba')\n",
        "\n",
        "metrics = pd.DataFrame()\n",
        "i = 0\n",
        "threshold_hyperparam = np.arange(0, 1.01, 0.001)\n",
        "\n",
        "for threshold in threshold_hyperparam:\n",
        "  predicted = cross_val_ypred[:, 1] > threshold\n",
        "  predicted = predicted.astype(int)\n",
        "\n",
        "  accuracy = accuracy_score(predicted, y_train)*100\n",
        "  metrics.loc[i, 'threshold'] = threshold\n",
        "  metrics.loc[i, 'accuracy'] = accuracy\n",
        "  metrics.loc[i, 'recall'] = recall_score(y_train, predicted)*100\n",
        "  \n",
        "  i = i + 1"
      ],
      "metadata": {
        "id": "rV-8ELPHMetJ"
      },
      "execution_count": 82,
      "outputs": []
    },
    {
      "cell_type": "code",
      "source": [
        "metrics.loc[(metrics.accuracy>=80) & (metrics.recall>80), :].sort_values(by = 'recall', ascending = False).iloc[0,:]"
      ],
      "metadata": {
        "colab": {
          "base_uri": "https://localhost:8080/"
        },
        "id": "J9RtVPuGMeve",
        "outputId": "f6970d99-4038-410b-f566-1286666f87bc"
      },
      "execution_count": 83,
      "outputs": [
        {
          "output_type": "execute_result",
          "data": {
            "text/plain": [
              "threshold     0.181000\n",
              "accuracy     80.330000\n",
              "recall       87.074031\n",
              "Name: 181, dtype: float64"
            ]
          },
          "metadata": {},
          "execution_count": 83
        }
      ]
    },
    {
      "cell_type": "code",
      "source": [
        "metrics.loc[(metrics.accuracy>=80) & (metrics.recall>80), :].sort_values(by = 'accuracy', ascending = False).iloc[0,:]"
      ],
      "metadata": {
        "colab": {
          "base_uri": "https://localhost:8080/"
        },
        "id": "pyfQyMV4zu-X",
        "outputId": "c0c9f069-ea23-4258-d1fe-35f5efd49ef5"
      },
      "execution_count": 84,
      "outputs": [
        {
          "output_type": "execute_result",
          "data": {
            "text/plain": [
              "threshold     0.226000\n",
              "accuracy     82.340000\n",
              "recall       81.511947\n",
              "Name: 226, dtype: float64"
            ]
          },
          "metadata": {},
          "execution_count": 84
        }
      ]
    },
    {
      "cell_type": "code",
      "source": [
        "tree = DecisionTreeClassifier(random_state=1, max_depth = 15, max_leaf_nodes=8, max_features=40, \n",
        "                              ccp_alpha = 0.000190909090909091)\n",
        "\n",
        "cross_val_ypred = cross_val_predict(tree, X_train, y_train, cv = 5, method = 'predict_proba')\n",
        "\n",
        "tree.fit(X_train, y_train)\n",
        "\n",
        "p, r, thresholds = precision_recall_curve(y_train, cross_val_ypred[:,1])\n",
        "accuracy_list = []\n",
        "\n",
        "for t in thresholds:\n",
        "  y_pred_prob = tree.predict_proba(X_train)[:,1]\n",
        "  y_pred = y_pred_prob > t\n",
        "  y_pred = y_pred.astype(int)\n",
        "  accuracy = (accuracy_score(y_pred, y_train))\n",
        "  accuracy_list.append(accuracy)\n",
        "\n",
        "def plot_accuracy_recall_vs_threshold(accuracy, recalls, thresholds):\n",
        "  plt.figure(figsize=(8,8))\n",
        "  plt.title(\"Accuracy and Recall Scores as a function of the decision threshold\")\n",
        "  plt.plot(thresholds, accuracy_list, \"b--\", label = \"Accuracy\")\n",
        "  plt.plot(thresholds, recalls[:-1], 'g-', label = \"Recall\")\n",
        "  plt.plot(thresholds, accuracy_list, 'o', color = 'blue')\n",
        "  plt.plot(thresholds, recalls[:-1], 'o', color = 'green')\n",
        "  plt.ylabel('Score')\n",
        "  plt.xlabel('Decision Threshold')\n",
        "  plt.legend(loc='best')\n",
        "  plt.legend()\n",
        "plot_accuracy_recall_vs_threshold(accuracy_list, r, thresholds)"
      ],
      "metadata": {
        "colab": {
          "base_uri": "https://localhost:8080/",
          "height": 718
        },
        "id": "hNBYW10lMexw",
        "outputId": "8d39ee80-db83-4761-b72c-a4b7c194a9d9"
      },
      "execution_count": 85,
      "outputs": [
        {
          "output_type": "display_data",
          "data": {
            "text/plain": [
              "<Figure size 800x800 with 1 Axes>"
            ],
            "image/png": "[encoded data removed]"
          },
          "metadata": {}
        }
      ]
    },
    {
      "cell_type": "code",
      "source": [
        "# Performance metrics computation for the optimum decision threshold probability\n",
        "desired_threshold = 0.171000\n",
        "\n",
        "tree.fit(X_train, y_train)\n",
        "\n",
        "y_pred_prob = tree.predict_proba(X_train)[:,1] \n",
        "\n",
        "# Classifying observations in the positive class (y = 1) if the predicted probability is greater\n",
        "# than the desired decision threshold probability\n",
        "y_pred = y_pred_prob > desired_threshold\n",
        "y_pred = y_pred.astype(int)\n",
        "\n",
        "#Computing the accuracy\n",
        "print(\"Accuracy: \",accuracy_score(y_pred, y_train)*100)  \n",
        "\n",
        "#Computing the ROC-AUC\n",
        "fpr, tpr, auc_thresholds = roc_curve(y_train, y_pred_prob)\n",
        "print(\"ROC-AUC: \",auc(fpr, tpr))# AUC of ROC\n",
        "\n",
        "#Computing the precision and recall\n",
        "print(\"Precision: \", precision_score(y_train, y_pred))\n",
        "print(\"Recall: \", recall_score(y_train, y_pred))\n",
        "\n",
        "#Confusion matrix\n",
        "cm = pd.DataFrame(confusion_matrix(y_train, y_pred), \n",
        "                  columns=['Predicted 0', 'Predicted 1'], index = ['Actual 0', 'Actual 1'])\n",
        "sns.heatmap(cm, annot=True, cmap='Blues', fmt='g');"
      ],
      "metadata": {
        "colab": {
          "base_uri": "https://localhost:8080/",
          "height": 501
        },
        "id": "MYushUqZMe0b",
        "outputId": "db4a16bc-60a6-40b2-de82-63a44b63703c"
      },
      "execution_count": 86,
      "outputs": [
        {
          "output_type": "stream",
          "name": "stdout",
          "text": [
            "Accuracy:  80.55\n",
            "ROC-AUC:  0.9024251597304067\n",
            "Precision:  0.5765357502517623\n",
            "Recall:  0.8969839404622013\n"
          ]
        },
        {
          "output_type": "display_data",
          "data": {
            "text/plain": [
              "<Figure size 640x480 with 2 Axes>"
            ],
            "image/png": "[encoded data removed]"
          },
          "metadata": {}
        }
      ]
    },
    {
      "cell_type": "code",
      "source": [
        "# Performance metrics computation for the optimum decision threshold probability\n",
        "desired_threshold = 0.171000\n",
        "\n",
        "tree.fit(X_train, y_train)\n",
        "\n",
        "y_pred_prob = tree.predict_proba(X_test)[:,1] \n",
        "\n",
        "# Classifying observations in the positive class (y = 1) if the predicted probability is greater\n",
        "# than the desired decision threshold probability\n",
        "y_pred = y_pred_prob > desired_threshold\n",
        "y_pred = y_pred.astype(int)\n",
        "\n",
        "#Computing the accuracy\n",
        "print(\"Accuracy: \",accuracy_score(y_pred, y_test)*100)  \n",
        "\n",
        "#Computing the ROC-AUC\n",
        "fpr, tpr, auc_thresholds = roc_curve(y_test, y_pred_prob)\n",
        "print(\"ROC-AUC: \",auc(fpr, tpr))# AUC of ROC\n",
        "\n",
        "#Computing the precision and recall\n",
        "print(\"Precision: \", precision_score(y_test, y_pred))\n",
        "print(\"Recall: \", recall_score(y_test, y_pred))\n",
        "\n",
        "#Confusion matrix\n",
        "cm = pd.DataFrame(confusion_matrix(y_test, y_pred), \n",
        "                  columns=['Predicted 0', 'Predicted 1'], index = ['Actual 0', 'Actual 1'])\n",
        "sns.heatmap(cm, annot=True, cmap='Blues', fmt='g');"
      ],
      "metadata": {
        "colab": {
          "base_uri": "https://localhost:8080/",
          "height": 501
        },
        "id": "ZbHnMKm2MkK3",
        "outputId": "c55b0826-23b7-45ac-db8a-bc5bd25f3d34"
      },
      "execution_count": 87,
      "outputs": [
        {
          "output_type": "stream",
          "name": "stdout",
          "text": [
            "Accuracy:  79.01\n",
            "ROC-AUC:  0.86427062804195\n",
            "Precision:  0.5910316098995344\n",
            "Recall:  0.848698099929627\n"
          ]
        },
        {
          "output_type": "display_data",
          "data": {
            "text/plain": [
              "<Figure size 640x480 with 2 Axes>"
            ],
            "image/png": "[encoded data removed]"
          },
          "metadata": {}
        }
      ]
    },
    {
      "cell_type": "markdown",
      "source": [
        "## **Fine Grid Search**"
      ],
      "metadata": {
        "id": "ZD7TTgpGr4S0"
      }
    },
    {
      "cell_type": "code",
      "source": [
        "param_grid = {    \n",
        "    'max_depth': range(10, 20),\n",
        "    'max_leaf_nodes': range(5, 20),\n",
        "    'max_features': range(20, 30),\n",
        "    'ccp_alpha':alphas\n",
        "}\n",
        "\n",
        "cv = StratifiedKFold(n_splits=5)\n",
        "\n",
        "grid_search_model = RandomizedSearchCV(DecisionTreeClassifier(random_state = 1), param_distributions = param_grid, \n",
        "                                       scoring = ['accuracy', 'recall'], refit = 'recall', n_jobs=-1, verbose=True,\n",
        "                                       cv=cv, n_iter = 2000)\n",
        "\n",
        "grid_search_model.fit(X_train, y_train)\n",
        "\n",
        "# make the predictions\n",
        "y_pred = grid_search_model.predict(X_test)\n",
        "\n",
        "print('Train accuracy : %.3f'%grid_search_model.best_estimator_.score(X_train, y_train))\n",
        "print('Test accuracy : %.3f'%grid_search_model.best_estimator_.score(X_test, y_test))\n",
        "print('Best accuracy Through Grid Search : %.3f'%grid_search_model.best_score_)\n",
        "\n",
        "print('Best params for recall')\n",
        "print(grid_search_model.best_params_)"
      ],
      "metadata": {
        "colab": {
          "base_uri": "https://localhost:8080/"
        },
        "outputId": "e436aeb0-69a7-4540-9147-bdee16b46397",
        "id": "54ODTDfnr4S0"
      },
      "execution_count": 88,
      "outputs": [
        {
          "output_type": "stream",
          "name": "stdout",
          "text": [
            "Fitting 5 folds for each of 2000 candidates, totalling 10000 fits\n",
            "Train accuracy : 0.834\n",
            "Test accuracy : 0.814\n",
            "Best accuracy Through Grid Search : 0.754\n",
            "Best params for recall\n",
            "{'max_leaf_nodes': 5, 'max_features': 20, 'max_depth': 19, 'ccp_alpha': 0.0002964051809718105}\n"
          ]
        }
      ]
    },
    {
      "cell_type": "code",
      "source": [
        "tree = DecisionTreeClassifier(random_state=1, max_depth = 15, max_leaf_nodes=14, max_features=24, \n",
        "                              ccp_alpha = 0.002522701041957589).fit(X_train, y_train)\n",
        "\n",
        "cross_val_ypred = cross_val_predict(DecisionTreeClassifier(random_state=1, max_depth = 15, max_leaf_nodes=8, \n",
        "                                                           max_features=40, ccp_alpha = 0.000190909090909091), \n",
        "                                    X_train, y_train, cv = 5, method = 'predict_proba')\n",
        "\n",
        "metrics = pd.DataFrame()\n",
        "i = 0\n",
        "threshold_hyperparam = np.arange(0, 1.01, 0.001)\n",
        "\n",
        "for threshold in threshold_hyperparam:\n",
        "  predicted = cross_val_ypred[:, 1] > threshold\n",
        "  predicted = predicted.astype(int)\n",
        "\n",
        "  accuracy = accuracy_score(predicted, y_train)*100\n",
        "  metrics.loc[i, 'threshold'] = threshold\n",
        "  metrics.loc[i, 'accuracy'] = accuracy\n",
        "  metrics.loc[i, 'recall'] = recall_score(y_train, predicted)*100\n",
        "  \n",
        "  i = i + 1"
      ],
      "metadata": {
        "id": "zkxSoSLxr4S9"
      },
      "execution_count": 89,
      "outputs": []
    },
    {
      "cell_type": "code",
      "source": [
        "metrics.loc[(metrics.accuracy>=80) & (metrics.recall>80), :].sort_values(by = 'recall', ascending = False).iloc[0,:]"
      ],
      "metadata": {
        "colab": {
          "base_uri": "https://localhost:8080/"
        },
        "id": "OFGG1yfFr4S9",
        "outputId": "4bc81ea8-310d-4d9c-fdb1-e53dd75978db"
      },
      "execution_count": 90,
      "outputs": [
        {
          "output_type": "execute_result",
          "data": {
            "text/plain": [
              "threshold     0.181000\n",
              "accuracy     80.330000\n",
              "recall       87.074031\n",
              "Name: 181, dtype: float64"
            ]
          },
          "metadata": {},
          "execution_count": 90
        }
      ]
    },
    {
      "cell_type": "code",
      "source": [
        "metrics.loc[(metrics.accuracy>=80) & (metrics.recall>80), :].sort_values(by = 'accuracy', ascending = False).iloc[0,:]"
      ],
      "metadata": {
        "colab": {
          "base_uri": "https://localhost:8080/"
        },
        "id": "tamdESWZr4S9",
        "outputId": "0bb02caf-e2c5-4920-d331-30a64f8fcea1"
      },
      "execution_count": 91,
      "outputs": [
        {
          "output_type": "execute_result",
          "data": {
            "text/plain": [
              "threshold     0.226000\n",
              "accuracy     82.340000\n",
              "recall       81.511947\n",
              "Name: 226, dtype: float64"
            ]
          },
          "metadata": {},
          "execution_count": 91
        }
      ]
    },
    {
      "cell_type": "code",
      "source": [
        "metrics.iloc[range(200,250), :]"
      ],
      "metadata": {
        "colab": {
          "base_uri": "https://localhost:8080/",
          "height": 1000
        },
        "id": "GGFK5ZsfWBNk",
        "outputId": "cc2439f1-5d08-4a1b-df36-bcc6a780df59"
      },
      "execution_count": 98,
      "outputs": [
        {
          "output_type": "execute_result",
          "data": {
            "text/plain": [
              "     threshold  accuracy     recall\n",
              "200      0.200     81.12  83.157070\n",
              "201      0.201     81.12  83.157070\n",
              "202      0.202     81.12  83.157070\n",
              "203      0.203     81.12  83.157070\n",
              "204      0.204     81.12  83.157070\n",
              "205      0.205     81.12  83.157070\n",
              "206      0.206     81.12  83.157070\n",
              "207      0.207     81.12  83.157070\n",
              "208      0.208     81.12  83.157070\n",
              "209      0.209     82.34  81.511947\n",
              "210      0.210     82.34  81.511947\n",
              "211      0.211     82.34  81.511947\n",
              "212      0.212     82.34  81.511947\n",
              "213      0.213     82.34  81.511947\n",
              "214      0.214     82.34  81.511947\n",
              "215      0.215     82.34  81.511947\n",
              "216      0.216     82.34  81.511947\n",
              "217      0.217     82.34  81.511947\n",
              "218      0.218     82.34  81.511947\n",
              "219      0.219     82.34  81.511947\n",
              "220      0.220     82.34  81.511947\n",
              "221      0.221     82.34  81.511947\n",
              "222      0.222     82.34  81.511947\n",
              "223      0.223     82.34  81.511947\n",
              "224      0.224     82.34  81.511947\n",
              "225      0.225     82.34  81.511947\n",
              "226      0.226     82.34  81.511947\n",
              "227      0.227     82.34  81.511947\n",
              "228      0.228     82.34  81.511947\n",
              "229      0.229     82.34  81.511947\n",
              "230      0.230     82.34  81.511947\n",
              "231      0.231     82.34  81.511947\n",
              "232      0.232     82.34  81.511947\n",
              "233      0.233     82.34  81.511947\n",
              "234      0.234     82.34  81.511947\n",
              "235      0.235     82.34  81.511947\n",
              "236      0.236     82.34  81.511947\n",
              "237      0.237     82.34  81.511947\n",
              "238      0.238     82.34  81.511947\n",
              "239      0.239     82.34  81.511947\n",
              "240      0.240     82.34  81.511947\n",
              "241      0.241     82.34  81.511947\n",
              "242      0.242     82.34  81.511947\n",
              "243      0.243     82.34  81.511947\n",
              "244      0.244     82.34  81.511947\n",
              "245      0.245     82.34  81.511947\n",
              "246      0.246     82.34  81.511947\n",
              "247      0.247     82.34  81.511947\n",
              "248      0.248     82.34  81.511947\n",
              "249      0.249     82.34  81.511947"
            ],
            "text/html": [
              "\n",
              "  <div id=\"df-004729d7-108a-4ee2-b25c-3228bc0c7429\">\n",
              "    <div class=\"colab-df-container\">\n",
              "      <div>\n",
              "<style scoped>\n",
              "    .dataframe tbody tr th:only-of-type {\n",
              "        vertical-align: middle;\n",
              "    }\n",
              "\n",
              "    .dataframe tbody tr th {\n",
              "        vertical-align: top;\n",
              "    }\n",
              "\n",
              "    .dataframe thead th {\n",
              "        text-align: right;\n",
              "    }\n",
              "</style>\n",
              "<table border=\"1\" class=\"dataframe\">\n",
              "  <thead>\n",
              "    <tr style=\"text-align: right;\">\n",
              "      <th></th>\n",
              "      <th>threshold</th>\n",
              "      <th>accuracy</th>\n",
              "      <th>recall</th>\n",
              "    </tr>\n",
              "  </thead>\n",
              "  <tbody>\n",
              "    <tr>\n",
              "      <th>200</th>\n",
              "      <td>0.200</td>\n",
              "      <td>81.12</td>\n",
              "      <td>83.157070</td>\n",
              "    </tr>\n",
              "    <tr>\n",
              "      <th>201</th>\n",
              "      <td>0.201</td>\n",
              "      <td>81.12</td>\n",
              "      <td>83.157070</td>\n",
              "    </tr>\n",
              "    <tr>\n",
              "      <th>202</th>\n",
              "      <td>0.202</td>\n",
              "      <td>81.12</td>\n",
              "      <td>83.157070</td>\n",
              "    </tr>\n",
              "    <tr>\n",
              "      <th>203</th>\n",
              "      <td>0.203</td>\n",
              "      <td>81.12</td>\n",
              "      <td>83.157070</td>\n",
              "    </tr>\n",
              "    <tr>\n",
              "      <th>204</th>\n",
              "      <td>0.204</td>\n",
              "      <td>81.12</td>\n",
              "      <td>83.157070</td>\n",
              "    </tr>\n",
              "    <tr>\n",
              "      <th>205</th>\n",
              "      <td>0.205</td>\n",
              "      <td>81.12</td>\n",
              "      <td>83.157070</td>\n",
              "    </tr>\n",
              "    <tr>\n",
              "      <th>206</th>\n",
              "      <td>0.206</td>\n",
              "      <td>81.12</td>\n",
              "      <td>83.157070</td>\n",
              "    </tr>\n",
              "    <tr>\n",
              "      <th>207</th>\n",
              "      <td>0.207</td>\n",
              "      <td>81.12</td>\n",
              "      <td>83.157070</td>\n",
              "    </tr>\n",
              "    <tr>\n",
              "      <th>208</th>\n",
              "      <td>0.208</td>\n",
              "      <td>81.12</td>\n",
              "      <td>83.157070</td>\n",
              "    </tr>\n",
              "    <tr>\n",
              "      <th>209</th>\n",
              "      <td>0.209</td>\n",
              "      <td>82.34</td>\n",
              "      <td>81.511947</td>\n",
              "    </tr>\n",
              "    <tr>\n",
              "      <th>210</th>\n",
              "      <td>0.210</td>\n",
              "      <td>82.34</td>\n",
              "      <td>81.511947</td>\n",
              "    </tr>\n",
              "    <tr>\n",
              "      <th>211</th>\n",
              "      <td>0.211</td>\n",
              "      <td>82.34</td>\n",
              "      <td>81.511947</td>\n",
              "    </tr>\n",
              "    <tr>\n",
              "      <th>212</th>\n",
              "      <td>0.212</td>\n",
              "      <td>82.34</td>\n",
              "      <td>81.511947</td>\n",
              "    </tr>\n",
              "    <tr>\n",
              "      <th>213</th>\n",
              "      <td>0.213</td>\n",
              "      <td>82.34</td>\n",
              "      <td>81.511947</td>\n",
              "    </tr>\n",
              "    <tr>\n",
              "      <th>214</th>\n",
              "      <td>0.214</td>\n",
              "      <td>82.34</td>\n",
              "      <td>81.511947</td>\n",
              "    </tr>\n",
              "    <tr>\n",
              "      <th>215</th>\n",
              "      <td>0.215</td>\n",
              "      <td>82.34</td>\n",
              "      <td>81.511947</td>\n",
              "    </tr>\n",
              "    <tr>\n",
              "      <th>216</th>\n",
              "      <td>0.216</td>\n",
              "      <td>82.34</td>\n",
              "      <td>81.511947</td>\n",
              "    </tr>\n",
              "    <tr>\n",
              "      <th>217</th>\n",
              "      <td>0.217</td>\n",
              "      <td>82.34</td>\n",
              "      <td>81.511947</td>\n",
              "    </tr>\n",
              "    <tr>\n",
              "      <th>218</th>\n",
              "      <td>0.218</td>\n",
              "      <td>82.34</td>\n",
              "      <td>81.511947</td>\n",
              "    </tr>\n",
              "    <tr>\n",
              "      <th>219</th>\n",
              "      <td>0.219</td>\n",
              "      <td>82.34</td>\n",
              "      <td>81.511947</td>\n",
              "    </tr>\n",
              "    <tr>\n",
              "      <th>220</th>\n",
              "      <td>0.220</td>\n",
              "      <td>82.34</td>\n",
              "      <td>81.511947</td>\n",
              "    </tr>\n",
              "    <tr>\n",
              "      <th>221</th>\n",
              "      <td>0.221</td>\n",
              "      <td>82.34</td>\n",
              "      <td>81.511947</td>\n",
              "    </tr>\n",
              "    <tr>\n",
              "      <th>222</th>\n",
              "      <td>0.222</td>\n",
              "      <td>82.34</td>\n",
              "      <td>81.511947</td>\n",
              "    </tr>\n",
              "    <tr>\n",
              "      <th>223</th>\n",
              "      <td>0.223</td>\n",
              "      <td>82.34</td>\n",
              "      <td>81.511947</td>\n",
              "    </tr>\n",
              "    <tr>\n",
              "      <th>224</th>\n",
              "      <td>0.224</td>\n",
              "      <td>82.34</td>\n",
              "      <td>81.511947</td>\n",
              "    </tr>\n",
              "    <tr>\n",
              "      <th>225</th>\n",
              "      <td>0.225</td>\n",
              "      <td>82.34</td>\n",
              "      <td>81.511947</td>\n",
              "    </tr>\n",
              "    <tr>\n",
              "      <th>226</th>\n",
              "      <td>0.226</td>\n",
              "      <td>82.34</td>\n",
              "      <td>81.511947</td>\n",
              "    </tr>\n",
              "    <tr>\n",
              "      <th>227</th>\n",
              "      <td>0.227</td>\n",
              "      <td>82.34</td>\n",
              "      <td>81.511947</td>\n",
              "    </tr>\n",
              "    <tr>\n",
              "      <th>228</th>\n",
              "      <td>0.228</td>\n",
              "      <td>82.34</td>\n",
              "      <td>81.511947</td>\n",
              "    </tr>\n",
              "    <tr>\n",
              "      <th>229</th>\n",
              "      <td>0.229</td>\n",
              "      <td>82.34</td>\n",
              "      <td>81.511947</td>\n",
              "    </tr>\n",
              "    <tr>\n",
              "      <th>230</th>\n",
              "      <td>0.230</td>\n",
              "      <td>82.34</td>\n",
              "      <td>81.511947</td>\n",
              "    </tr>\n",
              "    <tr>\n",
              "      <th>231</th>\n",
              "      <td>0.231</td>\n",
              "      <td>82.34</td>\n",
              "      <td>81.511947</td>\n",
              "    </tr>\n",
              "    <tr>\n",
              "      <th>232</th>\n",
              "      <td>0.232</td>\n",
              "      <td>82.34</td>\n",
              "      <td>81.511947</td>\n",
              "    </tr>\n",
              "    <tr>\n",
              "      <th>233</th>\n",
              "      <td>0.233</td>\n",
              "      <td>82.34</td>\n",
              "      <td>81.511947</td>\n",
              "    </tr>\n",
              "    <tr>\n",
              "      <th>234</th>\n",
              "      <td>0.234</td>\n",
              "      <td>82.34</td>\n",
              "      <td>81.511947</td>\n",
              "    </tr>\n",
              "    <tr>\n",
              "      <th>235</th>\n",
              "      <td>0.235</td>\n",
              "      <td>82.34</td>\n",
              "      <td>81.511947</td>\n",
              "    </tr>\n",
              "    <tr>\n",
              "      <th>236</th>\n",
              "      <td>0.236</td>\n",
              "      <td>82.34</td>\n",
              "      <td>81.511947</td>\n",
              "    </tr>\n",
              "    <tr>\n",
              "      <th>237</th>\n",
              "      <td>0.237</td>\n",
              "      <td>82.34</td>\n",
              "      <td>81.511947</td>\n",
              "    </tr>\n",
              "    <tr>\n",
              "      <th>238</th>\n",
              "      <td>0.238</td>\n",
              "      <td>82.34</td>\n",
              "      <td>81.511947</td>\n",
              "    </tr>\n",
              "    <tr>\n",
              "      <th>239</th>\n",
              "      <td>0.239</td>\n",
              "      <td>82.34</td>\n",
              "      <td>81.511947</td>\n",
              "    </tr>\n",
              "    <tr>\n",
              "      <th>240</th>\n",
              "      <td>0.240</td>\n",
              "      <td>82.34</td>\n",
              "      <td>81.511947</td>\n",
              "    </tr>\n",
              "    <tr>\n",
              "      <th>241</th>\n",
              "      <td>0.241</td>\n",
              "      <td>82.34</td>\n",
              "      <td>81.511947</td>\n",
              "    </tr>\n",
              "    <tr>\n",
              "      <th>242</th>\n",
              "      <td>0.242</td>\n",
              "      <td>82.34</td>\n",
              "      <td>81.511947</td>\n",
              "    </tr>\n",
              "    <tr>\n",
              "      <th>243</th>\n",
              "      <td>0.243</td>\n",
              "      <td>82.34</td>\n",
              "      <td>81.511947</td>\n",
              "    </tr>\n",
              "    <tr>\n",
              "      <th>244</th>\n",
              "      <td>0.244</td>\n",
              "      <td>82.34</td>\n",
              "      <td>81.511947</td>\n",
              "    </tr>\n",
              "    <tr>\n",
              "      <th>245</th>\n",
              "      <td>0.245</td>\n",
              "      <td>82.34</td>\n",
              "      <td>81.511947</td>\n",
              "    </tr>\n",
              "    <tr>\n",
              "      <th>246</th>\n",
              "      <td>0.246</td>\n",
              "      <td>82.34</td>\n",
              "      <td>81.511947</td>\n",
              "    </tr>\n",
              "    <tr>\n",
              "      <th>247</th>\n",
              "      <td>0.247</td>\n",
              "      <td>82.34</td>\n",
              "      <td>81.511947</td>\n",
              "    </tr>\n",
              "    <tr>\n",
              "      <th>248</th>\n",
              "      <td>0.248</td>\n",
              "      <td>82.34</td>\n",
              "      <td>81.511947</td>\n",
              "    </tr>\n",
              "    <tr>\n",
              "      <th>249</th>\n",
              "      <td>0.249</td>\n",
              "      <td>82.34</td>\n",
              "      <td>81.511947</td>\n",
              "    </tr>\n",
              "  </tbody>\n",
              "</table>\n",
              "</div>\n",
              "      <button class=\"colab-df-convert\" onclick=\"convertToInteractive('df-004729d7-108a-4ee2-b25c-3228bc0c7429')\"\n",
              "              title=\"Convert this dataframe to an interactive table.\"\n",
              "              style=\"display:none;\">\n",
              "        \n",
              "  <svg xmlns=\"http://www.w3.org/2000/svg\" height=\"24px\"viewBox=\"0 0 24 24\"\n",
              "       width=\"24px\">\n",
              "    <path d=\"M0 0h24v24H0V0z\" fill=\"none\"/>\n",
              "    <path d=\"M18.56 5.44l.94 2.06.94-2.06 2.06-.94-2.06-.94-.94-2.06-.94 2.06-2.06.94zm-11 1L8.5 8.5l.94-2.06 2.06-.94-2.06-.94L8.5 2.5l-.94 2.06-2.06.94zm10 10l.94 2.06.94-2.06 2.06-.94-2.06-.94-.94-2.06-.94 2.06-2.06.94z\"/><path d=\"M17.41 7.96l-1.37-1.37c-.4-.4-.92-.59-1.43-.59-.52 0-1.04.2-1.43.59L10.3 9.45l-7.72 7.72c-.78.78-.78 2.05 0 2.83L4 21.41c.39.39.9.59 1.41.59.51 0 1.02-.2 1.41-.59l7.78-7.78 2.81-2.81c.8-.78.8-2.07 0-2.86zM5.41 20L4 18.59l7.72-7.72 1.47 1.35L5.41 20z\"/>\n",
              "  </svg>\n",
              "      </button>\n",
              "      \n",
              "  <style>\n",
              "    .colab-df-container {\n",
              "      display:flex;\n",
              "      flex-wrap:wrap;\n",
              "      gap: 12px;\n",
              "    }\n",
              "\n",
              "    .colab-df-convert {\n",
              "      background-color: #E8F0FE;\n",
              "      border: none;\n",
              "      border-radius: 50%;\n",
              "      cursor: pointer;\n",
              "      display: none;\n",
              "      fill: #1967D2;\n",
              "      height: 32px;\n",
              "      padding: 0 0 0 0;\n",
              "      width: 32px;\n",
              "    }\n",
              "\n",
              "    .colab-df-convert:hover {\n",
              "      background-color: #E2EBFA;\n",
              "      box-shadow: 0px 1px 2px rgba(60, 64, 67, 0.3), 0px 1px 3px 1px rgba(60, 64, 67, 0.15);\n",
              "      fill: #174EA6;\n",
              "    }\n",
              "\n",
              "    [theme=dark] .colab-df-convert {\n",
              "      background-color: #3B4455;\n",
              "      fill: #D2E3FC;\n",
              "    }\n",
              "\n",
              "    [theme=dark] .colab-df-convert:hover {\n",
              "      background-color: #434B5C;\n",
              "      box-shadow: 0px 1px 3px 1px rgba(0, 0, 0, 0.15);\n",
              "      filter: drop-shadow(0px 1px 2px rgba(0, 0, 0, 0.3));\n",
              "      fill: #FFFFFF;\n",
              "    }\n",
              "  </style>\n",
              "\n",
              "      <script>\n",
              "        const buttonEl =\n",
              "          document.querySelector('#df-004729d7-108a-4ee2-b25c-3228bc0c7429 button.colab-df-convert');\n",
              "        buttonEl.style.display =\n",
              "          google.colab.kernel.accessAllowed ? 'block' : 'none';\n",
              "\n",
              "        async function convertToInteractive(key) {\n",
              "          const element = document.querySelector('#df-004729d7-108a-4ee2-b25c-3228bc0c7429');\n",
              "          const dataTable =\n",
              "            await google.colab.kernel.invokeFunction('convertToInteractive',\n",
              "                                                     [key], {});\n",
              "          if (!dataTable) return;\n",
              "\n",
              "          const docLinkHtml = 'Like what you see? Visit the ' +\n",
              "            '<a target=\"_blank\" href=https://colab.research.google.com/notebooks/data_table.ipynb>data table notebook</a>'\n",
              "            + ' to learn more about interactive tables.';\n",
              "          element.innerHTML = '';\n",
              "          dataTable['output_type'] = 'display_data';\n",
              "          await google.colab.output.renderOutput(dataTable, element);\n",
              "          const docLink = document.createElement('div');\n",
              "          docLink.innerHTML = docLinkHtml;\n",
              "          element.appendChild(docLink);\n",
              "        }\n",
              "      </script>\n",
              "    </div>\n",
              "  </div>\n",
              "  "
            ]
          },
          "metadata": {},
          "execution_count": 98
        }
      ]
    },
    {
      "cell_type": "code",
      "source": [
        "tree = DecisionTreeClassifier(random_state=1, max_depth = 16, max_leaf_nodes=15, max_features=24, \n",
        "                              ccp_alpha = 0.002522701041957589)\n",
        "\n",
        "cross_val_ypred = cross_val_predict(tree, X_train, y_train, cv = 5, method = 'predict_proba')\n",
        "\n",
        "tree.fit(X_train, y_train)\n",
        "\n",
        "p, r, thresholds = precision_recall_curve(y_train, cross_val_ypred[:,1])\n",
        "accuracy_list = []\n",
        "\n",
        "for t in thresholds:\n",
        "  y_pred_prob = tree.predict_proba(X_train)[:,1]\n",
        "  y_pred = y_pred_prob > t\n",
        "  y_pred = y_pred.astype(int)\n",
        "  accuracy = (accuracy_score(y_pred, y_train))\n",
        "  accuracy_list.append(accuracy)\n",
        "\n",
        "def plot_accuracy_recall_vs_threshold(accuracy, recalls, thresholds):\n",
        "  plt.figure(figsize=(8,8))\n",
        "  plt.title(\"Accuracy and Recall Scores as a function of the decision threshold\")\n",
        "  plt.plot(thresholds, accuracy_list, \"b--\", label = \"Accuracy\")\n",
        "  plt.plot(thresholds, recalls[:-1], 'g-', label = \"Recall\")\n",
        "  plt.plot(thresholds, accuracy_list, 'o', color = 'blue')\n",
        "  plt.plot(thresholds, recalls[:-1], 'o', color = 'green')\n",
        "  plt.ylabel('Score')\n",
        "  plt.xlabel('Decision Threshold')\n",
        "  plt.legend(loc='best')\n",
        "  plt.legend()\n",
        "plot_accuracy_recall_vs_threshold(accuracy_list, r, thresholds)"
      ],
      "metadata": {
        "colab": {
          "base_uri": "https://localhost:8080/",
          "height": 718
        },
        "id": "hrmAYaUMr4S9",
        "outputId": "d121db4e-450e-4e2b-e3b6-e0357153ddfe"
      },
      "execution_count": 93,
      "outputs": [
        {
          "output_type": "display_data",
          "data": {
            "text/plain": [
              "<Figure size 800x800 with 1 Axes>"
            ],
            "image/png": "[encoded data removed]"
          },
          "metadata": {}
        }
      ]
    },
    {
      "cell_type": "code",
      "source": [
        "# Performance metrics computation for the optimum decision threshold probability\n",
        "desired_threshold = 0.231\n",
        "\n",
        "tree.fit(X_train, y_train)\n",
        "\n",
        "y_pred_prob = tree.predict_proba(X_train)[:,1] \n",
        "\n",
        "# Classifying observations in the positive class (y = 1) if the predicted probability is greater\n",
        "# than the desired decision threshold probability\n",
        "y_pred = y_pred_prob > desired_threshold\n",
        "y_pred = y_pred.astype(int)\n",
        "\n",
        "#Computing the accuracy\n",
        "print(\"Accuracy: \",accuracy_score(y_pred, y_train)*100)  \n",
        "\n",
        "#Computing the ROC-AUC\n",
        "fpr, tpr, auc_thresholds = roc_curve(y_train, y_pred_prob)\n",
        "print(\"ROC-AUC: \",auc(fpr, tpr))# AUC of ROC\n",
        "\n",
        "#Computing the precision and recall\n",
        "print(\"Precision: \", precision_score(y_train, y_pred))\n",
        "print(\"Recall: \", recall_score(y_train, y_pred))\n",
        "\n",
        "#Confusion matrix\n",
        "cm = pd.DataFrame(confusion_matrix(y_train, y_pred), \n",
        "                  columns=['Predicted 0', 'Predicted 1'], index = ['Actual 0', 'Actual 1'])\n",
        "sns.heatmap(cm, annot=True, cmap='Blues', fmt='g');"
      ],
      "metadata": {
        "colab": {
          "base_uri": "https://localhost:8080/",
          "height": 501
        },
        "id": "ZFX0NUv_r4S9",
        "outputId": "2c7b1dfd-b929-4154-a736-2e966deb3629"
      },
      "execution_count": 99,
      "outputs": [
        {
          "output_type": "stream",
          "name": "stdout",
          "text": [
            "Accuracy:  85.83\n",
            "ROC-AUC:  0.9014909433636554\n",
            "Precision:  0.678391959798995\n",
            "Recall:  0.8460634547591069\n"
          ]
        },
        {
          "output_type": "display_data",
          "data": {
            "text/plain": [
              "<Figure size 640x480 with 2 Axes>"
            ],
            "image/png": "[encoded data removed]"
          },
          "metadata": {}
        }
      ]
    },
    {
      "cell_type": "code",
      "source": [
        "# Performance metrics computation for the optimum decision threshold probability\n",
        "desired_threshold = 0.231\n",
        "\n",
        "tree.fit(X_train, y_train)\n",
        "\n",
        "y_pred_prob = tree.predict_proba(X_test)[:,1] \n",
        "\n",
        "# Classifying observations in the positive class (y = 1) if the predicted probability is greater\n",
        "# than the desired decision threshold probability\n",
        "y_pred = y_pred_prob > desired_threshold\n",
        "y_pred = y_pred.astype(int)\n",
        "\n",
        "#Computing the accuracy\n",
        "print(\"Accuracy: \",accuracy_score(y_pred, y_test)*100)  \n",
        "\n",
        "#Computing the ROC-AUC\n",
        "fpr, tpr, auc_thresholds = roc_curve(y_test, y_pred_prob)\n",
        "print(\"ROC-AUC: \",auc(fpr, tpr))# AUC of ROC\n",
        "\n",
        "#Computing the precision and recall\n",
        "print(\"Precision: \", precision_score(y_test, y_pred))\n",
        "print(\"Recall: \", recall_score(y_test, y_pred))\n",
        "\n",
        "#Confusion matrix\n",
        "cm = pd.DataFrame(confusion_matrix(y_test, y_pred), \n",
        "                  columns=['Predicted 0', 'Predicted 1'], index = ['Actual 0', 'Actual 1'])\n",
        "sns.heatmap(cm, annot=True, cmap='Blues', fmt='g');"
      ],
      "metadata": {
        "colab": {
          "base_uri": "https://localhost:8080/",
          "height": 501
        },
        "id": "HA42cvoAr4S9",
        "outputId": "54ceda0b-7a85-49c8-c0d1-4250bf05be43"
      },
      "execution_count": 100,
      "outputs": [
        {
          "output_type": "stream",
          "name": "stdout",
          "text": [
            "Accuracy:  82.22\n",
            "ROC-AUC:  0.8538356565853789\n",
            "Precision:  0.6645021645021645\n",
            "Recall:  0.7561576354679803\n"
          ]
        },
        {
          "output_type": "display_data",
          "data": {
            "text/plain": [
              "<Figure size 640x480 with 2 Axes>"
            ],
            "image/png": "[encoded data removed]"
          },
          "metadata": {}
        }
      ]
    },
    {
      "cell_type": "code",
      "source": [],
      "metadata": {
        "id": "E9iV3zkiYbZ6"
      },
      "execution_count": null,
      "outputs": []
    }
  ]
}